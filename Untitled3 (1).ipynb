{
 "cells": [
  {
   "cell_type": "code",
   "execution_count": 1,
   "metadata": {},
   "outputs": [],
   "source": [
    "import pandas as pd\n",
    "import seaborn as sns\n",
    "import glob\n",
    "import os\n",
    "from datetime import datetime as dt\n",
    "import matplotlib.pyplot as plt\n",
    "import plotly\n",
    "import plotly.express as px\n",
    "from tqdm import tqdm\n",
    "import time\n",
    "import numpy as np"
   ]
  },
  {
   "cell_type": "code",
   "execution_count": 2,
   "metadata": {},
   "outputs": [],
   "source": [
    "\n",
    "df_cupmen = pd.read_csv('/home/trial/APDATA/jupyter/SPAI/ Seasonal products/分析用/data/カップ麺2017~.csv', \\\n",
    "                           parse_dates=[0], encoding='cp932')\n"
   ]
  },
  {
   "cell_type": "code",
   "execution_count": 3,
   "metadata": {},
   "outputs": [],
   "source": [
    "mochi_df = pd.read_csv('/home/trial/APDATA/jupyter/SPAI/ Seasonal products/分析用/data/鏡餅昨年.csv', \\\n",
    "                           parse_dates=[0], encoding='cp932')\n",
    "simenawa_df = pd.read_csv('/home/trial/APDATA/jupyter/SPAI/ Seasonal products/分析用/data/しめ縄.csv', \\\n",
    "                           parse_dates=[0], encoding='cp932')\n",
    "kanbutu_df = pd.read_csv('/home/trial/APDATA/jupyter/SPAI/ Seasonal products/分析用/data/乾物エリア.csv', \\\n",
    "                           parse_dates=[0], encoding='cp932')\n",
    "hyakkin_df = pd.read_csv('/home/trial/APDATA/jupyter/SPAI/ Seasonal products/分析用/data/百均正月.csv', \\\n",
    "                           parse_dates=[0], encoding='cp932')\n",
    "df_bou = pd.read_csv('/home/trial/APDATA/jupyter/SPAI/ Seasonal products/分析用/data/防虫剤.csv', \\\n",
    "                           parse_dates=[0], encoding='cp932')\n",
    "\n",
    "# df_donabe = pd.read_csv('/home/trial/APDATA/jupyter/SPAI/ Seasonal products/分析用/data/土鍋行楽.csv', \\\n",
    "#                            parse_dates=[0], encoding='cp932')\n",
    "df_senzai = pd.read_csv('/home/trial/APDATA/jupyter/SPAI/ Seasonal products/分析用/data/衣料洗剤.csv', \\\n",
    "                           parse_dates=[0], encoding='cp932')\n",
    "df_inryo = pd.read_csv('/home/trial/APDATA/jupyter/SPAI/ Seasonal products/分析用/data/飲料.csv', \\\n",
    "                           parse_dates=[0], encoding='cp932')\n",
    "iwaizake = pd.read_csv('/home/trial/APDATA/jupyter/SPAI/ Seasonal products/分析用/data/祝酒.csv', \\\n",
    "                           parse_dates=[0], encoding='cp932')"
   ]
  },
  {
   "cell_type": "code",
   "execution_count": 4,
   "metadata": {},
   "outputs": [],
   "source": [
    "kogatapet = pd.read_csv('/home/trial/APDATA/jupyter/SPAI/ Seasonal products/分析用/data/小型飲料.csv', \\\n",
    "                           parse_dates=[0],encoding='cp932')\n",
    "ponpu = pd.read_csv('/home/trial/APDATA/jupyter/SPAI/ Seasonal products/分析用/data/灯油缶ポンプ.csv', \\\n",
    "                           parse_dates=[0], encoding='cp932')\n",
    "df_kairo = pd.read_csv('/home/trial/APDATA/jupyter/SPAI/ Seasonal products/分析用/data/カイロ.csv', \\\n",
    "                           parse_dates=[0], encoding='cp932')\n",
    "cristmas = pd.read_csv('/home/trial/APDATA/jupyter/SPAI/ Seasonal products/分析用/data/クリスマス.csv', \\\n",
    "                           parse_dates=[0], encoding='cp932')\n",
    "nabe_seasonal = pd.read_csv('/home/trial/APDATA/jupyter/SPAI/ Seasonal products/分析用/data/鍋・季節鍋.csv', \\\n",
    "                           parse_dates=[0], encoding='cp932')\n",
    "house_senzai = pd.read_csv('/home/trial/APDATA/jupyter/SPAI/ Seasonal products/分析用/data/住居洗剤.csv', \\\n",
    "                           parse_dates=[0], encoding='cp932')\n",
    "gift_senzai = pd.read_csv('/home/trial/APDATA/jupyter/SPAI/OKA/data/洗剤ギフト.csv', \\\n",
    "                           parse_dates=[0], encoding='cp932')\n",
    "df_gift = pd.read_csv(\"/home/trial/APDATA/jupyter/SPAI/ Seasonal products/分析用/data/gift.csv\"\\\n",
    "                 ,parse_dates=[0], encoding='cp932')\n",
    "df_kouraku = pd.read_csv(\"/home/trial/APDATA/jupyter/SPAI/OKA/data/df_kouraku.csv\"\\\n",
    "                 ,parse_dates=[0], encoding='cp932')\n",
    "df_okashi = pd.read_csv('/home/trial/APDATA/jupyter/SPAI/ Seasonal products/分析用/data/袋がし.csv', \\\n",
    "                           parse_dates=[0], encoding='cp932')\n",
    "df_nabesoup = pd.read_csv('/home/trial/APDATA/jupyter/SPAI/ Seasonal products/分析用/data/鍋つゆ.csv', \\\n",
    "                           parse_dates=[0], encoding='cp932')\n",
    "df_nyuyoku = pd.read_csv('/home/trial/APDATA/jupyter/SPAI/ Seasonal products/分析用/data/入浴剤.csv', \\\n",
    "                           parse_dates=[0], encoding='cp932')\n",
    "df_gift = df_gift.query(\"サブカテゴリー名=='ビールギフト'|サブカテゴリー名=='ギフト'|サブカテゴリー名=='飲料'\")\n",
    "df_gift = df_gift.append(gift_senzai)\n",
    "# hansi = pd.read_csv('/home/trial/APDATA/jupyter/SPAI/ Seasonal products/分析用/data/半紙・年賀.csv', \\\n",
    "#                            parse_dates=[0],encoding='cp932')"
   ]
  },
  {
   "cell_type": "code",
   "execution_count": 5,
   "metadata": {},
   "outputs": [],
   "source": [
    "# サブカテ単位で見るがテーマがあった方がわかりやすいので全部名前つけている\n",
    "mochi_df['テーマ'] = \"鏡餅\"\n",
    "simenawa_df['テーマ'] = \"しめ縄\"\n",
    "kanbutu_df['テーマ'] = \"乾物\"\n",
    "hyakkin_df['テーマ'] = \"百均\"\n",
    "iwaizake['テーマ'] = \"祝酒\"\n",
    "df_bou['テーマ'] = \"防虫剤\"\n",
    "df_cupmen['テーマ'] = \"カップ麺\"\n",
    "df_okashi.loc[df_okashi['カテゴリー名']=='チョコレート', 'テーマ']='チョコレート'\n",
    "df_okashi.loc[df_okashi['カテゴリー名']=='スナック', 'テーマ']='スナック'\n",
    "df_senzai['テーマ'] = \"衣料洗剤\"\n",
    "df_inryo['テーマ'] = \"飲料\"\n",
    "df_kouraku['テーマ'] = \"行楽\"\n",
    "ponpu['テーマ'] = \"灯油缶ポンプ\"\n",
    "df_kairo['テーマ'] = \"カイロ\"\n",
    "cristmas['テーマ'] = \"クリスマス\"\n",
    "kogatapet['テーマ'] = '小型PET'\n",
    "df_nabesoup['テーマ'] = '鍋つゆ'\n",
    "df_nyuyoku['テーマ'] = '入浴剤'\n",
    "df_gift['テーマ'] = 'お歳暮'\n",
    "nabe_seasonal['テーマ'] = '鍋・季節鍋'\n",
    "house_senzai['テーマ'] = '住居洗剤'\n",
    "# hansi.loc[hansi['サブカテゴリー名']=='書道','テーマ']='半紙'\n",
    "# hansi.loc[hansi['サブカテゴリー名']=='はがき','テーマ']='はがき'\n",
    "simenawa_df.loc[simenawa_df['サブカテゴリー名']=='正月用品','テーマ']='正月雑貨'\n",
    "simenawa_df.loc[simenawa_df['サブカテゴリー名']!='正月用品','テーマ']='しめ縄'\n",
    "df_kouraku['テーマ'] = '行楽'\n",
    "# df_donabe.loc[df_donabe['カテゴリー名']=='鍋・ケトル', 'テーマ']='鍋・季節鍋'\n",
    "# df_donabe.loc[df_donabe['カテゴリー名']=='行楽', 'テーマ']='行楽'\n",
    "# df_nabesoup['テーマ'] = \"鍋スープ\"\n",
    "# df_nyuyoku['テーマ'] = '入浴剤'\n",
    "# nabe_nyuyoku.loc[nabe_nyuyoku['カテゴリー名']!='入浴剤', 'テーマ']='つゆ・たれ'\n",
    "# nabe_nyuyoku.loc[nabe_nyuyoku['カテゴリー名']=='入浴剤', 'テーマ']='入浴剤'"
   ]
  },
  {
   "cell_type": "code",
   "execution_count": 6,
   "metadata": {},
   "outputs": [],
   "source": [
    "# SQLの操作でイベント（感謝祭）の情報を持ってきているよ\n",
    "import psycopg2\n",
    "connection = psycopg2.connect(\"host=10.2.5.50 port=5432 dbname=NumericalAnalysis user=analyst password=TRanalyst\")\n",
    "cur = connection.cursor()\n",
    "sql=\"SELECT day,store,kionmax,kionmin,kionavg,kousuryosum,shitsudoavg,fusokuavg \\\n",
    "     FROM webapi_weather as A,webapi_weather_store as B \\\n",
    "     WHERE A.prec_no=B.prec_no \\\n",
    "           and A.block_no=B.block_no \\\n",
    "           and A.day>='2014-01-01' \\\n",
    "            \" \n",
    "cur.execute(sql)\n",
    "result = []\n",
    "for row in cur:\n",
    "    result.append([row[0], row[1], row[2],row[3], row[4], row[5], row[6], row[7]])\n",
    "df_tenki=pd.DataFrame(result)\n",
    "df_tenki.columns=['ds','store','kionmax_0', \"kionmin_0\", \"kionavg_0\",'kousuiryo', \"shitsudo\", \"fusoku\"]\n",
    "df_tenki=df_tenki.sort_values(by=['store','ds']).reset_index(drop=True)\n",
    "# イベント\n",
    "cur = connection.cursor()\n",
    "sql=\"SELECT * FROM webapi_trial_event\" \n",
    "cur.execute(sql)\n",
    "result = []\n",
    "for row in cur:\n",
    "    result.append([row[0],row[1],1])\n",
    "df_trialevent=pd.DataFrame(result)\n",
    "df_trialevent.columns=[\"ds\",\"name\",\"event\"]\n",
    "df_trialevent['ds']=pd.to_datetime(df_trialevent['ds'])\n",
    "# df_trialevent=df_trialevent[[\"ds\",\"event\"]].copy()"
   ]
  },
  {
   "cell_type": "code",
   "execution_count": 7,
   "metadata": {},
   "outputs": [],
   "source": [
    "#合体させたデータフレームの作成、重複行の削除\n",
    "all_df = mochi_df.append([simenawa_df,kanbutu_df ,hyakkin_df ,df_bou,df_cupmen,df_okashi,df_senzai,\n",
    "df_inryo,iwaizake,kogatapet,ponpu ,df_kairo ,df_gift,cristmas,nabe_seasonal,house_senzai,\n",
    "                         df_kouraku,df_nabesoup,df_nyuyoku])\n",
    "all_df = all_df[~all_df.duplicated()]"
   ]
  },
  {
   "cell_type": "code",
   "execution_count": 8,
   "metadata": {},
   "outputs": [],
   "source": [
    "all_df['year'] = all_df['日'].dt.year\n",
    "all_df['dayofyear'] = all_df['日'].dt.dayofyear\n",
    "all_df['week'] = all_df['日'].dt.week"
   ]
  },
  {
   "cell_type": "code",
   "execution_count": 9,
   "metadata": {},
   "outputs": [
    {
     "data": {
      "text/plain": [
       "array(['充填', '丸餅', 'その他', '餅', '大福', '切り餅', '正月用品', '全国共通正月飾り', 'しめ縄',\n",
       "       '正月飾り関連', '地場正月飾り', '昆布', '海苔', 'あんこ', '粉類', 'しいたけ', 'はちみつ',\n",
       "       '製菓材料', '豆', '乾燥野菜', '瓶詰', '高野豆腐', 'だしの素', '野菜水煮', '洋風スパイス', 'いりこ',\n",
       "       'かつお', '正月用', 'お正月', '防虫剤', '主食サイズ', 'ミニサイズ', '大袋', '袋スナック',\n",
       "       '粉末洗剤', '液体洗剤', 'コンパクト洗剤', 'ボール洗剤', '高残香', '防臭', '基本機能', '香りビーズ',\n",
       "       '無添加自然', 'ドライ', '輸入', 'プレミアム', '香りミスト', '作業用', 'ケア', 'コーヒー（大型PET）',\n",
       "       'スポーツ・機能性（大型PET）', '果汁（大型PET）', '紅茶（大型PET）', '炭酸（大型PET）',\n",
       "       '乳性（大型PET）', '無糖茶（大型PET）', '祝い酒', 'カフェオレ', 'スポーツ', '低果汁飲料',\n",
       "       'ストレート', 'ミルク', 'コーラ炭酸', 'フルーツ炭酸・その他', '透明炭酸', '乳性炭酸', '乳性',\n",
       "       'ブレンド茶', 'ウーロン茶', '緑茶', '麦茶', 'ミネラルウォーター', '炭酸水', '炭酸水（フレーバー）',\n",
       "       '機能性・栄養', '100%ジュース', 'レモン', 'その他フレーバー', 'ジャスミン茶', 'その他_無糖茶',\n",
       "       'ミネラルウォーター（フレーバー）', '玄米茶', 'ほうじ茶', '無糖', 'お茶ラテ', 'オレンジ', '微糖',\n",
       "       '甘酒', '加糖', '灯油ポンプ', '灯油缶', '貼るカイロ', '貼らないカイロ', '温熱器具・シート', '足用',\n",
       "       'ギフト', 'ビールギフト', '飲料', '定価1000円台', '定価2000円台', '定価3000円台',\n",
       "       '定価5000円台', 'クリスマス', '鍋', '季節鍋', '特殊鍋', 'トイレシート', 'カビ取り剤',\n",
       "       'バスクリーナー', 'オールパーパス', 'ガラス・網戸', 'トイレクリーナー', 'パイプクリーナー', 'ワックス',\n",
       "       'ダストワイパー', 'ダニ・ハウスダスト', 'エアコンクリーナー', 'おかずケース', 'プレート', 'ボウル',\n",
       "       'どんぶり・カレー皿・トレー', '割り箸', '使い捨てカップ', '爪楊枝・串', 'ランチボックス', '行楽弁当小物',\n",
       "       'おしぼり・ナプキン', 'ストロー', 'フードパック', '使い捨てカトラリー', 'ダイレクトボトル', 'コップ付ボトル',\n",
       "       'レジャーバッグ', 'マグボトル', 'コーヒーマグ', '保温・保冷ジャー', 'ｷｯｽﾞ', 'レディス', '弁当関連',\n",
       "       'レジャーシート', '卓上タンブラー', 'ﾒﾝｽﾞ', '子供ボトル', '水筒小物', 'その他（行楽用品）', 'ジャグ',\n",
       "       'アウトドアボトル', 'メニュー限定', '鍋スープ', '炭酸ガス温浴', '一般薬用（温浴）', 'スキンケア液体',\n",
       "       '温泉風シリーズ', 'スキンケア粉末', '入浴剤その他', 'シャワーケア剤', '一般薬用（清涼）', '炭酸ガス清涼'],\n",
       "      dtype=object)"
      ]
     },
     "execution_count": 9,
     "metadata": {},
     "output_type": "execute_result"
    }
   ],
   "source": [
    "all_df['サブカテゴリー名'].unique()\n"
   ]
  },
  {
   "cell_type": "code",
   "execution_count": 10,
   "metadata": {},
   "outputs": [
    {
     "data": {
      "text/html": [
       "<div>\n",
       "<style scoped>\n",
       "    .dataframe tbody tr th:only-of-type {\n",
       "        vertical-align: middle;\n",
       "    }\n",
       "\n",
       "    .dataframe tbody tr th {\n",
       "        vertical-align: top;\n",
       "    }\n",
       "\n",
       "    .dataframe thead th {\n",
       "        text-align: right;\n",
       "    }\n",
       "</style>\n",
       "<table border=\"1\" class=\"dataframe\">\n",
       "  <thead>\n",
       "    <tr style=\"text-align: right;\">\n",
       "      <th></th>\n",
       "      <th>ds</th>\n",
       "      <th>name</th>\n",
       "      <th>event</th>\n",
       "      <th>year</th>\n",
       "      <th>week</th>\n",
       "    </tr>\n",
       "  </thead>\n",
       "  <tbody>\n",
       "    <tr>\n",
       "      <th>0</th>\n",
       "      <td>2014-08-13</td>\n",
       "      <td>盆</td>\n",
       "      <td>1</td>\n",
       "      <td>2014</td>\n",
       "      <td>33</td>\n",
       "    </tr>\n",
       "  </tbody>\n",
       "</table>\n",
       "</div>"
      ],
      "text/plain": [
       "          ds name  event  year  week\n",
       "0 2014-08-13    盆      1  2014    33"
      ]
     },
     "execution_count": 10,
     "metadata": {},
     "output_type": "execute_result"
    }
   ],
   "source": [
    "df_trialevent['year'] = df_trialevent['ds'].dt.year\n",
    "df_trialevent['week'] = df_trialevent['ds'].dt.week\n",
    "df_trialevent.head(1)"
   ]
  },
  {
   "cell_type": "code",
   "execution_count": null,
   "metadata": {},
   "outputs": [],
   "source": []
  },
  {
   "cell_type": "code",
   "execution_count": 11,
   "metadata": {},
   "outputs": [
    {
     "data": {
      "text/plain": [
       "0           福岡\n",
       "1           福岡\n",
       "2           福岡\n",
       "3           福岡\n",
       "4           福岡\n",
       "          ... \n",
       "5743125    福岡南\n",
       "5743126    福岡南\n",
       "5743127    福岡南\n",
       "5743128    福岡南\n",
       "5743129    福岡南\n",
       "Name: エリア名, Length: 5743130, dtype: object"
      ]
     },
     "execution_count": 11,
     "metadata": {},
     "output_type": "execute_result"
    }
   ],
   "source": [
    "df_cupmen['エリア名']"
   ]
  },
  {
   "cell_type": "code",
   "execution_count": 12,
   "metadata": {},
   "outputs": [],
   "source": [
    "# 2017年以降のデータをみる\n",
    "all_dfweek = all_df.query(\"year>=2017\")[['week','year','テーマ','エリア名','サブカテゴリー名','サブセグメント名','売上数量']].groupby\\\n",
    "(['week','year','テーマ','エリア名','サブセグメント名','サブカテゴリー名']).sum().reset_index()\n",
    "#感謝祭の週を出す\n",
    "kansya_event = df_trialevent.loc[df_trialevent['name'].str.contains('感謝祭')][['week','year','event']]\n",
    "all_dfweek = all_dfweek.merge(kansya_event[~kansya_event.duplicated()]\\\n",
    "                        , how='left',on=['year','week']).fillna(0)\n",
    "all_dfweek.loc[all_dfweek['event']==1, '売上数量']= np.nan"
   ]
  },
  {
   "cell_type": "code",
   "execution_count": 13,
   "metadata": {},
   "outputs": [],
   "source": [
    "#感謝祭の週のデータを前後の値で補間する_サブカテゴリー\n",
    "all_df_subcate = all_df.query(\"year>=2017\")[['week','year','テーマ','エリア名','サブカテゴリー名','売上数量']].groupby\\\n",
    "(['week','year','テーマ','エリア名','サブカテゴリー名']).sum().reset_index()\n",
    "all_df_subcate = all_df_subcate.sort_values\\\n",
    "(['エリア名','サブカテゴリー名','year','week'],ascending=[True,True,True,True])\n",
    "all_df_subcate = all_df_subcate.interpolate().reset_index(drop=True)\n"
   ]
  },
  {
   "cell_type": "code",
   "execution_count": 14,
   "metadata": {},
   "outputs": [],
   "source": [
    "#感謝祭の週のデータを前後の値で補間する_サブセグメント\n",
    "all_dfweek = all_df.query(\"year>=2017\")[['week','year','テーマ','エリア名','サブセグメント名','売上数量']].groupby\\\n",
    "(['week','year','テーマ','エリア名','サブセグメント名']).sum().reset_index()\n",
    "all_dfweek = all_dfweek.sort_values\\\n",
    "(['エリア名','サブセグメント名','year','week'],ascending=[True,True,True,True])\n",
    "all_dfweek = all_dfweek.interpolate().reset_index(drop=True)"
   ]
  },
  {
   "cell_type": "code",
   "execution_count": 15,
   "metadata": {},
   "outputs": [
    {
     "data": {
      "text/html": [
       "<div>\n",
       "<style scoped>\n",
       "    .dataframe tbody tr th:only-of-type {\n",
       "        vertical-align: middle;\n",
       "    }\n",
       "\n",
       "    .dataframe tbody tr th {\n",
       "        vertical-align: top;\n",
       "    }\n",
       "\n",
       "    .dataframe thead th {\n",
       "        text-align: right;\n",
       "    }\n",
       "</style>\n",
       "<table border=\"1\" class=\"dataframe\">\n",
       "  <thead>\n",
       "    <tr style=\"text-align: right;\">\n",
       "      <th></th>\n",
       "      <th>week</th>\n",
       "      <th>year</th>\n",
       "      <th>テーマ</th>\n",
       "      <th>エリア名</th>\n",
       "      <th>サブセグメント名</th>\n",
       "      <th>売上数量</th>\n",
       "    </tr>\n",
       "  </thead>\n",
       "  <tbody>\n",
       "    <tr>\n",
       "      <th>0</th>\n",
       "      <td>1</td>\n",
       "      <td>2019</td>\n",
       "      <td>行楽</td>\n",
       "      <td>佐賀西</td>\n",
       "      <td>1000ＭＬ～</td>\n",
       "      <td>1</td>\n",
       "    </tr>\n",
       "    <tr>\n",
       "      <th>1</th>\n",
       "      <td>48</td>\n",
       "      <td>2019</td>\n",
       "      <td>行楽</td>\n",
       "      <td>佐賀西</td>\n",
       "      <td>1000ＭＬ～</td>\n",
       "      <td>2</td>\n",
       "    </tr>\n",
       "    <tr>\n",
       "      <th>2</th>\n",
       "      <td>49</td>\n",
       "      <td>2019</td>\n",
       "      <td>行楽</td>\n",
       "      <td>佐賀西</td>\n",
       "      <td>1000ＭＬ～</td>\n",
       "      <td>1</td>\n",
       "    </tr>\n",
       "    <tr>\n",
       "      <th>3</th>\n",
       "      <td>50</td>\n",
       "      <td>2019</td>\n",
       "      <td>行楽</td>\n",
       "      <td>佐賀西</td>\n",
       "      <td>1000ＭＬ～</td>\n",
       "      <td>4</td>\n",
       "    </tr>\n",
       "    <tr>\n",
       "      <th>4</th>\n",
       "      <td>51</td>\n",
       "      <td>2019</td>\n",
       "      <td>行楽</td>\n",
       "      <td>佐賀西</td>\n",
       "      <td>1000ＭＬ～</td>\n",
       "      <td>1</td>\n",
       "    </tr>\n",
       "    <tr>\n",
       "      <th>...</th>\n",
       "      <td>...</td>\n",
       "      <td>...</td>\n",
       "      <td>...</td>\n",
       "      <td>...</td>\n",
       "      <td>...</td>\n",
       "      <td>...</td>\n",
       "    </tr>\n",
       "    <tr>\n",
       "      <th>287281</th>\n",
       "      <td>6</td>\n",
       "      <td>2020</td>\n",
       "      <td>行楽</td>\n",
       "      <td>筑豊</td>\n",
       "      <td>ﾍﾞｰｼｯｸ</td>\n",
       "      <td>1</td>\n",
       "    </tr>\n",
       "    <tr>\n",
       "      <th>287282</th>\n",
       "      <td>7</td>\n",
       "      <td>2020</td>\n",
       "      <td>行楽</td>\n",
       "      <td>筑豊</td>\n",
       "      <td>ﾍﾞｰｼｯｸ</td>\n",
       "      <td>1</td>\n",
       "    </tr>\n",
       "    <tr>\n",
       "      <th>287283</th>\n",
       "      <td>8</td>\n",
       "      <td>2020</td>\n",
       "      <td>行楽</td>\n",
       "      <td>筑豊</td>\n",
       "      <td>ﾍﾞｰｼｯｸ</td>\n",
       "      <td>2</td>\n",
       "    </tr>\n",
       "    <tr>\n",
       "      <th>287284</th>\n",
       "      <td>9</td>\n",
       "      <td>2020</td>\n",
       "      <td>行楽</td>\n",
       "      <td>筑豊</td>\n",
       "      <td>ﾍﾞｰｼｯｸ</td>\n",
       "      <td>1</td>\n",
       "    </tr>\n",
       "    <tr>\n",
       "      <th>287285</th>\n",
       "      <td>12</td>\n",
       "      <td>2020</td>\n",
       "      <td>行楽</td>\n",
       "      <td>筑豊</td>\n",
       "      <td>ﾍﾞｰｼｯｸ</td>\n",
       "      <td>1</td>\n",
       "    </tr>\n",
       "  </tbody>\n",
       "</table>\n",
       "<p>287286 rows × 6 columns</p>\n",
       "</div>"
      ],
      "text/plain": [
       "        week  year テーマ エリア名 サブセグメント名  売上数量\n",
       "0          1  2019  行楽  佐賀西  1000ＭＬ～     1\n",
       "1         48  2019  行楽  佐賀西  1000ＭＬ～     2\n",
       "2         49  2019  行楽  佐賀西  1000ＭＬ～     1\n",
       "3         50  2019  行楽  佐賀西  1000ＭＬ～     4\n",
       "4         51  2019  行楽  佐賀西  1000ＭＬ～     1\n",
       "...      ...   ...  ..  ...      ...   ...\n",
       "287281     6  2020  行楽   筑豊   ﾍﾞｰｼｯｸ     1\n",
       "287282     7  2020  行楽   筑豊   ﾍﾞｰｼｯｸ     1\n",
       "287283     8  2020  行楽   筑豊   ﾍﾞｰｼｯｸ     2\n",
       "287284     9  2020  行楽   筑豊   ﾍﾞｰｼｯｸ     1\n",
       "287285    12  2020  行楽   筑豊   ﾍﾞｰｼｯｸ     1\n",
       "\n",
       "[287286 rows x 6 columns]"
      ]
     },
     "execution_count": 15,
     "metadata": {},
     "output_type": "execute_result"
    }
   ],
   "source": [
    "all_dfweek"
   ]
  },
  {
   "cell_type": "code",
   "execution_count": 16,
   "metadata": {},
   "outputs": [
    {
     "name": "stderr",
     "output_type": "stream",
     "text": [
      "  0%|                                                                                                                                            | 0/4 [00:00<?, ?it/s]/usr/lib/python3.6/site-packages/ipykernel_launcher.py:8: SettingWithCopyWarning:\n",
      "\n",
      "\n",
      "A value is trying to be set on a copy of a slice from a DataFrame.\n",
      "Try using .loc[row_indexer,col_indexer] = value instead\n",
      "\n",
      "See the caveats in the documentation: https://pandas.pydata.org/pandas-docs/stable/user_guide/indexing.html#returning-a-view-versus-a-copy\n",
      "\n",
      "/usr/lib/python3.6/site-packages/ipykernel_launcher.py:9: SettingWithCopyWarning:\n",
      "\n",
      "\n",
      "A value is trying to be set on a copy of a slice from a DataFrame.\n",
      "Try using .loc[row_indexer,col_indexer] = value instead\n",
      "\n",
      "See the caveats in the documentation: https://pandas.pydata.org/pandas-docs/stable/user_guide/indexing.html#returning-a-view-versus-a-copy\n",
      "\n",
      "100%|███████████████████████████████████████████████████████████████████████████████████████████████████████████████████████████████████| 4/4 [15:19<00:00, 229.95s/it]\n"
     ]
    }
   ],
   "source": [
    "tmpFrame2 = pd.DataFrame(columns=\\\n",
    "                         ['week','year','エリア名','サブセグメント名','売上数量','前日売数','前日売数差'])\n",
    "\n",
    "for m in tqdm(all_dfweek['year'].unique()):\n",
    "    tmp = all_dfweek.loc[all_dfweek['year']== m,:]\n",
    "    for i in tmp['エリア名'].unique():\n",
    "        for k in tmp['サブセグメント名'].unique():\n",
    "            tmp4 = tmp.loc[(tmp['エリア名']== i)&(tmp['サブセグメント名']== k) ,:]\n",
    "            tmp4['前日売数'] = tmp4['売上数量'].shift()\n",
    "            tmp4['前日売数差'] = tmp4['売上数量'] - tmp4['前日売数']\n",
    "            tmpFrame2 = tmpFrame2.append(tmp4)"
   ]
  },
  {
   "cell_type": "code",
   "execution_count": 17,
   "metadata": {},
   "outputs": [
    {
     "data": {
      "text/html": [
       "<div>\n",
       "<style scoped>\n",
       "    .dataframe tbody tr th:only-of-type {\n",
       "        vertical-align: middle;\n",
       "    }\n",
       "\n",
       "    .dataframe tbody tr th {\n",
       "        vertical-align: top;\n",
       "    }\n",
       "\n",
       "    .dataframe thead th {\n",
       "        text-align: right;\n",
       "    }\n",
       "</style>\n",
       "<table border=\"1\" class=\"dataframe\">\n",
       "  <thead>\n",
       "    <tr style=\"text-align: right;\">\n",
       "      <th></th>\n",
       "      <th>week</th>\n",
       "      <th>year</th>\n",
       "      <th>エリア名</th>\n",
       "      <th>サブセグメント名</th>\n",
       "      <th>売上数量</th>\n",
       "      <th>前日売数</th>\n",
       "      <th>前日売数差</th>\n",
       "      <th>テーマ</th>\n",
       "    </tr>\n",
       "  </thead>\n",
       "  <tbody>\n",
       "    <tr>\n",
       "      <th>0</th>\n",
       "      <td>1</td>\n",
       "      <td>2019</td>\n",
       "      <td>佐賀西</td>\n",
       "      <td>1000ＭＬ～</td>\n",
       "      <td>1</td>\n",
       "      <td>NaN</td>\n",
       "      <td>NaN</td>\n",
       "      <td>行楽</td>\n",
       "    </tr>\n",
       "    <tr>\n",
       "      <th>1</th>\n",
       "      <td>48</td>\n",
       "      <td>2019</td>\n",
       "      <td>佐賀西</td>\n",
       "      <td>1000ＭＬ～</td>\n",
       "      <td>2</td>\n",
       "      <td>1.0</td>\n",
       "      <td>1.0</td>\n",
       "      <td>行楽</td>\n",
       "    </tr>\n",
       "    <tr>\n",
       "      <th>2</th>\n",
       "      <td>49</td>\n",
       "      <td>2019</td>\n",
       "      <td>佐賀西</td>\n",
       "      <td>1000ＭＬ～</td>\n",
       "      <td>1</td>\n",
       "      <td>2.0</td>\n",
       "      <td>-1.0</td>\n",
       "      <td>行楽</td>\n",
       "    </tr>\n",
       "    <tr>\n",
       "      <th>3</th>\n",
       "      <td>50</td>\n",
       "      <td>2019</td>\n",
       "      <td>佐賀西</td>\n",
       "      <td>1000ＭＬ～</td>\n",
       "      <td>4</td>\n",
       "      <td>1.0</td>\n",
       "      <td>3.0</td>\n",
       "      <td>行楽</td>\n",
       "    </tr>\n",
       "    <tr>\n",
       "      <th>4</th>\n",
       "      <td>51</td>\n",
       "      <td>2019</td>\n",
       "      <td>佐賀西</td>\n",
       "      <td>1000ＭＬ～</td>\n",
       "      <td>1</td>\n",
       "      <td>4.0</td>\n",
       "      <td>-3.0</td>\n",
       "      <td>行楽</td>\n",
       "    </tr>\n",
       "  </tbody>\n",
       "</table>\n",
       "</div>"
      ],
      "text/plain": [
       "  week  year エリア名 サブセグメント名 売上数量  前日売数  前日売数差 テーマ\n",
       "0    1  2019  佐賀西  1000ＭＬ～    1   NaN    NaN  行楽\n",
       "1   48  2019  佐賀西  1000ＭＬ～    2   1.0    1.0  行楽\n",
       "2   49  2019  佐賀西  1000ＭＬ～    1   2.0   -1.0  行楽\n",
       "3   50  2019  佐賀西  1000ＭＬ～    4   1.0    3.0  行楽\n",
       "4   51  2019  佐賀西  1000ＭＬ～    1   4.0   -3.0  行楽"
      ]
     },
     "execution_count": 17,
     "metadata": {},
     "output_type": "execute_result"
    }
   ],
   "source": [
    "tmpFrame2.head()"
   ]
  },
  {
   "cell_type": "markdown",
   "metadata": {},
   "source": [
    "#### ここでテーマを変えて見る"
   ]
  },
  {
   "cell_type": "code",
   "execution_count": 18,
   "metadata": {},
   "outputs": [],
   "source": [
    "Theme = 'カップ麺'"
   ]
  },
  {
   "cell_type": "code",
   "execution_count": 19,
   "metadata": {},
   "outputs": [
    {
     "data": {
      "text/plain": [
       "array(['行楽', '住居洗剤', '入浴剤', '乾物', '鍋・季節鍋', 'チョコレート', 'カップ麺', '正月雑貨',\n",
       "       '防虫剤', 'スナック', 'お歳暮', 'しめ縄', 'カイロ', 'クリスマス', '衣料洗剤', '小型PET', '飲料',\n",
       "       '鏡餅', '鍋つゆ', '灯油缶ポンプ', '祝酒', '百均'], dtype=object)"
      ]
     },
     "execution_count": 19,
     "metadata": {},
     "output_type": "execute_result"
    }
   ],
   "source": [
    "tmpFrame2['テーマ'].unique()"
   ]
  },
  {
   "cell_type": "code",
   "execution_count": 20,
   "metadata": {},
   "outputs": [
    {
     "data": {
      "text/plain": [
       "array(['うどん', 'そば', 'バラエティパック', 'ラーメン', 'ワンタン', '焼そば'], dtype=object)"
      ]
     },
     "execution_count": 20,
     "metadata": {},
     "output_type": "execute_result"
    }
   ],
   "source": [
    "tmpFrame2.loc[tmpFrame2['テーマ']== Theme]['サブセグメント名'].unique()"
   ]
  },
  {
   "cell_type": "code",
   "execution_count": null,
   "metadata": {},
   "outputs": [],
   "source": []
  },
  {
   "cell_type": "markdown",
   "metadata": {},
   "source": [
    "#### サブカテをかえる"
   ]
  },
  {
   "cell_type": "code",
   "execution_count": 21,
   "metadata": {},
   "outputs": [],
   "source": [
    "Subcate = 'そば'"
   ]
  },
  {
   "cell_type": "code",
   "execution_count": 22,
   "metadata": {},
   "outputs": [
    {
     "data": {
      "text/plain": [
       "2.5"
      ]
     },
     "execution_count": 22,
     "metadata": {},
     "output_type": "execute_result"
    }
   ],
   "source": [
    "#売れ数上昇\n",
    "ret_df = tmpFrame2.loc[(tmpFrame2['テーマ']== Theme)&(tmpFrame2['サブセグメント名']== Subcate)].fillna(0)\n",
    "ret = ret_df.query('week>=40').query('week<=51').groupby(['year','エリア名']).apply(lambda d:d.loc[d['前日売数差'].idxmax()]).reset_index(drop=True)\n",
    "ret_mean1 =ret['week'].mean()\n",
    "ret_mean1\n",
    "#下降\n",
    "ret2 = ret_df.query('week<=5').groupby(['year','エリア名']).apply(lambda d:d.loc[d['前日売数差'].idxmin()]).reset_index(drop=True)\n",
    "ret_mean2 = ret2['week'].mean()\n",
    "ret_mean2"
   ]
  },
  {
   "cell_type": "code",
   "execution_count": 23,
   "metadata": {},
   "outputs": [
    {
     "data": {
      "text/plain": [
       "48.095238095238095"
      ]
     },
     "execution_count": 23,
     "metadata": {},
     "output_type": "execute_result"
    }
   ],
   "source": [
    "ret_mean1"
   ]
  },
  {
   "cell_type": "code",
   "execution_count": 24,
   "metadata": {},
   "outputs": [
    {
     "data": {
      "text/plain": [
       "2.051320195666191"
      ]
     },
     "execution_count": 24,
     "metadata": {},
     "output_type": "execute_result"
    }
   ],
   "source": [
    "peak = ret_df.loc[(ret_df[\"week\"]>= ret_mean1)|(ret_df[\"week\"]<= ret_mean2)].groupby([\"year\",\"week\"])[\"売上数量\"].sum().reset_index()\n",
    "peak.rename(columns={\"売上数量\":\"ピーク数量\"}, inplace=True)\n",
    "not_peak = ret_df.loc[(ret_df[\"week\"]<= ret_mean1)&(ret_df[\"week\"]>= ret_mean2)].groupby([\"year\",\"week\"])[\"売上数量\"].sum().reset_index()\n",
    "not_peak.rename(columns={\"売上数量\":\"非ピーク数量\"}, inplace=True)\n",
    "\n",
    "peak = peak.groupby([\"year\"])[\"ピーク数量\"].mean().reset_index()\n",
    "not_peak = not_peak.groupby([\"year\"])[\"非ピーク数量\"].mean().reset_index()\n",
    "\n",
    "df_peak_rate = peak.merge(not_peak, on=\"year\")\n",
    "\n",
    "df_peak_rate[\"rate\"]=df_peak_rate[\"ピーク数量\"]/df_peak_rate[\"非ピーク数量\"]\n",
    "df_peak_rate.query(\"year>=2017\")['rate'].mean()"
   ]
  },
  {
   "cell_type": "code",
   "execution_count": 25,
   "metadata": {},
   "outputs": [
    {
     "data": {
      "image/png": "[encoded data removed]",
      "text/plain": [
       "<Figure size 1152x288 with 1 Axes>"
      ]
     },
     "metadata": {},
     "output_type": "display_data"
    }
   ],
   "source": [
    "#売上数量\n",
    "plt.figure(figsize=(16,4))\n",
    "plt.bar(ret_df[\"week\"],ret_df[\"売上数量\"])\n",
    "plt.grid(True)"
   ]
  },
  {
   "cell_type": "code",
   "execution_count": 26,
   "metadata": {},
   "outputs": [
    {
     "data": {
      "text/html": [
       "<div>\n",
       "<style scoped>\n",
       "    .dataframe tbody tr th:only-of-type {\n",
       "        vertical-align: middle;\n",
       "    }\n",
       "\n",
       "    .dataframe tbody tr th {\n",
       "        vertical-align: top;\n",
       "    }\n",
       "\n",
       "    .dataframe thead th {\n",
       "        text-align: right;\n",
       "    }\n",
       "</style>\n",
       "<table border=\"1\" class=\"dataframe\">\n",
       "  <thead>\n",
       "    <tr style=\"text-align: right;\">\n",
       "      <th></th>\n",
       "      <th>week</th>\n",
       "      <th>year</th>\n",
       "      <th>エリア名</th>\n",
       "      <th>サブセグメント名</th>\n",
       "      <th>売上数量</th>\n",
       "      <th>前日売数</th>\n",
       "      <th>前日売数差</th>\n",
       "      <th>テーマ</th>\n",
       "    </tr>\n",
       "  </thead>\n",
       "  <tbody>\n",
       "    <tr>\n",
       "      <th>0</th>\n",
       "      <td>1</td>\n",
       "      <td>2019</td>\n",
       "      <td>佐賀西</td>\n",
       "      <td>1000ＭＬ～</td>\n",
       "      <td>1</td>\n",
       "      <td>NaN</td>\n",
       "      <td>NaN</td>\n",
       "      <td>行楽</td>\n",
       "    </tr>\n",
       "    <tr>\n",
       "      <th>1</th>\n",
       "      <td>48</td>\n",
       "      <td>2019</td>\n",
       "      <td>佐賀西</td>\n",
       "      <td>1000ＭＬ～</td>\n",
       "      <td>2</td>\n",
       "      <td>1.0</td>\n",
       "      <td>1.0</td>\n",
       "      <td>行楽</td>\n",
       "    </tr>\n",
       "    <tr>\n",
       "      <th>2</th>\n",
       "      <td>49</td>\n",
       "      <td>2019</td>\n",
       "      <td>佐賀西</td>\n",
       "      <td>1000ＭＬ～</td>\n",
       "      <td>1</td>\n",
       "      <td>2.0</td>\n",
       "      <td>-1.0</td>\n",
       "      <td>行楽</td>\n",
       "    </tr>\n",
       "    <tr>\n",
       "      <th>3</th>\n",
       "      <td>50</td>\n",
       "      <td>2019</td>\n",
       "      <td>佐賀西</td>\n",
       "      <td>1000ＭＬ～</td>\n",
       "      <td>4</td>\n",
       "      <td>1.0</td>\n",
       "      <td>3.0</td>\n",
       "      <td>行楽</td>\n",
       "    </tr>\n",
       "    <tr>\n",
       "      <th>4</th>\n",
       "      <td>51</td>\n",
       "      <td>2019</td>\n",
       "      <td>佐賀西</td>\n",
       "      <td>1000ＭＬ～</td>\n",
       "      <td>1</td>\n",
       "      <td>4.0</td>\n",
       "      <td>-3.0</td>\n",
       "      <td>行楽</td>\n",
       "    </tr>\n",
       "    <tr>\n",
       "      <th>...</th>\n",
       "      <td>...</td>\n",
       "      <td>...</td>\n",
       "      <td>...</td>\n",
       "      <td>...</td>\n",
       "      <td>...</td>\n",
       "      <td>...</td>\n",
       "      <td>...</td>\n",
       "      <td>...</td>\n",
       "    </tr>\n",
       "    <tr>\n",
       "      <th>254212</th>\n",
       "      <td>10</td>\n",
       "      <td>2018</td>\n",
       "      <td>筑豊</td>\n",
       "      <td>コーヒー</td>\n",
       "      <td>1</td>\n",
       "      <td>NaN</td>\n",
       "      <td>NaN</td>\n",
       "      <td>お歳暮</td>\n",
       "    </tr>\n",
       "    <tr>\n",
       "      <th>274583</th>\n",
       "      <td>4</td>\n",
       "      <td>2018</td>\n",
       "      <td>筑豊</td>\n",
       "      <td>替え（ブランド）</td>\n",
       "      <td>1</td>\n",
       "      <td>NaN</td>\n",
       "      <td>NaN</td>\n",
       "      <td>住居洗剤</td>\n",
       "    </tr>\n",
       "    <tr>\n",
       "      <th>274584</th>\n",
       "      <td>5</td>\n",
       "      <td>2018</td>\n",
       "      <td>筑豊</td>\n",
       "      <td>替え（ブランド）</td>\n",
       "      <td>1</td>\n",
       "      <td>1.0</td>\n",
       "      <td>0.0</td>\n",
       "      <td>住居洗剤</td>\n",
       "    </tr>\n",
       "    <tr>\n",
       "      <th>274585</th>\n",
       "      <td>6</td>\n",
       "      <td>2018</td>\n",
       "      <td>筑豊</td>\n",
       "      <td>替え（ブランド）</td>\n",
       "      <td>3</td>\n",
       "      <td>1.0</td>\n",
       "      <td>2.0</td>\n",
       "      <td>住居洗剤</td>\n",
       "    </tr>\n",
       "    <tr>\n",
       "      <th>274586</th>\n",
       "      <td>7</td>\n",
       "      <td>2018</td>\n",
       "      <td>筑豊</td>\n",
       "      <td>替え（ブランド）</td>\n",
       "      <td>1</td>\n",
       "      <td>3.0</td>\n",
       "      <td>-2.0</td>\n",
       "      <td>住居洗剤</td>\n",
       "    </tr>\n",
       "  </tbody>\n",
       "</table>\n",
       "<p>287286 rows × 8 columns</p>\n",
       "</div>"
      ],
      "text/plain": [
       "       week  year エリア名  サブセグメント名 売上数量  前日売数  前日売数差   テーマ\n",
       "0         1  2019  佐賀西   1000ＭＬ～    1   NaN    NaN    行楽\n",
       "1        48  2019  佐賀西   1000ＭＬ～    2   1.0    1.0    行楽\n",
       "2        49  2019  佐賀西   1000ＭＬ～    1   2.0   -1.0    行楽\n",
       "3        50  2019  佐賀西   1000ＭＬ～    4   1.0    3.0    行楽\n",
       "4        51  2019  佐賀西   1000ＭＬ～    1   4.0   -3.0    行楽\n",
       "...     ...   ...  ...       ...  ...   ...    ...   ...\n",
       "254212   10  2018   筑豊      コーヒー    1   NaN    NaN   お歳暮\n",
       "274583    4  2018   筑豊  替え（ブランド）    1   NaN    NaN  住居洗剤\n",
       "274584    5  2018   筑豊  替え（ブランド）    1   1.0    0.0  住居洗剤\n",
       "274585    6  2018   筑豊  替え（ブランド）    3   1.0    2.0  住居洗剤\n",
       "274586    7  2018   筑豊  替え（ブランド）    1   3.0   -2.0  住居洗剤\n",
       "\n",
       "[287286 rows x 8 columns]"
      ]
     },
     "execution_count": 26,
     "metadata": {},
     "output_type": "execute_result"
    }
   ],
   "source": [
    "tmpFrame2"
   ]
  },
  {
   "cell_type": "code",
   "execution_count": 27,
   "metadata": {},
   "outputs": [],
   "source": [
    "tmp_100 = tmpFrame2.query(\"テーマ=='カップ麺'\").loc[(tmpFrame2['サブセグメント名']=='そば')\n",
    "#                                  (tmpFrame2['サブセグメント名']=='ワンタン')|\\\n",
    "#                                  (tmpFrame2['サブセグメント名']=='うどん')\n",
    "#                                  (tmpFrame2['サブカテゴリー名']=='ガラス・網戸')|\\\n",
    "#                                  (tmpFrame2['サブカテゴリー名']=='ダストワイパー')|\\\n",
    "#                                  (tmpFrame2['サブカテゴリー名']=='トイレクリーナー')|\\\n",
    "#                                  (tmpFrame2['サブカテゴリー名']=='バスクリーナー')|\\\n",
    "#                                  (tmpFrame2['サブカテゴリー名']=='パイプクリーナー')|\\\n",
    "#                                  (tmpFrame2['サブカテゴリー名']=='ワックス')\n",
    "                                                      ]"
   ]
  },
  {
   "cell_type": "code",
   "execution_count": 28,
   "metadata": {},
   "outputs": [],
   "source": [
    "tmp_100 = tmp_100[['week','year','サブセグメント名','エリア名','売上数量']].groupby\\\n",
    "(['week','year','サブセグメント名','エリア名']).sum().reset_index()"
   ]
  },
  {
   "cell_type": "code",
   "execution_count": 29,
   "metadata": {},
   "outputs": [
    {
     "data": {
      "text/html": [
       "<div>\n",
       "<style scoped>\n",
       "    .dataframe tbody tr th:only-of-type {\n",
       "        vertical-align: middle;\n",
       "    }\n",
       "\n",
       "    .dataframe tbody tr th {\n",
       "        vertical-align: top;\n",
       "    }\n",
       "\n",
       "    .dataframe thead th {\n",
       "        text-align: right;\n",
       "    }\n",
       "</style>\n",
       "<table border=\"1\" class=\"dataframe\">\n",
       "  <thead>\n",
       "    <tr style=\"text-align: right;\">\n",
       "      <th></th>\n",
       "      <th>week</th>\n",
       "      <th>year</th>\n",
       "      <th>サブセグメント名</th>\n",
       "      <th>エリア名</th>\n",
       "      <th>売上数量</th>\n",
       "    </tr>\n",
       "  </thead>\n",
       "  <tbody>\n",
       "    <tr>\n",
       "      <th>0</th>\n",
       "      <td>1</td>\n",
       "      <td>2017</td>\n",
       "      <td>そば</td>\n",
       "      <td>佐賀西</td>\n",
       "      <td>567</td>\n",
       "    </tr>\n",
       "    <tr>\n",
       "      <th>1</th>\n",
       "      <td>1</td>\n",
       "      <td>2017</td>\n",
       "      <td>そば</td>\n",
       "      <td>八幡</td>\n",
       "      <td>3015</td>\n",
       "    </tr>\n",
       "    <tr>\n",
       "      <th>2</th>\n",
       "      <td>1</td>\n",
       "      <td>2017</td>\n",
       "      <td>そば</td>\n",
       "      <td>小倉</td>\n",
       "      <td>3385</td>\n",
       "    </tr>\n",
       "    <tr>\n",
       "      <th>3</th>\n",
       "      <td>1</td>\n",
       "      <td>2017</td>\n",
       "      <td>そば</td>\n",
       "      <td>山口西</td>\n",
       "      <td>1821</td>\n",
       "    </tr>\n",
       "    <tr>\n",
       "      <th>4</th>\n",
       "      <td>1</td>\n",
       "      <td>2017</td>\n",
       "      <td>そば</td>\n",
       "      <td>福岡</td>\n",
       "      <td>1937</td>\n",
       "    </tr>\n",
       "    <tr>\n",
       "      <th>...</th>\n",
       "      <td>...</td>\n",
       "      <td>...</td>\n",
       "      <td>...</td>\n",
       "      <td>...</td>\n",
       "      <td>...</td>\n",
       "    </tr>\n",
       "    <tr>\n",
       "      <th>1185</th>\n",
       "      <td>52</td>\n",
       "      <td>2019</td>\n",
       "      <td>そば</td>\n",
       "      <td>小倉</td>\n",
       "      <td>11733</td>\n",
       "    </tr>\n",
       "    <tr>\n",
       "      <th>1186</th>\n",
       "      <td>52</td>\n",
       "      <td>2019</td>\n",
       "      <td>そば</td>\n",
       "      <td>山口西</td>\n",
       "      <td>8611</td>\n",
       "    </tr>\n",
       "    <tr>\n",
       "      <th>1187</th>\n",
       "      <td>52</td>\n",
       "      <td>2019</td>\n",
       "      <td>そば</td>\n",
       "      <td>福岡</td>\n",
       "      <td>7776</td>\n",
       "    </tr>\n",
       "    <tr>\n",
       "      <th>1188</th>\n",
       "      <td>52</td>\n",
       "      <td>2019</td>\n",
       "      <td>そば</td>\n",
       "      <td>福岡南</td>\n",
       "      <td>8114</td>\n",
       "    </tr>\n",
       "    <tr>\n",
       "      <th>1189</th>\n",
       "      <td>52</td>\n",
       "      <td>2019</td>\n",
       "      <td>そば</td>\n",
       "      <td>筑豊</td>\n",
       "      <td>12592</td>\n",
       "    </tr>\n",
       "  </tbody>\n",
       "</table>\n",
       "<p>1190 rows × 5 columns</p>\n",
       "</div>"
      ],
      "text/plain": [
       "      week  year サブセグメント名 エリア名   売上数量\n",
       "0        1  2017       そば  佐賀西    567\n",
       "1        1  2017       そば   八幡   3015\n",
       "2        1  2017       そば   小倉   3385\n",
       "3        1  2017       そば  山口西   1821\n",
       "4        1  2017       そば   福岡   1937\n",
       "...    ...   ...      ...  ...    ...\n",
       "1185    52  2019       そば   小倉  11733\n",
       "1186    52  2019       そば  山口西   8611\n",
       "1187    52  2019       そば   福岡   7776\n",
       "1188    52  2019       そば  福岡南   8114\n",
       "1189    52  2019       そば   筑豊  12592\n",
       "\n",
       "[1190 rows x 5 columns]"
      ]
     },
     "execution_count": 29,
     "metadata": {},
     "output_type": "execute_result"
    }
   ],
   "source": [
    "tmp_100"
   ]
  },
  {
   "cell_type": "code",
   "execution_count": 30,
   "metadata": {},
   "outputs": [],
   "source": [
    "notpeak = pd.DataFrame(tmp_100.query(\"week>=40&week<=48\")\\\n",
    "                       .groupby('エリア名')['売上数量'].mean().reset_index())"
   ]
  },
  {
   "cell_type": "code",
   "execution_count": 31,
   "metadata": {},
   "outputs": [],
   "source": [
    "peaak = pd.DataFrame(tmp_100.query(\"week==52\")\\\n",
    "                     .groupby('エリア名')['売上数量'].mean().reset_index())"
   ]
  },
  {
   "cell_type": "code",
   "execution_count": 32,
   "metadata": {},
   "outputs": [],
   "source": [
    "peak_merge = notpeak.merge(peaak, how='left', on='エリア名')"
   ]
  },
  {
   "cell_type": "code",
   "execution_count": 33,
   "metadata": {},
   "outputs": [],
   "source": [
    "peak_merge['up'] = peak_merge['売上数量_y'] / peak_merge['売上数量_x']"
   ]
  },
  {
   "cell_type": "code",
   "execution_count": 34,
   "metadata": {},
   "outputs": [
    {
     "data": {
      "text/plain": [
       "4.540289777369048"
      ]
     },
     "execution_count": 34,
     "metadata": {},
     "output_type": "execute_result"
    }
   ],
   "source": [
    "peak_merge['up'].mean()"
   ]
  },
  {
   "cell_type": "code",
   "execution_count": 35,
   "metadata": {},
   "outputs": [
    {
     "data": {
      "text/html": [
       "<div>\n",
       "<style scoped>\n",
       "    .dataframe tbody tr th:only-of-type {\n",
       "        vertical-align: middle;\n",
       "    }\n",
       "\n",
       "    .dataframe tbody tr th {\n",
       "        vertical-align: top;\n",
       "    }\n",
       "\n",
       "    .dataframe thead th {\n",
       "        text-align: right;\n",
       "    }\n",
       "</style>\n",
       "<table border=\"1\" class=\"dataframe\">\n",
       "  <thead>\n",
       "    <tr style=\"text-align: right;\">\n",
       "      <th></th>\n",
       "      <th>エリア名</th>\n",
       "      <th>売上数量_x</th>\n",
       "      <th>売上数量_y</th>\n",
       "      <th>up</th>\n",
       "    </tr>\n",
       "  </thead>\n",
       "  <tbody>\n",
       "    <tr>\n",
       "      <th>0</th>\n",
       "      <td>佐賀西</td>\n",
       "      <td>1011.629630</td>\n",
       "      <td>5048.333333</td>\n",
       "      <td>4.990298</td>\n",
       "    </tr>\n",
       "    <tr>\n",
       "      <th>1</th>\n",
       "      <td>八幡</td>\n",
       "      <td>2396.333333</td>\n",
       "      <td>11056.333333</td>\n",
       "      <td>4.613854</td>\n",
       "    </tr>\n",
       "    <tr>\n",
       "      <th>2</th>\n",
       "      <td>小倉</td>\n",
       "      <td>2646.777778</td>\n",
       "      <td>12472.000000</td>\n",
       "      <td>4.712145</td>\n",
       "    </tr>\n",
       "    <tr>\n",
       "      <th>3</th>\n",
       "      <td>山口西</td>\n",
       "      <td>2261.851852</td>\n",
       "      <td>8469.666667</td>\n",
       "      <td>3.744572</td>\n",
       "    </tr>\n",
       "    <tr>\n",
       "      <th>4</th>\n",
       "      <td>福岡</td>\n",
       "      <td>1994.222222</td>\n",
       "      <td>7597.333333</td>\n",
       "      <td>3.809672</td>\n",
       "    </tr>\n",
       "    <tr>\n",
       "      <th>5</th>\n",
       "      <td>福岡南</td>\n",
       "      <td>1578.074074</td>\n",
       "      <td>8458.666667</td>\n",
       "      <td>5.360120</td>\n",
       "    </tr>\n",
       "    <tr>\n",
       "      <th>6</th>\n",
       "      <td>筑豊</td>\n",
       "      <td>3131.074074</td>\n",
       "      <td>14250.666667</td>\n",
       "      <td>4.551367</td>\n",
       "    </tr>\n",
       "  </tbody>\n",
       "</table>\n",
       "</div>"
      ],
      "text/plain": [
       "  エリア名       売上数量_x        売上数量_y        up\n",
       "0  佐賀西  1011.629630   5048.333333  4.990298\n",
       "1   八幡  2396.333333  11056.333333  4.613854\n",
       "2   小倉  2646.777778  12472.000000  4.712145\n",
       "3  山口西  2261.851852   8469.666667  3.744572\n",
       "4   福岡  1994.222222   7597.333333  3.809672\n",
       "5  福岡南  1578.074074   8458.666667  5.360120\n",
       "6   筑豊  3131.074074  14250.666667  4.551367"
      ]
     },
     "execution_count": 35,
     "metadata": {},
     "output_type": "execute_result"
    }
   ],
   "source": [
    "peak_merge"
   ]
  },
  {
   "cell_type": "code",
   "execution_count": null,
   "metadata": {},
   "outputs": [],
   "source": []
  },
  {
   "cell_type": "code",
   "execution_count": null,
   "metadata": {},
   "outputs": [],
   "source": [
    "tmpFrame2 = pd.DataFrame(columns=\\\n",
    "                         ['week','year','エリア名','サブセグメント名','売上数量','前日売数','前日売数差'])\n",
    "\n",
    "for m in tqdm(all_dfweek['year'].unique()):\n",
    "    tmp = all_dfweek.loc[all_dfweek['year']== m,:]\n",
    "    for i in tmp['エリア名'].unique():\n",
    "        for k in tmp['テーマ'].unique():\n",
    "            tmp4 = tmp.loc[(tmp['エリア名']== i)&(tmp['サブセグメント名']== k) ,:]\n",
    "            tmp4['前日売数'] = tmp4['売上数量'].shift()\n",
    "            tmp4['前日売数差'] = tmp4['売上数量'] - tmp4['前日売数']\n",
    "            tmpFrame2 = tmpFrame2.append(tmp4)"
   ]
  },
  {
   "cell_type": "code",
   "execution_count": null,
   "metadata": {},
   "outputs": [],
   "source": []
  },
  {
   "cell_type": "code",
   "execution_count": null,
   "metadata": {},
   "outputs": [],
   "source": []
  },
  {
   "cell_type": "code",
   "execution_count": null,
   "metadata": {},
   "outputs": [],
   "source": []
  },
  {
   "cell_type": "markdown",
   "metadata": {},
   "source": [
    "###  サブカテゴリー"
   ]
  },
  {
   "cell_type": "code",
   "execution_count": 36,
   "metadata": {},
   "outputs": [
    {
     "data": {
      "text/plain": [
       "array(['小型PET', '乾物', '行楽', '百均', 'しめ縄', '鏡餅', '住居洗剤', 'お歳暮', 'クリスマス',\n",
       "       '衣料洗剤', '飲料', '入浴剤', 'カップ麺', '鍋つゆ', 'チョコレート', '鍋・季節鍋', '正月雑貨',\n",
       "       'カイロ', '灯油缶ポンプ', '祝酒', 'スナック', '防虫剤'], dtype=object)"
      ]
     },
     "execution_count": 36,
     "metadata": {},
     "output_type": "execute_result"
    }
   ],
   "source": [
    "all_df_subcate['テーマ'].unique()"
   ]
  },
  {
   "cell_type": "code",
   "execution_count": 37,
   "metadata": {},
   "outputs": [
    {
     "data": {
      "text/plain": [
       "array(['100%ジュース', 'あんこ', 'いりこ', 'おかずケース', 'おしぼり・ナプキン', 'お正月', 'お茶ラテ',\n",
       "       'かつお', 'しいたけ', 'しめ縄', 'その他', 'その他_無糖茶', 'その他フレーバー', 'その他（行楽用品）',\n",
       "       'だしの素', 'どんぶり・カレー皿・トレー', 'はちみつ', 'ほうじ茶', 'アウトドアボトル', 'ウーロン茶',\n",
       "       'エアコンクリーナー', 'オレンジ', 'オールパーパス', 'カビ取り剤', 'カフェオレ', 'ガラス・網戸', 'ギフト',\n",
       "       'クリスマス', 'ケア', 'コップ付ボトル', 'コンパクト洗剤', 'コーヒーマグ', 'コーヒー（大型PET）',\n",
       "       'コーラ炭酸', 'シャワーケア剤', 'ジャグ', 'ジャスミン茶', 'スキンケア液体', 'スキンケア粉末', 'ストレート',\n",
       "       'ストロー', 'スポーツ', 'スポーツ・機能性（大型PET）', 'ダイレクトボトル', 'ダストワイパー',\n",
       "       'ダニ・ハウスダスト', 'トイレクリーナー', 'トイレシート', 'ドライ', 'バスクリーナー', 'パイプクリーナー',\n",
       "       'ビールギフト', 'フルーツ炭酸・その他', 'フードパック', 'ブレンド茶', 'プレミアム', 'プレート', 'ボウル',\n",
       "       'ボール洗剤', 'マグボトル', 'ミニサイズ', 'ミネラルウォーター', 'ミネラルウォーター（フレーバー）', 'ミルク',\n",
       "       'メニュー限定', 'ランチボックス', 'レジャーシート', 'レジャーバッグ', 'レディス', 'レモン', 'ワックス',\n",
       "       '一般薬用（清涼）', '一般薬用（温浴）', '丸餅', '主食サイズ', '乳性', '乳性炭酸', '乳性（大型PET）',\n",
       "       '乾燥野菜', '低果汁飲料', '作業用', '使い捨てカップ', '使い捨てカトラリー', '保温・保冷ジャー', '充填',\n",
       "       '入浴剤その他', '全国共通正月飾り', '割り箸', '卓上タンブラー', '地場正月飾り', '基本機能', '大福',\n",
       "       '大袋', '子供ボトル', '季節鍋', '定価2000円台', '定価3000円台', '定価5000円台', '弁当関連',\n",
       "       '微糖', '昆布', '果汁（大型PET）', '機能性・栄養', '正月用', '正月用品', '正月飾り関連', '水筒小物',\n",
       "       '洋風スパイス', '海苔', '液体洗剤', '温泉風シリーズ', '温熱器具・シート', '灯油ポンプ', '灯油缶',\n",
       "       '炭酸ガス清涼', '炭酸ガス温浴', '炭酸水', '炭酸水（フレーバー）', '炭酸（大型PET）', '無添加自然',\n",
       "       '無糖', '無糖茶（大型PET）', '爪楊枝・串', '特殊鍋', '玄米茶', '瓶詰', '甘酒', '祝い酒',\n",
       "       '粉末洗剤', '粉類', '紅茶（大型PET）', '緑茶', '行楽弁当小物', '袋スナック', '製菓材料', '豆',\n",
       "       '貼らないカイロ', '貼るカイロ', '足用', '輸入', '透明炭酸', '野菜水煮', '鍋', '鍋スープ', '防臭',\n",
       "       '防虫剤', '飲料', '餅', '香りビーズ', '香りミスト', '高残香', '高野豆腐', '麦茶', 'ｷｯｽﾞ',\n",
       "       'ﾒﾝｽﾞ', '切り餅', '定価1000円台', '加糖'], dtype=object)"
      ]
     },
     "execution_count": 37,
     "metadata": {},
     "output_type": "execute_result"
    }
   ],
   "source": [
    "all_df_subcate['サブカテゴリー名'].unique()"
   ]
  },
  {
   "cell_type": "code",
   "execution_count": 38,
   "metadata": {},
   "outputs": [
    {
     "data": {
      "text/html": [
       "<div>\n",
       "<style scoped>\n",
       "    .dataframe tbody tr th:only-of-type {\n",
       "        vertical-align: middle;\n",
       "    }\n",
       "\n",
       "    .dataframe tbody tr th {\n",
       "        vertical-align: top;\n",
       "    }\n",
       "\n",
       "    .dataframe thead th {\n",
       "        text-align: right;\n",
       "    }\n",
       "</style>\n",
       "<table border=\"1\" class=\"dataframe\">\n",
       "  <thead>\n",
       "    <tr style=\"text-align: right;\">\n",
       "      <th></th>\n",
       "      <th>week</th>\n",
       "      <th>year</th>\n",
       "      <th>テーマ</th>\n",
       "      <th>エリア名</th>\n",
       "      <th>サブカテゴリー名</th>\n",
       "      <th>売上数量</th>\n",
       "    </tr>\n",
       "  </thead>\n",
       "  <tbody>\n",
       "    <tr>\n",
       "      <th>1206</th>\n",
       "      <td>52</td>\n",
       "      <td>2017</td>\n",
       "      <td>鏡餅</td>\n",
       "      <td>佐賀西</td>\n",
       "      <td>その他</td>\n",
       "      <td>1</td>\n",
       "    </tr>\n",
       "    <tr>\n",
       "      <th>10561</th>\n",
       "      <td>1</td>\n",
       "      <td>2017</td>\n",
       "      <td>鏡餅</td>\n",
       "      <td>佐賀西</td>\n",
       "      <td>丸餅</td>\n",
       "      <td>43</td>\n",
       "    </tr>\n",
       "    <tr>\n",
       "      <th>10562</th>\n",
       "      <td>48</td>\n",
       "      <td>2017</td>\n",
       "      <td>鏡餅</td>\n",
       "      <td>佐賀西</td>\n",
       "      <td>丸餅</td>\n",
       "      <td>22</td>\n",
       "    </tr>\n",
       "    <tr>\n",
       "      <th>10563</th>\n",
       "      <td>49</td>\n",
       "      <td>2017</td>\n",
       "      <td>鏡餅</td>\n",
       "      <td>佐賀西</td>\n",
       "      <td>丸餅</td>\n",
       "      <td>105</td>\n",
       "    </tr>\n",
       "    <tr>\n",
       "      <th>10564</th>\n",
       "      <td>50</td>\n",
       "      <td>2017</td>\n",
       "      <td>鏡餅</td>\n",
       "      <td>佐賀西</td>\n",
       "      <td>丸餅</td>\n",
       "      <td>282</td>\n",
       "    </tr>\n",
       "    <tr>\n",
       "      <th>...</th>\n",
       "      <td>...</td>\n",
       "      <td>...</td>\n",
       "      <td>...</td>\n",
       "      <td>...</td>\n",
       "      <td>...</td>\n",
       "      <td>...</td>\n",
       "    </tr>\n",
       "    <tr>\n",
       "      <th>149333</th>\n",
       "      <td>10</td>\n",
       "      <td>2020</td>\n",
       "      <td>鏡餅</td>\n",
       "      <td>筑豊</td>\n",
       "      <td>餅</td>\n",
       "      <td>650</td>\n",
       "    </tr>\n",
       "    <tr>\n",
       "      <th>149334</th>\n",
       "      <td>11</td>\n",
       "      <td>2020</td>\n",
       "      <td>鏡餅</td>\n",
       "      <td>筑豊</td>\n",
       "      <td>餅</td>\n",
       "      <td>657</td>\n",
       "    </tr>\n",
       "    <tr>\n",
       "      <th>149335</th>\n",
       "      <td>12</td>\n",
       "      <td>2020</td>\n",
       "      <td>鏡餅</td>\n",
       "      <td>筑豊</td>\n",
       "      <td>餅</td>\n",
       "      <td>542</td>\n",
       "    </tr>\n",
       "    <tr>\n",
       "      <th>149336</th>\n",
       "      <td>13</td>\n",
       "      <td>2020</td>\n",
       "      <td>鏡餅</td>\n",
       "      <td>筑豊</td>\n",
       "      <td>餅</td>\n",
       "      <td>664</td>\n",
       "    </tr>\n",
       "    <tr>\n",
       "      <th>149337</th>\n",
       "      <td>14</td>\n",
       "      <td>2020</td>\n",
       "      <td>鏡餅</td>\n",
       "      <td>筑豊</td>\n",
       "      <td>餅</td>\n",
       "      <td>151</td>\n",
       "    </tr>\n",
       "  </tbody>\n",
       "</table>\n",
       "<p>2861 rows × 6 columns</p>\n",
       "</div>"
      ],
      "text/plain": [
       "        week  year テーマ エリア名 サブカテゴリー名  売上数量\n",
       "1206      52  2017  鏡餅  佐賀西      その他     1\n",
       "10561      1  2017  鏡餅  佐賀西       丸餅    43\n",
       "10562     48  2017  鏡餅  佐賀西       丸餅    22\n",
       "10563     49  2017  鏡餅  佐賀西       丸餅   105\n",
       "10564     50  2017  鏡餅  佐賀西       丸餅   282\n",
       "...      ...   ...  ..  ...      ...   ...\n",
       "149333    10  2020  鏡餅   筑豊        餅   650\n",
       "149334    11  2020  鏡餅   筑豊        餅   657\n",
       "149335    12  2020  鏡餅   筑豊        餅   542\n",
       "149336    13  2020  鏡餅   筑豊        餅   664\n",
       "149337    14  2020  鏡餅   筑豊        餅   151\n",
       "\n",
       "[2861 rows x 6 columns]"
      ]
     },
     "execution_count": 38,
     "metadata": {},
     "output_type": "execute_result"
    }
   ],
   "source": [
    "all_df_subcate.query(\"テーマ=='鏡餅'\")"
   ]
  },
  {
   "cell_type": "code",
   "execution_count": 39,
   "metadata": {},
   "outputs": [
    {
     "name": "stderr",
     "output_type": "stream",
     "text": [
      "  0%|                                                                                                                                            | 0/4 [00:00<?, ?it/s]\n"
     ]
    },
    {
     "ename": "KeyError",
     "evalue": "'サブセグメント名'",
     "output_type": "error",
     "traceback": [
      "\u001b[0;31m---------------------------------------------------------------------------\u001b[0m",
      "\u001b[0;31mKeyError\u001b[0m                                  Traceback (most recent call last)",
      "\u001b[0;32m/usr/lib64/python3.6/site-packages/pandas/core/indexes/base.py\u001b[0m in \u001b[0;36mget_loc\u001b[0;34m(self, key, method, tolerance)\u001b[0m\n\u001b[1;32m   2645\u001b[0m             \u001b[0;32mtry\u001b[0m\u001b[0;34m:\u001b[0m\u001b[0;34m\u001b[0m\u001b[0;34m\u001b[0m\u001b[0m\n\u001b[0;32m-> 2646\u001b[0;31m                 \u001b[0;32mreturn\u001b[0m \u001b[0mself\u001b[0m\u001b[0;34m.\u001b[0m\u001b[0m_engine\u001b[0m\u001b[0;34m.\u001b[0m\u001b[0mget_loc\u001b[0m\u001b[0;34m(\u001b[0m\u001b[0mkey\u001b[0m\u001b[0;34m)\u001b[0m\u001b[0;34m\u001b[0m\u001b[0;34m\u001b[0m\u001b[0m\n\u001b[0m\u001b[1;32m   2647\u001b[0m             \u001b[0;32mexcept\u001b[0m \u001b[0mKeyError\u001b[0m\u001b[0;34m:\u001b[0m\u001b[0;34m\u001b[0m\u001b[0;34m\u001b[0m\u001b[0m\n",
      "\u001b[0;32mpandas/_libs/index.pyx\u001b[0m in \u001b[0;36mpandas._libs.index.IndexEngine.get_loc\u001b[0;34m()\u001b[0m\n",
      "\u001b[0;32mpandas/_libs/index.pyx\u001b[0m in \u001b[0;36mpandas._libs.index.IndexEngine.get_loc\u001b[0;34m()\u001b[0m\n",
      "\u001b[0;32mpandas/_libs/hashtable_class_helper.pxi\u001b[0m in \u001b[0;36mpandas._libs.hashtable.PyObjectHashTable.get_item\u001b[0;34m()\u001b[0m\n",
      "\u001b[0;32mpandas/_libs/hashtable_class_helper.pxi\u001b[0m in \u001b[0;36mpandas._libs.hashtable.PyObjectHashTable.get_item\u001b[0;34m()\u001b[0m\n",
      "\u001b[0;31mKeyError\u001b[0m: 'サブセグメント名'",
      "\nDuring handling of the above exception, another exception occurred:\n",
      "\u001b[0;31mKeyError\u001b[0m                                  Traceback (most recent call last)",
      "\u001b[0;32m<ipython-input-39-45eda0c2ddb7>\u001b[0m in \u001b[0;36m<module>\u001b[0;34m()\u001b[0m\n\u001b[1;32m      4\u001b[0m     \u001b[0mtmp\u001b[0m \u001b[0;34m=\u001b[0m \u001b[0mall_df_subcate\u001b[0m\u001b[0;34m.\u001b[0m\u001b[0mloc\u001b[0m\u001b[0;34m[\u001b[0m\u001b[0mall_df_subcate\u001b[0m\u001b[0;34m[\u001b[0m\u001b[0;34m'year'\u001b[0m\u001b[0;34m]\u001b[0m\u001b[0;34m==\u001b[0m \u001b[0mi\u001b[0m\u001b[0;34m,\u001b[0m\u001b[0;34m:\u001b[0m\u001b[0;34m]\u001b[0m\u001b[0;34m\u001b[0m\u001b[0;34m\u001b[0m\u001b[0m\n\u001b[1;32m      5\u001b[0m     \u001b[0;32mfor\u001b[0m \u001b[0mn\u001b[0m \u001b[0;32min\u001b[0m \u001b[0mtmp\u001b[0m\u001b[0;34m[\u001b[0m\u001b[0;34m'エリア名'\u001b[0m\u001b[0;34m]\u001b[0m\u001b[0;34m.\u001b[0m\u001b[0munique\u001b[0m\u001b[0;34m(\u001b[0m\u001b[0;34m)\u001b[0m\u001b[0;34m:\u001b[0m\u001b[0;34m\u001b[0m\u001b[0;34m\u001b[0m\u001b[0m\n\u001b[0;32m----> 6\u001b[0;31m         \u001b[0;32mfor\u001b[0m \u001b[0mu\u001b[0m \u001b[0;32min\u001b[0m \u001b[0mtmp\u001b[0m\u001b[0;34m[\u001b[0m\u001b[0;34m'サブセグメント名'\u001b[0m\u001b[0;34m]\u001b[0m\u001b[0;34m.\u001b[0m\u001b[0munique\u001b[0m\u001b[0;34m(\u001b[0m\u001b[0;34m)\u001b[0m\u001b[0;34m:\u001b[0m\u001b[0;34m\u001b[0m\u001b[0;34m\u001b[0m\u001b[0m\n\u001b[0m\u001b[1;32m      7\u001b[0m             \u001b[0mtmp5\u001b[0m \u001b[0;34m=\u001b[0m \u001b[0mtmp\u001b[0m\u001b[0;34m.\u001b[0m\u001b[0mloc\u001b[0m\u001b[0;34m[\u001b[0m\u001b[0;34m(\u001b[0m\u001b[0mtmp\u001b[0m\u001b[0;34m[\u001b[0m\u001b[0;34m'エリア名'\u001b[0m\u001b[0;34m]\u001b[0m\u001b[0;34m==\u001b[0m \u001b[0mn\u001b[0m\u001b[0;34m)\u001b[0m\u001b[0;34m&\u001b[0m\u001b[0;34m(\u001b[0m\u001b[0mtmp\u001b[0m\u001b[0;34m[\u001b[0m\u001b[0;34m'サブセグメント名'\u001b[0m\u001b[0;34m]\u001b[0m\u001b[0;34m==\u001b[0m \u001b[0mu\u001b[0m\u001b[0;34m)\u001b[0m \u001b[0;34m,\u001b[0m\u001b[0;34m:\u001b[0m\u001b[0;34m]\u001b[0m\u001b[0;34m\u001b[0m\u001b[0;34m\u001b[0m\u001b[0m\n\u001b[1;32m      8\u001b[0m             \u001b[0mtmp5\u001b[0m\u001b[0;34m[\u001b[0m\u001b[0;34m'前日売数'\u001b[0m\u001b[0;34m]\u001b[0m \u001b[0;34m=\u001b[0m \u001b[0mtmp5\u001b[0m\u001b[0;34m[\u001b[0m\u001b[0;34m'売上数量'\u001b[0m\u001b[0;34m]\u001b[0m\u001b[0;34m.\u001b[0m\u001b[0mshift\u001b[0m\u001b[0;34m(\u001b[0m\u001b[0;34m)\u001b[0m\u001b[0;34m\u001b[0m\u001b[0;34m\u001b[0m\u001b[0m\n",
      "\u001b[0;32m/usr/lib64/python3.6/site-packages/pandas/core/frame.py\u001b[0m in \u001b[0;36m__getitem__\u001b[0;34m(self, key)\u001b[0m\n\u001b[1;32m   2798\u001b[0m             \u001b[0;32mif\u001b[0m \u001b[0mself\u001b[0m\u001b[0;34m.\u001b[0m\u001b[0mcolumns\u001b[0m\u001b[0;34m.\u001b[0m\u001b[0mnlevels\u001b[0m \u001b[0;34m>\u001b[0m \u001b[0;36m1\u001b[0m\u001b[0;34m:\u001b[0m\u001b[0;34m\u001b[0m\u001b[0;34m\u001b[0m\u001b[0m\n\u001b[1;32m   2799\u001b[0m                 \u001b[0;32mreturn\u001b[0m \u001b[0mself\u001b[0m\u001b[0;34m.\u001b[0m\u001b[0m_getitem_multilevel\u001b[0m\u001b[0;34m(\u001b[0m\u001b[0mkey\u001b[0m\u001b[0;34m)\u001b[0m\u001b[0;34m\u001b[0m\u001b[0;34m\u001b[0m\u001b[0m\n\u001b[0;32m-> 2800\u001b[0;31m             \u001b[0mindexer\u001b[0m \u001b[0;34m=\u001b[0m \u001b[0mself\u001b[0m\u001b[0;34m.\u001b[0m\u001b[0mcolumns\u001b[0m\u001b[0;34m.\u001b[0m\u001b[0mget_loc\u001b[0m\u001b[0;34m(\u001b[0m\u001b[0mkey\u001b[0m\u001b[0;34m)\u001b[0m\u001b[0;34m\u001b[0m\u001b[0;34m\u001b[0m\u001b[0m\n\u001b[0m\u001b[1;32m   2801\u001b[0m             \u001b[0;32mif\u001b[0m \u001b[0mis_integer\u001b[0m\u001b[0;34m(\u001b[0m\u001b[0mindexer\u001b[0m\u001b[0;34m)\u001b[0m\u001b[0;34m:\u001b[0m\u001b[0;34m\u001b[0m\u001b[0;34m\u001b[0m\u001b[0m\n\u001b[1;32m   2802\u001b[0m                 \u001b[0mindexer\u001b[0m \u001b[0;34m=\u001b[0m \u001b[0;34m[\u001b[0m\u001b[0mindexer\u001b[0m\u001b[0;34m]\u001b[0m\u001b[0;34m\u001b[0m\u001b[0;34m\u001b[0m\u001b[0m\n",
      "\u001b[0;32m/usr/lib64/python3.6/site-packages/pandas/core/indexes/base.py\u001b[0m in \u001b[0;36mget_loc\u001b[0;34m(self, key, method, tolerance)\u001b[0m\n\u001b[1;32m   2646\u001b[0m                 \u001b[0;32mreturn\u001b[0m \u001b[0mself\u001b[0m\u001b[0;34m.\u001b[0m\u001b[0m_engine\u001b[0m\u001b[0;34m.\u001b[0m\u001b[0mget_loc\u001b[0m\u001b[0;34m(\u001b[0m\u001b[0mkey\u001b[0m\u001b[0;34m)\u001b[0m\u001b[0;34m\u001b[0m\u001b[0;34m\u001b[0m\u001b[0m\n\u001b[1;32m   2647\u001b[0m             \u001b[0;32mexcept\u001b[0m \u001b[0mKeyError\u001b[0m\u001b[0;34m:\u001b[0m\u001b[0;34m\u001b[0m\u001b[0;34m\u001b[0m\u001b[0m\n\u001b[0;32m-> 2648\u001b[0;31m                 \u001b[0;32mreturn\u001b[0m \u001b[0mself\u001b[0m\u001b[0;34m.\u001b[0m\u001b[0m_engine\u001b[0m\u001b[0;34m.\u001b[0m\u001b[0mget_loc\u001b[0m\u001b[0;34m(\u001b[0m\u001b[0mself\u001b[0m\u001b[0;34m.\u001b[0m\u001b[0m_maybe_cast_indexer\u001b[0m\u001b[0;34m(\u001b[0m\u001b[0mkey\u001b[0m\u001b[0;34m)\u001b[0m\u001b[0;34m)\u001b[0m\u001b[0;34m\u001b[0m\u001b[0;34m\u001b[0m\u001b[0m\n\u001b[0m\u001b[1;32m   2649\u001b[0m         \u001b[0mindexer\u001b[0m \u001b[0;34m=\u001b[0m \u001b[0mself\u001b[0m\u001b[0;34m.\u001b[0m\u001b[0mget_indexer\u001b[0m\u001b[0;34m(\u001b[0m\u001b[0;34m[\u001b[0m\u001b[0mkey\u001b[0m\u001b[0;34m]\u001b[0m\u001b[0;34m,\u001b[0m \u001b[0mmethod\u001b[0m\u001b[0;34m=\u001b[0m\u001b[0mmethod\u001b[0m\u001b[0;34m,\u001b[0m \u001b[0mtolerance\u001b[0m\u001b[0;34m=\u001b[0m\u001b[0mtolerance\u001b[0m\u001b[0;34m)\u001b[0m\u001b[0;34m\u001b[0m\u001b[0;34m\u001b[0m\u001b[0m\n\u001b[1;32m   2650\u001b[0m         \u001b[0;32mif\u001b[0m \u001b[0mindexer\u001b[0m\u001b[0;34m.\u001b[0m\u001b[0mndim\u001b[0m \u001b[0;34m>\u001b[0m \u001b[0;36m1\u001b[0m \u001b[0;32mor\u001b[0m \u001b[0mindexer\u001b[0m\u001b[0;34m.\u001b[0m\u001b[0msize\u001b[0m \u001b[0;34m>\u001b[0m \u001b[0;36m1\u001b[0m\u001b[0;34m:\u001b[0m\u001b[0;34m\u001b[0m\u001b[0;34m\u001b[0m\u001b[0m\n",
      "\u001b[0;32mpandas/_libs/index.pyx\u001b[0m in \u001b[0;36mpandas._libs.index.IndexEngine.get_loc\u001b[0;34m()\u001b[0m\n",
      "\u001b[0;32mpandas/_libs/index.pyx\u001b[0m in \u001b[0;36mpandas._libs.index.IndexEngine.get_loc\u001b[0;34m()\u001b[0m\n",
      "\u001b[0;32mpandas/_libs/hashtable_class_helper.pxi\u001b[0m in \u001b[0;36mpandas._libs.hashtable.PyObjectHashTable.get_item\u001b[0;34m()\u001b[0m\n",
      "\u001b[0;32mpandas/_libs/hashtable_class_helper.pxi\u001b[0m in \u001b[0;36mpandas._libs.hashtable.PyObjectHashTable.get_item\u001b[0;34m()\u001b[0m\n",
      "\u001b[0;31mKeyError\u001b[0m: 'サブセグメント名'"
     ]
    }
   ],
   "source": [
    "tmpFrame7 = pd.DataFrame(columns=\\\n",
    "                         ['week','year','エリア名','サブセグメント名','売上数量','前日売数','前日売数差'])\n",
    "\n",
    "for i in tqdm(all_df_subcate['year'].unique()):\n",
    "    tmp = all_df_subcate.loc[all_df_subcate['year']== i,:]\n",
    "    for n in tmp['エリア名'].unique():\n",
    "        for u in tmp['サブセグメント名'].unique():\n",
    "            tmp5 = tmp.loc[(tmp['エリア名']== n)&(tmp['サブセグメント名']== u) ,:]\n",
    "            tmp5['前日売数'] = tmp5['売上数量'].shift()\n",
    "            tmp5['前日売数差'] = tmp5['売上数量'] - tmp5['前日売数']\n",
    "            tmpFrame7 = tmpFrame7.append(tmp5)"
   ]
  }
 ],
 "metadata": {
  "kernelspec": {
   "display_name": "Python 3",
   "language": "python",
   "name": "python3"
  },
  "language_info": {
   "codemirror_mode": {
    "name": "ipython",
    "version": 3
   },
   "file_extension": ".py",
   "mimetype": "text/x-python",
   "name": "python",
   "nbconvert_exporter": "python",
   "pygments_lexer": "ipython3",
   "version": "3.6.7"
  }
 },
 "nbformat": 4,
 "nbformat_minor": 2
}
