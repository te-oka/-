{
 "cells": [
  {
   "cell_type": "code",
   "execution_count": 66,
   "metadata": {},
   "outputs": [],
   "source": [
    "import pandas as pd\n",
    "import seaborn as sns\n",
    "import glob\n",
    "import os\n",
    "from datetime import datetime as dt\n",
    "import matplotlib.pyplot as plt\n",
    "import plotly\n",
    "import plotly.express as px\n",
    "from tqdm import tqdm\n",
    "import time\n",
    "import numpy as np"
   ]
  },
  {
   "cell_type": "code",
   "execution_count": 2,
   "metadata": {},
   "outputs": [],
   "source": [
    "mochi_df = pd.read_csv('/home/trial/APDATA/jupyter/SPAI/ Seasonal products/分析用/data/鏡餅昨年.csv', \\\n",
    "                           parse_dates=[0], encoding='cp932')\n",
    "simenawa_df = pd.read_csv('/home/trial/APDATA/jupyter/SPAI/ Seasonal products/分析用/data/しめ縄.csv', \\\n",
    "                           parse_dates=[0], encoding='cp932')\n",
    "kanbutu_df = pd.read_csv('/home/trial/APDATA/jupyter/SPAI/ Seasonal products/分析用/data/乾物エリア.csv', \\\n",
    "                           parse_dates=[0], encoding='cp932')\n",
    "hyakkin_df = pd.read_csv('/home/trial/APDATA/jupyter/SPAI/ Seasonal products/分析用/data/百均正月.csv', \\\n",
    "                           parse_dates=[0], encoding='cp932')\n",
    "df_bou = pd.read_csv('/home/trial/APDATA/jupyter/SPAI/ Seasonal products/分析用/data/防虫剤.csv', \\\n",
    "                           parse_dates=[0], encoding='cp932')\n",
    "df_cupmen = pd.read_csv('/home/trial/APDATA/jupyter/SPAI/ Seasonal products/分析用/data/カップ麺5年.csv', \\\n",
    "                           parse_dates=[0], encoding='cp932')\n",
    "# df_donabe = pd.read_csv('/home/trial/APDATA/jupyter/SPAI/ Seasonal products/分析用/data/土鍋行楽.csv', \\\n",
    "#                            parse_dates=[0], encoding='cp932')\n",
    "df_senzai = pd.read_csv('/home/trial/APDATA/jupyter/SPAI/ Seasonal products/分析用/data/衣料洗剤.csv', \\\n",
    "                           parse_dates=[0], encoding='cp932')\n",
    "df_inryo = pd.read_csv('/home/trial/APDATA/jupyter/SPAI/ Seasonal products/分析用/data/飲料.csv', \\\n",
    "                           parse_dates=[0], encoding='cp932')\n",
    "iwaizake = pd.read_csv('/home/trial/APDATA/jupyter/SPAI/ Seasonal products/分析用/data/祝酒.csv', \\\n",
    "                           parse_dates=[0], encoding='cp932')"
   ]
  },
  {
   "cell_type": "code",
   "execution_count": 532,
   "metadata": {},
   "outputs": [],
   "source": [
    "kogatapet = pd.read_csv('/home/trial/APDATA/jupyter/SPAI/ Seasonal products/分析用/data/小型飲料.csv', \\\n",
    "                           parse_dates=[0],encoding='cp932')\n",
    "ponpu = pd.read_csv('/home/trial/APDATA/jupyter/SPAI/ Seasonal products/分析用/data/灯油缶ポンプ.csv', \\\n",
    "                           parse_dates=[0], encoding='cp932')\n",
    "df_kairo = pd.read_csv('/home/trial/APDATA/jupyter/SPAI/ Seasonal products/分析用/data/カイロ.csv', \\\n",
    "                           parse_dates=[0], encoding='cp932')\n",
    "cristmas = pd.read_csv('/home/trial/APDATA/jupyter/SPAI/ Seasonal products/分析用/data/クリスマス.csv', \\\n",
    "                           parse_dates=[0], encoding='cp932')\n",
    "nabe_seasonal = pd.read_csv('/home/trial/APDATA/jupyter/SPAI/ Seasonal products/分析用/data/鍋・季節鍋.csv', \\\n",
    "                           parse_dates=[0], encoding='cp932')\n",
    "house_senzai = pd.read_csv('/home/trial/APDATA/jupyter/SPAI/ Seasonal products/分析用/data/住居洗剤.csv', \\\n",
    "                           parse_dates=[0], encoding='cp932')\n",
    "gift_senzai = pd.read_csv('/home/trial/APDATA/jupyter/SPAI/OKA/data/洗剤ギフト.csv', \\\n",
    "                           parse_dates=[0], encoding='cp932')\n",
    "df_gift = pd.read_csv(\"/home/trial/APDATA/jupyter/SPAI/ Seasonal products/分析用/data/gift.csv\"\\\n",
    "                 ,parse_dates=[0], encoding='cp932')\n",
    "df_kouraku = pd.read_csv(\"/home/trial/APDATA/jupyter/SPAI/OKA/data/df_kouraku.csv\"\\\n",
    "                 ,parse_dates=[0], encoding='cp932')\n",
    "df_okashi = pd.read_csv('/home/trial/APDATA/jupyter/SPAI/ Seasonal products/分析用/data/袋がし.csv', \\\n",
    "                           parse_dates=[0], encoding='cp932')\n",
    "df_nabesoup = pd.read_csv('/home/trial/APDATA/jupyter/SPAI/ Seasonal products/分析用/data/鍋つゆ.csv', \\\n",
    "                           parse_dates=[0], encoding='cp932')\n",
    "df_nyuyoku = pd.read_csv('/home/trial/APDATA/jupyter/SPAI/ Seasonal products/分析用/data/入浴剤.csv', \\\n",
    "                           parse_dates=[0], encoding='cp932')\n",
    "df_gift = df_gift.query(\"サブカテゴリー名=='ビールギフト'|サブカテゴリー名=='ギフト'|サブカテゴリー名=='飲料'\")\n",
    "df_gift = df_gift.append(gift_senzai)\n",
    "# hansi = pd.read_csv('/home/trial/APDATA/jupyter/SPAI/ Seasonal products/分析用/data/半紙・年賀.csv', \\\n",
    "#                            parse_dates=[0],encoding='cp932')"
   ]
  },
  {
   "cell_type": "code",
   "execution_count": 533,
   "metadata": {},
   "outputs": [],
   "source": [
    "# サブカテ単位で見るがテーマがあった方がわかりやすいので全部名前つけている\n",
    "mochi_df['テーマ'] = \"鏡餅\"\n",
    "simenawa_df['テーマ'] = \"しめ縄\"\n",
    "kanbutu_df['テーマ'] = \"乾物\"\n",
    "hyakkin_df['テーマ'] = \"百均\"\n",
    "iwaizake['テーマ'] = \"祝酒\"\n",
    "df_bou['テーマ'] = \"防虫剤\"\n",
    "df_cupmen['テーマ'] = \"カップ麺\"\n",
    "df_okashi.loc[df_okashi['カテゴリー名']=='チョコレート', 'テーマ']='チョコレート'\n",
    "df_okashi.loc[df_okashi['カテゴリー名']=='スナック', 'テーマ']='スナック'\n",
    "df_senzai['テーマ'] = \"衣料洗剤\"\n",
    "df_inryo['テーマ'] = \"飲料\"\n",
    "df_kouraku['テーマ'] = \"行楽\"\n",
    "ponpu['テーマ'] = \"灯油缶ポンプ\"\n",
    "df_kairo['テーマ'] = \"カイロ\"\n",
    "cristmas['テーマ'] = \"クリスマス\"\n",
    "kogatapet['テーマ'] = '小型PET'\n",
    "df_nabesoup['テーマ'] = '鍋つゆ'\n",
    "df_nyuyoku['テーマ'] = '入浴剤'\n",
    "df_gift['テーマ'] = 'お歳暮'\n",
    "nabe_seasonal['テーマ'] = '鍋・季節鍋'\n",
    "house_senzai['テーマ'] = '住居洗剤'\n",
    "hansi.loc[hansi['サブカテゴリー名']=='書道','テーマ']='半紙'\n",
    "hansi.loc[hansi['サブカテゴリー名']=='はがき','テーマ']='はがき'\n",
    "simenawa_df.loc[simenawa_df['サブカテゴリー名']=='正月用品','テーマ']='正月雑貨'\n",
    "simenawa_df.loc[simenawa_df['サブカテゴリー名']!='正月用品','テーマ']='しめ縄'\n",
    "df_kouraku['テーマ'] = '行楽'\n",
    "# df_donabe.loc[df_donabe['カテゴリー名']=='鍋・ケトル', 'テーマ']='鍋・季節鍋'\n",
    "# df_donabe.loc[df_donabe['カテゴリー名']=='行楽', 'テーマ']='行楽'\n",
    "# df_nabesoup['テーマ'] = \"鍋スープ\"\n",
    "# df_nyuyoku['テーマ'] = '入浴剤'\n",
    "# nabe_nyuyoku.loc[nabe_nyuyoku['カテゴリー名']!='入浴剤', 'テーマ']='つゆ・たれ'\n",
    "# nabe_nyuyoku.loc[nabe_nyuyoku['カテゴリー名']=='入浴剤', 'テーマ']='入浴剤'"
   ]
  },
  {
   "cell_type": "code",
   "execution_count": 81,
   "metadata": {},
   "outputs": [],
   "source": [
    "# SQLの操作でイベント（感謝祭）の情報を持ってきているよ\n",
    "import psycopg2\n",
    "connection = psycopg2.connect(\"host=10.2.5.50 port=5432 dbname=NumericalAnalysis user=analyst password=TRanalyst\")\n",
    "cur = connection.cursor()\n",
    "sql=\"SELECT day,store,kionmax,kionmin,kionavg,kousuryosum,shitsudoavg,fusokuavg \\\n",
    "     FROM webapi_weather as A,webapi_weather_store as B \\\n",
    "     WHERE A.prec_no=B.prec_no \\\n",
    "           and A.block_no=B.block_no \\\n",
    "           and A.day>='2014-01-01' \\\n",
    "            \" \n",
    "cur.execute(sql)\n",
    "result = []\n",
    "for row in cur:\n",
    "    result.append([row[0], row[1], row[2],row[3], row[4], row[5], row[6], row[7]])\n",
    "df_tenki=pd.DataFrame(result)\n",
    "df_tenki.columns=['ds','store','kionmax_0', \"kionmin_0\", \"kionavg_0\",'kousuiryo', \"shitsudo\", \"fusoku\"]\n",
    "df_tenki=df_tenki.sort_values(by=['store','ds']).reset_index(drop=True)\n",
    "# イベント\n",
    "cur = connection.cursor()\n",
    "sql=\"SELECT * FROM webapi_trial_event\" \n",
    "cur.execute(sql)\n",
    "result = []\n",
    "for row in cur:\n",
    "    result.append([row[0],row[1],1])\n",
    "df_trialevent=pd.DataFrame(result)\n",
    "df_trialevent.columns=[\"ds\",\"name\",\"event\"]\n",
    "df_trialevent['ds']=pd.to_datetime(df_trialevent['ds'])\n",
    "# df_trialevent=df_trialevent[[\"ds\",\"event\"]].copy()"
   ]
  },
  {
   "cell_type": "code",
   "execution_count": 568,
   "metadata": {},
   "outputs": [],
   "source": [
    "#合体させたデータフレームの作成、重複行の削除\n",
    "all_df = mochi_df.append([simenawa_df,kanbutu_df ,hyakkin_df ,df_bou,df_cupmen,df_okashi,df_senzai,\n",
    "df_inryo,iwaizake,kogatapet,hansi  ,ponpu ,df_kairo ,df_gift,cristmas,nabe_seasonal,house_senzai,\n",
    "                         df_kouraku,df_nabesoup,df_nyuyoku])\n",
    "all_df = all_df[~all_df.duplicated()]"
   ]
  },
  {
   "cell_type": "code",
   "execution_count": 569,
   "metadata": {},
   "outputs": [],
   "source": [
    "all_df['year'] = all_df['日'].dt.year\n",
    "all_df['dayofyear'] = all_df['日'].dt.dayofyear\n",
    "all_df['week'] = all_df['日'].dt.week"
   ]
  },
  {
   "cell_type": "code",
   "execution_count": 570,
   "metadata": {},
   "outputs": [
    {
     "data": {
      "text/plain": [
       "array(['充填', '丸餅', 'その他', '餅', '大福', '切り餅', '正月用品', '全国共通正月飾り', 'しめ縄',\n",
       "       '正月飾り関連', '地場正月飾り', '昆布', '海苔', 'あんこ', '粉類', 'しいたけ', 'はちみつ',\n",
       "       '製菓材料', '豆', '乾燥野菜', '瓶詰', '高野豆腐', 'だしの素', '野菜水煮', '洋風スパイス', 'いりこ',\n",
       "       'かつお', '正月用', 'お正月', '防虫剤', 'ミニカップ', '焼そば', 'ラーメン', '和風', 'こだわり',\n",
       "       '大袋', '袋スナック', '粉末洗剤', '液体洗剤', 'コンパクト洗剤', 'ボール洗剤', '高残香', '防臭',\n",
       "       '基本機能', '香りビーズ', '無添加自然', 'ドライ', '輸入', 'プレミアム', '香りミスト', '作業用',\n",
       "       'ケア', 'コーヒー（大型PET）', 'スポーツ・機能性（大型PET）', '果汁（大型PET）', '紅茶（大型PET）',\n",
       "       '炭酸（大型PET）', '乳性（大型PET）', '無糖茶（大型PET）', '祝い酒', 'カフェオレ', 'スポーツ',\n",
       "       '低果汁飲料', 'ストレート', 'ミルク', 'コーラ炭酸', 'フルーツ炭酸・その他', '透明炭酸', '乳性炭酸',\n",
       "       '乳性', 'ブレンド茶', 'ウーロン茶', '緑茶', '麦茶', 'ミネラルウォーター', '炭酸水',\n",
       "       '炭酸水（フレーバー）', '機能性・栄養', '100%ジュース', 'レモン', 'その他フレーバー', 'ジャスミン茶',\n",
       "       'その他_無糖茶', 'ミネラルウォーター（フレーバー）', '玄米茶', 'ほうじ茶', '無糖', 'お茶ラテ', 'オレンジ',\n",
       "       '微糖', '甘酒', '加糖', 'はがき', '書道', '灯油ポンプ', '灯油缶', '貼るカイロ', '貼らないカイロ',\n",
       "       '温熱器具・シート', '足用', 'ギフト', 'ビールギフト', '飲料', '定価1000円台', '定価2000円台',\n",
       "       '定価3000円台', '定価5000円台', 'クリスマス', '鍋', '季節鍋', '特殊鍋', 'トイレシート',\n",
       "       'カビ取り剤', 'バスクリーナー', 'オールパーパス', 'ガラス・網戸', 'トイレクリーナー', 'パイプクリーナー',\n",
       "       'ワックス', 'ダストワイパー', 'ダニ・ハウスダスト', 'エアコンクリーナー', 'おかずケース', 'プレート',\n",
       "       'ボウル', 'どんぶり・カレー皿・トレー', '割り箸', '使い捨てカップ', '爪楊枝・串', 'ランチボックス',\n",
       "       '行楽弁当小物', 'おしぼり・ナプキン', 'ストロー', 'フードパック', '使い捨てカトラリー', 'ダイレクトボトル',\n",
       "       'コップ付ボトル', 'レジャーバッグ', 'マグボトル', 'コーヒーマグ', '保温・保冷ジャー', 'ｷｯｽﾞ',\n",
       "       'レディス', '弁当関連', 'レジャーシート', '卓上タンブラー', 'ﾒﾝｽﾞ', '子供ボトル', '水筒小物',\n",
       "       'その他（行楽用品）', 'ジャグ', 'アウトドアボトル', 'メニュー限定', '鍋スープ', '炭酸ガス温浴',\n",
       "       '一般薬用（温浴）', 'スキンケア液体', '温泉風シリーズ', 'スキンケア粉末', '入浴剤その他', 'シャワーケア剤',\n",
       "       '一般薬用（清涼）', '炭酸ガス清涼'], dtype=object)"
      ]
     },
     "execution_count": 570,
     "metadata": {},
     "output_type": "execute_result"
    }
   ],
   "source": [
    "all_df['サブカテゴリー名'].unique()\n"
   ]
  },
  {
   "cell_type": "code",
   "execution_count": 571,
   "metadata": {},
   "outputs": [
    {
     "data": {
      "text/html": [
       "<div>\n",
       "<style scoped>\n",
       "    .dataframe tbody tr th:only-of-type {\n",
       "        vertical-align: middle;\n",
       "    }\n",
       "\n",
       "    .dataframe tbody tr th {\n",
       "        vertical-align: top;\n",
       "    }\n",
       "\n",
       "    .dataframe thead th {\n",
       "        text-align: right;\n",
       "    }\n",
       "</style>\n",
       "<table border=\"1\" class=\"dataframe\">\n",
       "  <thead>\n",
       "    <tr style=\"text-align: right;\">\n",
       "      <th></th>\n",
       "      <th>ds</th>\n",
       "      <th>name</th>\n",
       "      <th>event</th>\n",
       "      <th>year</th>\n",
       "      <th>week</th>\n",
       "    </tr>\n",
       "  </thead>\n",
       "  <tbody>\n",
       "    <tr>\n",
       "      <th>0</th>\n",
       "      <td>2014-08-13</td>\n",
       "      <td>盆</td>\n",
       "      <td>1</td>\n",
       "      <td>2014</td>\n",
       "      <td>33</td>\n",
       "    </tr>\n",
       "  </tbody>\n",
       "</table>\n",
       "</div>"
      ],
      "text/plain": [
       "          ds name  event  year  week\n",
       "0 2014-08-13    盆      1  2014    33"
      ]
     },
     "execution_count": 571,
     "metadata": {},
     "output_type": "execute_result"
    }
   ],
   "source": [
    "df_trialevent['year'] = df_trialevent['ds'].dt.year\n",
    "df_trialevent['week'] = df_trialevent['ds'].dt.week\n",
    "df_trialevent.head(1)"
   ]
  },
  {
   "cell_type": "code",
   "execution_count": 572,
   "metadata": {},
   "outputs": [],
   "source": [
    "# 2017年以降のデータをみる\n",
    "all_dfweek = all_df.query(\"year>=2017\")[['week','year','テーマ','エリア名','サブカテゴリー名','売上数量']].groupby\\\n",
    "(['week','year','テーマ','エリア名','サブカテゴリー名']).sum().reset_index()"
   ]
  },
  {
   "cell_type": "code",
   "execution_count": 573,
   "metadata": {},
   "outputs": [
    {
     "data": {
      "text/plain": [
       "0           福岡\n",
       "1           福岡\n",
       "2           福岡\n",
       "3           福岡\n",
       "4           福岡\n",
       "          ... \n",
       "1243301    福岡南\n",
       "1243302    福岡南\n",
       "1243303    福岡南\n",
       "1243304    福岡南\n",
       "1243305    福岡南\n",
       "Name: エリア名, Length: 1243306, dtype: object"
      ]
     },
     "execution_count": 573,
     "metadata": {},
     "output_type": "execute_result"
    }
   ],
   "source": [
    "df_cupmen['エリア名']"
   ]
  },
  {
   "cell_type": "code",
   "execution_count": 574,
   "metadata": {},
   "outputs": [],
   "source": [
    "#感謝祭の週を出す\n",
    "kansya_event = df_trialevent.loc[df_trialevent['name'].str.contains('感謝祭')][['week','year','event']]\n",
    "all_dfweek = all_dfweek.merge(kansya_event[~kansya_event.duplicated()]\\\n",
    "                        , how='left',on=['year','week']).fillna(0)\n",
    "all_dfweek.loc[all_dfweek['event']==1, '売上数量']= np.nan"
   ]
  },
  {
   "cell_type": "code",
   "execution_count": 575,
   "metadata": {},
   "outputs": [],
   "source": [
    "#感謝祭の週のデータを前後の値で補間する\n",
    "all_dfweek = all_dfweek.sort_values\\\n",
    "(['エリア名','サブカテゴリー名','year','week'],ascending=[True,True,True,True])\n",
    "all_dfweek = all_dfweek.interpolate().reset_index(drop=True)"
   ]
  },
  {
   "cell_type": "code",
   "execution_count": 576,
   "metadata": {},
   "outputs": [
    {
     "data": {
      "text/html": [
       "<div>\n",
       "<style scoped>\n",
       "    .dataframe tbody tr th:only-of-type {\n",
       "        vertical-align: middle;\n",
       "    }\n",
       "\n",
       "    .dataframe tbody tr th {\n",
       "        vertical-align: top;\n",
       "    }\n",
       "\n",
       "    .dataframe thead th {\n",
       "        text-align: right;\n",
       "    }\n",
       "</style>\n",
       "<table border=\"1\" class=\"dataframe\">\n",
       "  <thead>\n",
       "    <tr style=\"text-align: right;\">\n",
       "      <th></th>\n",
       "      <th>week</th>\n",
       "      <th>year</th>\n",
       "      <th>テーマ</th>\n",
       "      <th>エリア名</th>\n",
       "      <th>サブカテゴリー名</th>\n",
       "      <th>売上数量</th>\n",
       "      <th>event</th>\n",
       "    </tr>\n",
       "  </thead>\n",
       "  <tbody>\n",
       "    <tr>\n",
       "      <th>0</th>\n",
       "      <td>1</td>\n",
       "      <td>2017</td>\n",
       "      <td>小型PET</td>\n",
       "      <td>佐賀西</td>\n",
       "      <td>100%ジュース</td>\n",
       "      <td>37.0</td>\n",
       "      <td>0.0</td>\n",
       "    </tr>\n",
       "    <tr>\n",
       "      <th>1</th>\n",
       "      <td>2</td>\n",
       "      <td>2017</td>\n",
       "      <td>小型PET</td>\n",
       "      <td>佐賀西</td>\n",
       "      <td>100%ジュース</td>\n",
       "      <td>36.0</td>\n",
       "      <td>0.0</td>\n",
       "    </tr>\n",
       "    <tr>\n",
       "      <th>2</th>\n",
       "      <td>3</td>\n",
       "      <td>2017</td>\n",
       "      <td>小型PET</td>\n",
       "      <td>佐賀西</td>\n",
       "      <td>100%ジュース</td>\n",
       "      <td>37.0</td>\n",
       "      <td>0.0</td>\n",
       "    </tr>\n",
       "    <tr>\n",
       "      <th>3</th>\n",
       "      <td>4</td>\n",
       "      <td>2017</td>\n",
       "      <td>小型PET</td>\n",
       "      <td>佐賀西</td>\n",
       "      <td>100%ジュース</td>\n",
       "      <td>48.0</td>\n",
       "      <td>0.0</td>\n",
       "    </tr>\n",
       "    <tr>\n",
       "      <th>4</th>\n",
       "      <td>5</td>\n",
       "      <td>2017</td>\n",
       "      <td>小型PET</td>\n",
       "      <td>佐賀西</td>\n",
       "      <td>100%ジュース</td>\n",
       "      <td>44.0</td>\n",
       "      <td>0.0</td>\n",
       "    </tr>\n",
       "    <tr>\n",
       "      <th>...</th>\n",
       "      <td>...</td>\n",
       "      <td>...</td>\n",
       "      <td>...</td>\n",
       "      <td>...</td>\n",
       "      <td>...</td>\n",
       "      <td>...</td>\n",
       "      <td>...</td>\n",
       "    </tr>\n",
       "    <tr>\n",
       "      <th>154181</th>\n",
       "      <td>10</td>\n",
       "      <td>2020</td>\n",
       "      <td>行楽</td>\n",
       "      <td>筑豊</td>\n",
       "      <td>ﾒﾝｽﾞ</td>\n",
       "      <td>35.0</td>\n",
       "      <td>0.0</td>\n",
       "    </tr>\n",
       "    <tr>\n",
       "      <th>154182</th>\n",
       "      <td>11</td>\n",
       "      <td>2020</td>\n",
       "      <td>行楽</td>\n",
       "      <td>筑豊</td>\n",
       "      <td>ﾒﾝｽﾞ</td>\n",
       "      <td>50.0</td>\n",
       "      <td>0.0</td>\n",
       "    </tr>\n",
       "    <tr>\n",
       "      <th>154183</th>\n",
       "      <td>12</td>\n",
       "      <td>2020</td>\n",
       "      <td>行楽</td>\n",
       "      <td>筑豊</td>\n",
       "      <td>ﾒﾝｽﾞ</td>\n",
       "      <td>56.0</td>\n",
       "      <td>0.0</td>\n",
       "    </tr>\n",
       "    <tr>\n",
       "      <th>154184</th>\n",
       "      <td>13</td>\n",
       "      <td>2020</td>\n",
       "      <td>行楽</td>\n",
       "      <td>筑豊</td>\n",
       "      <td>ﾒﾝｽﾞ</td>\n",
       "      <td>54.0</td>\n",
       "      <td>0.0</td>\n",
       "    </tr>\n",
       "    <tr>\n",
       "      <th>154185</th>\n",
       "      <td>14</td>\n",
       "      <td>2020</td>\n",
       "      <td>行楽</td>\n",
       "      <td>筑豊</td>\n",
       "      <td>ﾒﾝｽﾞ</td>\n",
       "      <td>21.0</td>\n",
       "      <td>0.0</td>\n",
       "    </tr>\n",
       "  </tbody>\n",
       "</table>\n",
       "<p>154186 rows × 7 columns</p>\n",
       "</div>"
      ],
      "text/plain": [
       "        week  year    テーマ エリア名  サブカテゴリー名  売上数量  event\n",
       "0          1  2017  小型PET  佐賀西  100%ジュース  37.0    0.0\n",
       "1          2  2017  小型PET  佐賀西  100%ジュース  36.0    0.0\n",
       "2          3  2017  小型PET  佐賀西  100%ジュース  37.0    0.0\n",
       "3          4  2017  小型PET  佐賀西  100%ジュース  48.0    0.0\n",
       "4          5  2017  小型PET  佐賀西  100%ジュース  44.0    0.0\n",
       "...      ...   ...    ...  ...       ...   ...    ...\n",
       "154181    10  2020     行楽   筑豊      ﾒﾝｽﾞ  35.0    0.0\n",
       "154182    11  2020     行楽   筑豊      ﾒﾝｽﾞ  50.0    0.0\n",
       "154183    12  2020     行楽   筑豊      ﾒﾝｽﾞ  56.0    0.0\n",
       "154184    13  2020     行楽   筑豊      ﾒﾝｽﾞ  54.0    0.0\n",
       "154185    14  2020     行楽   筑豊      ﾒﾝｽﾞ  21.0    0.0\n",
       "\n",
       "[154186 rows x 7 columns]"
      ]
     },
     "execution_count": 576,
     "metadata": {},
     "output_type": "execute_result"
    }
   ],
   "source": [
    "all_dfweek"
   ]
  },
  {
   "cell_type": "code",
   "execution_count": 577,
   "metadata": {},
   "outputs": [
    {
     "name": "stderr",
     "output_type": "stream",
     "text": [
      "  0%|                                                                                                                                            | 0/4 [00:00<?, ?it/s]/usr/lib/python3.6/site-packages/ipykernel_launcher.py:8: SettingWithCopyWarning:\n",
      "\n",
      "\n",
      "A value is trying to be set on a copy of a slice from a DataFrame.\n",
      "Try using .loc[row_indexer,col_indexer] = value instead\n",
      "\n",
      "See the caveats in the documentation: https://pandas.pydata.org/pandas-docs/stable/user_guide/indexing.html#returning-a-view-versus-a-copy\n",
      "\n",
      "/usr/lib/python3.6/site-packages/ipykernel_launcher.py:9: SettingWithCopyWarning:\n",
      "\n",
      "\n",
      "A value is trying to be set on a copy of a slice from a DataFrame.\n",
      "Try using .loc[row_indexer,col_indexer] = value instead\n",
      "\n",
      "See the caveats in the documentation: https://pandas.pydata.org/pandas-docs/stable/user_guide/indexing.html#returning-a-view-versus-a-copy\n",
      "\n",
      "100%|████████████████████████████████████████████████████████████████████████████████████████████████████████████████████████████████████| 4/4 [04:14<00:00, 63.60s/it]\n"
     ]
    }
   ],
   "source": [
    "tmpFrame2 = pd.DataFrame(columns=\\\n",
    "                         ['week','year','エリア名','サブカテゴリー名','売上数量','前日売数','前日売数差'])\n",
    "\n",
    "for m in tqdm(all_dfweek['year'].unique()):\n",
    "    tmp = all_dfweek.loc[all_dfweek['year']== m,:]\n",
    "    for i in tmp['エリア名'].unique():\n",
    "        for k in tmp['サブカテゴリー名'].unique():\n",
    "            tmp4 = tmp.loc[(tmp['エリア名']== i)&(tmp['サブカテゴリー名']== k) ,:]\n",
    "            tmp4['前日売数'] = tmp4['売上数量'].shift()\n",
    "            tmp4['前日売数差'] = tmp4['売上数量'] - tmp4['前日売数']\n",
    "            tmpFrame2 = tmpFrame2.append(tmp4)"
   ]
  },
  {
   "cell_type": "code",
   "execution_count": 544,
   "metadata": {},
   "outputs": [
    {
     "data": {
      "text/plain": [
       "array(['小型PET', '乾物', '行楽', '百均', 'カップ麺', 'しめ縄', '鏡餅', 'はがき', '住居洗剤',\n",
       "       'お歳暮', 'クリスマス', '衣料洗剤', '飲料', '鍋つゆ', 'チョコレート', '鍋・季節鍋', '半紙',\n",
       "       '正月雑貨', 'カイロ', '灯油缶ポンプ', '祝酒', 'スナック', '防虫剤'], dtype=object)"
      ]
     },
     "execution_count": 544,
     "metadata": {},
     "output_type": "execute_result"
    }
   ],
   "source": [
    "tmpFrame2['テーマ'].unique()"
   ]
  },
  {
   "cell_type": "markdown",
   "metadata": {},
   "source": [
    "#### ここでテーマを変えて見る"
   ]
  },
  {
   "cell_type": "code",
   "execution_count": 545,
   "metadata": {},
   "outputs": [],
   "source": [
    "Theme = '衣料洗剤'"
   ]
  },
  {
   "cell_type": "code",
   "execution_count": 546,
   "metadata": {},
   "outputs": [
    {
     "data": {
      "text/plain": [
       "array(['コンパクト洗剤', 'ドライ', 'プレミアム', 'ボール洗剤', '作業用', '基本機能', '液体洗剤', '無添加自然',\n",
       "       '粉末洗剤', '輸入', '防臭', '香りビーズ', '香りミスト', '高残香', 'ケア'], dtype=object)"
      ]
     },
     "execution_count": 546,
     "metadata": {},
     "output_type": "execute_result"
    }
   ],
   "source": [
    "tmpFrame2.loc[tmpFrame2['テーマ']== Theme]['サブカテゴリー名'].unique()"
   ]
  },
  {
   "cell_type": "code",
   "execution_count": null,
   "metadata": {},
   "outputs": [],
   "source": []
  },
  {
   "cell_type": "markdown",
   "metadata": {},
   "source": [
    "#### サブカテをかえる"
   ]
  },
  {
   "cell_type": "code",
   "execution_count": 401,
   "metadata": {},
   "outputs": [],
   "source": [
    "Subcate = '和風'"
   ]
  },
  {
   "cell_type": "code",
   "execution_count": 472,
   "metadata": {},
   "outputs": [
    {
     "ename": "KeyError",
     "evalue": "'week'",
     "output_type": "error",
     "traceback": [
      "\u001b[0;31m---------------------------------------------------------------------------\u001b[0m",
      "\u001b[0;31mKeyError\u001b[0m                                  Traceback (most recent call last)",
      "\u001b[0;32m/usr/lib64/python3.6/site-packages/pandas/core/indexes/base.py\u001b[0m in \u001b[0;36mget_loc\u001b[0;34m(self, key, method, tolerance)\u001b[0m\n\u001b[1;32m   2645\u001b[0m             \u001b[0;32mtry\u001b[0m\u001b[0;34m:\u001b[0m\u001b[0;34m\u001b[0m\u001b[0;34m\u001b[0m\u001b[0m\n\u001b[0;32m-> 2646\u001b[0;31m                 \u001b[0;32mreturn\u001b[0m \u001b[0mself\u001b[0m\u001b[0;34m.\u001b[0m\u001b[0m_engine\u001b[0m\u001b[0;34m.\u001b[0m\u001b[0mget_loc\u001b[0m\u001b[0;34m(\u001b[0m\u001b[0mkey\u001b[0m\u001b[0;34m)\u001b[0m\u001b[0;34m\u001b[0m\u001b[0;34m\u001b[0m\u001b[0m\n\u001b[0m\u001b[1;32m   2647\u001b[0m             \u001b[0;32mexcept\u001b[0m \u001b[0mKeyError\u001b[0m\u001b[0;34m:\u001b[0m\u001b[0;34m\u001b[0m\u001b[0;34m\u001b[0m\u001b[0m\n",
      "\u001b[0;32mpandas/_libs/index.pyx\u001b[0m in \u001b[0;36mpandas._libs.index.IndexEngine.get_loc\u001b[0;34m()\u001b[0m\n",
      "\u001b[0;32mpandas/_libs/index.pyx\u001b[0m in \u001b[0;36mpandas._libs.index.IndexEngine.get_loc\u001b[0;34m()\u001b[0m\n",
      "\u001b[0;32mpandas/_libs/hashtable_class_helper.pxi\u001b[0m in \u001b[0;36mpandas._libs.hashtable.PyObjectHashTable.get_item\u001b[0;34m()\u001b[0m\n",
      "\u001b[0;32mpandas/_libs/hashtable_class_helper.pxi\u001b[0m in \u001b[0;36mpandas._libs.hashtable.PyObjectHashTable.get_item\u001b[0;34m()\u001b[0m\n",
      "\u001b[0;31mKeyError\u001b[0m: 'week'",
      "\nDuring handling of the above exception, another exception occurred:\n",
      "\u001b[0;31mKeyError\u001b[0m                                  Traceback (most recent call last)",
      "\u001b[0;32m<ipython-input-472-81040c463499>\u001b[0m in \u001b[0;36m<module>\u001b[0;34m()\u001b[0m\n\u001b[1;32m      2\u001b[0m \u001b[0mret_df\u001b[0m \u001b[0;34m=\u001b[0m \u001b[0mtmpFrame2\u001b[0m\u001b[0;34m.\u001b[0m\u001b[0mloc\u001b[0m\u001b[0;34m[\u001b[0m\u001b[0;34m(\u001b[0m\u001b[0mtmpFrame2\u001b[0m\u001b[0;34m[\u001b[0m\u001b[0;34m'テーマ'\u001b[0m\u001b[0;34m]\u001b[0m\u001b[0;34m==\u001b[0m \u001b[0mTheme\u001b[0m\u001b[0;34m)\u001b[0m\u001b[0;34m&\u001b[0m\u001b[0;34m(\u001b[0m\u001b[0mtmpFrame2\u001b[0m\u001b[0;34m[\u001b[0m\u001b[0;34m'サブカテゴリー名'\u001b[0m\u001b[0;34m]\u001b[0m\u001b[0;34m==\u001b[0m \u001b[0mSubcate\u001b[0m\u001b[0;34m)\u001b[0m\u001b[0;34m]\u001b[0m\u001b[0;34m.\u001b[0m\u001b[0mfillna\u001b[0m\u001b[0;34m(\u001b[0m\u001b[0;36m0\u001b[0m\u001b[0;34m)\u001b[0m\u001b[0;34m\u001b[0m\u001b[0;34m\u001b[0m\u001b[0m\n\u001b[1;32m      3\u001b[0m \u001b[0mret\u001b[0m \u001b[0;34m=\u001b[0m \u001b[0mret_df\u001b[0m\u001b[0;34m.\u001b[0m\u001b[0mquery\u001b[0m\u001b[0;34m(\u001b[0m\u001b[0;34m'week>=40'\u001b[0m\u001b[0;34m)\u001b[0m\u001b[0;34m.\u001b[0m\u001b[0mquery\u001b[0m\u001b[0;34m(\u001b[0m\u001b[0;34m'week<=51'\u001b[0m\u001b[0;34m)\u001b[0m\u001b[0;34m.\u001b[0m\u001b[0mgroupby\u001b[0m\u001b[0;34m(\u001b[0m\u001b[0;34m[\u001b[0m\u001b[0;34m'year'\u001b[0m\u001b[0;34m,\u001b[0m\u001b[0;34m'エリア名'\u001b[0m\u001b[0;34m]\u001b[0m\u001b[0;34m)\u001b[0m\u001b[0;34m.\u001b[0m\u001b[0mapply\u001b[0m\u001b[0;34m(\u001b[0m\u001b[0;32mlambda\u001b[0m \u001b[0md\u001b[0m\u001b[0;34m:\u001b[0m\u001b[0md\u001b[0m\u001b[0;34m.\u001b[0m\u001b[0mloc\u001b[0m\u001b[0;34m[\u001b[0m\u001b[0md\u001b[0m\u001b[0;34m[\u001b[0m\u001b[0;34m'前日売数差'\u001b[0m\u001b[0;34m]\u001b[0m\u001b[0;34m.\u001b[0m\u001b[0midxmax\u001b[0m\u001b[0;34m(\u001b[0m\u001b[0;34m)\u001b[0m\u001b[0;34m]\u001b[0m\u001b[0;34m)\u001b[0m\u001b[0;34m.\u001b[0m\u001b[0mreset_index\u001b[0m\u001b[0;34m(\u001b[0m\u001b[0mdrop\u001b[0m\u001b[0;34m=\u001b[0m\u001b[0;32mTrue\u001b[0m\u001b[0;34m)\u001b[0m\u001b[0;34m\u001b[0m\u001b[0;34m\u001b[0m\u001b[0m\n\u001b[0;32m----> 4\u001b[0;31m \u001b[0mret_mean1\u001b[0m \u001b[0;34m=\u001b[0m\u001b[0mret\u001b[0m\u001b[0;34m[\u001b[0m\u001b[0;34m'week'\u001b[0m\u001b[0;34m]\u001b[0m\u001b[0;34m.\u001b[0m\u001b[0mmean\u001b[0m\u001b[0;34m(\u001b[0m\u001b[0;34m)\u001b[0m\u001b[0;34m\u001b[0m\u001b[0;34m\u001b[0m\u001b[0m\n\u001b[0m\u001b[1;32m      5\u001b[0m \u001b[0mret_mean1\u001b[0m\u001b[0;34m\u001b[0m\u001b[0;34m\u001b[0m\u001b[0m\n\u001b[1;32m      6\u001b[0m \u001b[0;31m#下降\u001b[0m\u001b[0;34m\u001b[0m\u001b[0;34m\u001b[0m\u001b[0;34m\u001b[0m\u001b[0m\n",
      "\u001b[0;32m/usr/lib64/python3.6/site-packages/pandas/core/frame.py\u001b[0m in \u001b[0;36m__getitem__\u001b[0;34m(self, key)\u001b[0m\n\u001b[1;32m   2798\u001b[0m             \u001b[0;32mif\u001b[0m \u001b[0mself\u001b[0m\u001b[0;34m.\u001b[0m\u001b[0mcolumns\u001b[0m\u001b[0;34m.\u001b[0m\u001b[0mnlevels\u001b[0m \u001b[0;34m>\u001b[0m \u001b[0;36m1\u001b[0m\u001b[0;34m:\u001b[0m\u001b[0;34m\u001b[0m\u001b[0;34m\u001b[0m\u001b[0m\n\u001b[1;32m   2799\u001b[0m                 \u001b[0;32mreturn\u001b[0m \u001b[0mself\u001b[0m\u001b[0;34m.\u001b[0m\u001b[0m_getitem_multilevel\u001b[0m\u001b[0;34m(\u001b[0m\u001b[0mkey\u001b[0m\u001b[0;34m)\u001b[0m\u001b[0;34m\u001b[0m\u001b[0;34m\u001b[0m\u001b[0m\n\u001b[0;32m-> 2800\u001b[0;31m             \u001b[0mindexer\u001b[0m \u001b[0;34m=\u001b[0m \u001b[0mself\u001b[0m\u001b[0;34m.\u001b[0m\u001b[0mcolumns\u001b[0m\u001b[0;34m.\u001b[0m\u001b[0mget_loc\u001b[0m\u001b[0;34m(\u001b[0m\u001b[0mkey\u001b[0m\u001b[0;34m)\u001b[0m\u001b[0;34m\u001b[0m\u001b[0;34m\u001b[0m\u001b[0m\n\u001b[0m\u001b[1;32m   2801\u001b[0m             \u001b[0;32mif\u001b[0m \u001b[0mis_integer\u001b[0m\u001b[0;34m(\u001b[0m\u001b[0mindexer\u001b[0m\u001b[0;34m)\u001b[0m\u001b[0;34m:\u001b[0m\u001b[0;34m\u001b[0m\u001b[0;34m\u001b[0m\u001b[0m\n\u001b[1;32m   2802\u001b[0m                 \u001b[0mindexer\u001b[0m \u001b[0;34m=\u001b[0m \u001b[0;34m[\u001b[0m\u001b[0mindexer\u001b[0m\u001b[0;34m]\u001b[0m\u001b[0;34m\u001b[0m\u001b[0;34m\u001b[0m\u001b[0m\n",
      "\u001b[0;32m/usr/lib64/python3.6/site-packages/pandas/core/indexes/base.py\u001b[0m in \u001b[0;36mget_loc\u001b[0;34m(self, key, method, tolerance)\u001b[0m\n\u001b[1;32m   2646\u001b[0m                 \u001b[0;32mreturn\u001b[0m \u001b[0mself\u001b[0m\u001b[0;34m.\u001b[0m\u001b[0m_engine\u001b[0m\u001b[0;34m.\u001b[0m\u001b[0mget_loc\u001b[0m\u001b[0;34m(\u001b[0m\u001b[0mkey\u001b[0m\u001b[0;34m)\u001b[0m\u001b[0;34m\u001b[0m\u001b[0;34m\u001b[0m\u001b[0m\n\u001b[1;32m   2647\u001b[0m             \u001b[0;32mexcept\u001b[0m \u001b[0mKeyError\u001b[0m\u001b[0;34m:\u001b[0m\u001b[0;34m\u001b[0m\u001b[0;34m\u001b[0m\u001b[0m\n\u001b[0;32m-> 2648\u001b[0;31m                 \u001b[0;32mreturn\u001b[0m \u001b[0mself\u001b[0m\u001b[0;34m.\u001b[0m\u001b[0m_engine\u001b[0m\u001b[0;34m.\u001b[0m\u001b[0mget_loc\u001b[0m\u001b[0;34m(\u001b[0m\u001b[0mself\u001b[0m\u001b[0;34m.\u001b[0m\u001b[0m_maybe_cast_indexer\u001b[0m\u001b[0;34m(\u001b[0m\u001b[0mkey\u001b[0m\u001b[0;34m)\u001b[0m\u001b[0;34m)\u001b[0m\u001b[0;34m\u001b[0m\u001b[0;34m\u001b[0m\u001b[0m\n\u001b[0m\u001b[1;32m   2649\u001b[0m         \u001b[0mindexer\u001b[0m \u001b[0;34m=\u001b[0m \u001b[0mself\u001b[0m\u001b[0;34m.\u001b[0m\u001b[0mget_indexer\u001b[0m\u001b[0;34m(\u001b[0m\u001b[0;34m[\u001b[0m\u001b[0mkey\u001b[0m\u001b[0;34m]\u001b[0m\u001b[0;34m,\u001b[0m \u001b[0mmethod\u001b[0m\u001b[0;34m=\u001b[0m\u001b[0mmethod\u001b[0m\u001b[0;34m,\u001b[0m \u001b[0mtolerance\u001b[0m\u001b[0;34m=\u001b[0m\u001b[0mtolerance\u001b[0m\u001b[0;34m)\u001b[0m\u001b[0;34m\u001b[0m\u001b[0;34m\u001b[0m\u001b[0m\n\u001b[1;32m   2650\u001b[0m         \u001b[0;32mif\u001b[0m \u001b[0mindexer\u001b[0m\u001b[0;34m.\u001b[0m\u001b[0mndim\u001b[0m \u001b[0;34m>\u001b[0m \u001b[0;36m1\u001b[0m \u001b[0;32mor\u001b[0m \u001b[0mindexer\u001b[0m\u001b[0;34m.\u001b[0m\u001b[0msize\u001b[0m \u001b[0;34m>\u001b[0m \u001b[0;36m1\u001b[0m\u001b[0;34m:\u001b[0m\u001b[0;34m\u001b[0m\u001b[0;34m\u001b[0m\u001b[0m\n",
      "\u001b[0;32mpandas/_libs/index.pyx\u001b[0m in \u001b[0;36mpandas._libs.index.IndexEngine.get_loc\u001b[0;34m()\u001b[0m\n",
      "\u001b[0;32mpandas/_libs/index.pyx\u001b[0m in \u001b[0;36mpandas._libs.index.IndexEngine.get_loc\u001b[0;34m()\u001b[0m\n",
      "\u001b[0;32mpandas/_libs/hashtable_class_helper.pxi\u001b[0m in \u001b[0;36mpandas._libs.hashtable.PyObjectHashTable.get_item\u001b[0;34m()\u001b[0m\n",
      "\u001b[0;32mpandas/_libs/hashtable_class_helper.pxi\u001b[0m in \u001b[0;36mpandas._libs.hashtable.PyObjectHashTable.get_item\u001b[0;34m()\u001b[0m\n",
      "\u001b[0;31mKeyError\u001b[0m: 'week'"
     ]
    }
   ],
   "source": [
    "#売れ数上昇\n",
    "ret_df = tmpFrame2.loc[(tmpFrame2['テーマ']== Theme)&(tmpFrame2['サブカテゴリー名']== Subcate)].fillna(0)\n",
    "ret = ret_df.query('week>=40').query('week<=51').groupby(['year','エリア名']).apply(lambda d:d.loc[d['前日売数差'].idxmax()]).reset_index(drop=True)\n",
    "ret_mean1 =ret['week'].mean()\n",
    "ret_mean1\n",
    "#下降\n",
    "ret2 = ret_df.query('week<=5').groupby(['year','エリア名']).apply(lambda d:d.loc[d['前日売数差'].idxmin()]).reset_index(drop=True)\n",
    "ret_mean2 = ret2['week'].mean()\n",
    "ret_mean2"
   ]
  },
  {
   "cell_type": "code",
   "execution_count": 403,
   "metadata": {},
   "outputs": [
    {
     "data": {
      "text/plain": [
       "49.94444444444444"
      ]
     },
     "execution_count": 403,
     "metadata": {},
     "output_type": "execute_result"
    }
   ],
   "source": [
    "ret_mean1"
   ]
  },
  {
   "cell_type": "code",
   "execution_count": 404,
   "metadata": {},
   "outputs": [
    {
     "data": {
      "text/plain": [
       "1.9696064669212865"
      ]
     },
     "execution_count": 404,
     "metadata": {},
     "output_type": "execute_result"
    }
   ],
   "source": [
    "peak = ret_df.loc[(ret_df[\"week\"]>= ret_mean1)|(ret_df[\"week\"]<= ret_mean2)].groupby([\"year\",\"week\"])[\"売上数量\"].sum().reset_index()\n",
    "peak.rename(columns={\"売上数量\":\"ピーク数量\"}, inplace=True)\n",
    "not_peak = ret_df.loc[(ret_df[\"week\"]<= ret_mean1)&(ret_df[\"week\"]>= ret_mean2)].groupby([\"year\",\"week\"])[\"売上数量\"].sum().reset_index()\n",
    "not_peak.rename(columns={\"売上数量\":\"非ピーク数量\"}, inplace=True)\n",
    "\n",
    "peak = peak.groupby([\"year\"])[\"ピーク数量\"].mean().reset_index()\n",
    "not_peak = not_peak.groupby([\"year\"])[\"非ピーク数量\"].mean().reset_index()\n",
    "\n",
    "df_peak_rate = peak.merge(not_peak, on=\"year\")\n",
    "\n",
    "df_peak_rate[\"rate\"]=df_peak_rate[\"ピーク数量\"]/df_peak_rate[\"非ピーク数量\"]\n",
    "df_peak_rate.query(\"year>=2017\")['rate'].mean()"
   ]
  },
  {
   "cell_type": "code",
   "execution_count": 470,
   "metadata": {},
   "outputs": [
    {
     "data": {
      "image/png": "[encoded data removed]",
      "text/plain": [
       "<Figure size 1152x288 with 1 Axes>"
      ]
     },
     "metadata": {},
     "output_type": "display_data"
    }
   ],
   "source": [
    "#売上数量\n",
    "plt.figure(figsize=(16,4))\n",
    "plt.bar(ret_df[\"week\"],ret_df[\"売上数量\"])\n",
    "plt.grid(True)"
   ]
  },
  {
   "cell_type": "code",
   "execution_count": 430,
   "metadata": {},
   "outputs": [],
   "source": [
    "subseason_kouraku = tmpFrame2.query(\"テーマ=='カップ麺'\").loc[(tmpFrame2['サブカテゴリー名']!='和風')|\\\n",
    "#                                  (tmpFrame2['サブカテゴリー名']=='オールパーパス')|\\\n",
    "#                                  (tmpFrame2['サブカテゴリー名']=='カビ取り剤')|\\\n",
    "#                                  (tmpFrame2['サブカテゴリー名']=='ガラス・網戸')|\\\n",
    "#                                  (tmpFrame2['サブカテゴリー名']=='ダストワイパー')|\\\n",
    "#                                  (tmpFrame2['サブカテゴリー名']=='トイレクリーナー')|\\\n",
    "#                                  (tmpFrame2['サブカテゴリー名']=='バスクリーナー')|\\\n",
    "#                                  (tmpFrame2['サブカテゴリー名']=='パイプクリーナー')|\\\n",
    "#                                  (tmpFrame2['サブカテゴリー名']=='ワックス')\n",
    "                                ]"
   ]
  },
  {
   "cell_type": "code",
   "execution_count": 566,
   "metadata": {},
   "outputs": [
    {
     "data": {
      "text/plain": [
       "array(['小型PET', '乾物', '行楽', '百均', 'カップ麺', 'しめ縄', '鏡餅', 'はがき', '住居洗剤',\n",
       "       'お歳暮', 'クリスマス', '衣料洗剤', '飲料', '鍋つゆ', 'チョコレート', '鍋・季節鍋', '半紙',\n",
       "       '正月雑貨', 'カイロ', '灯油缶ポンプ', '祝酒', 'スナック', '防虫剤'], dtype=object)"
      ]
     },
     "execution_count": 566,
     "metadata": {},
     "output_type": "execute_result"
    }
   ],
   "source": [
    "tmpFrame2['テーマ'].unique()"
   ]
  },
  {
   "cell_type": "code",
   "execution_count": 578,
   "metadata": {},
   "outputs": [],
   "source": [
    "subseason_kouraku = tmpFrame2.query(\"テーマ=='入浴剤'\")"
   ]
  },
  {
   "cell_type": "code",
   "execution_count": 562,
   "metadata": {},
   "outputs": [],
   "source": [
    "# subseason_kouraku = tmpFrame2.query(\"テーマ=='カップ麺'\").loc[(tmpFrame2['サブカテゴリー名']=='和風')]"
   ]
  },
  {
   "cell_type": "code",
   "execution_count": 563,
   "metadata": {},
   "outputs": [],
   "source": [
    "subseason_kouraku_sum = subseason_kouraku[['week','year','エリア名','売上数量','前日売数差']].groupby(['week','year','エリア名'])\\\n",
    ".sum().reset_index()"
   ]
  },
  {
   "cell_type": "code",
   "execution_count": 564,
   "metadata": {},
   "outputs": [
    {
     "data": {
      "text/html": [
       "<div>\n",
       "<style scoped>\n",
       "    .dataframe tbody tr th:only-of-type {\n",
       "        vertical-align: middle;\n",
       "    }\n",
       "\n",
       "    .dataframe tbody tr th {\n",
       "        vertical-align: top;\n",
       "    }\n",
       "\n",
       "    .dataframe thead th {\n",
       "        text-align: right;\n",
       "    }\n",
       "</style>\n",
       "<table border=\"1\" class=\"dataframe\">\n",
       "  <thead>\n",
       "    <tr style=\"text-align: right;\">\n",
       "      <th></th>\n",
       "      <th>week</th>\n",
       "      <th>year</th>\n",
       "      <th>エリア名</th>\n",
       "      <th>売上数量</th>\n",
       "      <th>前日売数差</th>\n",
       "    </tr>\n",
       "  </thead>\n",
       "  <tbody>\n",
       "  </tbody>\n",
       "</table>\n",
       "</div>"
      ],
      "text/plain": [
       "Empty DataFrame\n",
       "Columns: [week, year, エリア名, 売上数量, 前日売数差]\n",
       "Index: []"
      ]
     },
     "execution_count": 564,
     "metadata": {},
     "output_type": "execute_result"
    }
   ],
   "source": [
    "subseason_kouraku_sum"
   ]
  },
  {
   "cell_type": "code",
   "execution_count": 565,
   "metadata": {},
   "outputs": [],
   "source": [
    "subseason_kouraku_mean = pd.DataFrame(subseason_kouraku_sum.groupby(['week','エリア名'])[['売上数量']]\\\n",
    "                                      .mean().reset_index())"
   ]
  },
  {
   "cell_type": "code",
   "execution_count": 554,
   "metadata": {
    "scrolled": true
   },
   "outputs": [
    {
     "data": {
      "application/vnd.plotly.v1+json": {
       "config": {
        "plotlyServerURL": "https://plot.ly"
       },
       "data": [
        {
         "alignmentgroup": "True",
         "hovertemplate": "エリア名=佐賀西<br>week=%{x}<br>売上数量=%{y}<extra></extra>",
         "legendgroup": "",
         "marker": {
          "color": "#636efa"
         },
         "name": "",
         "offsetgroup": "",
         "orientation": "v",
         "showlegend": false,
         "textposition": "auto",
         "type": "bar",
         "x": [
          1,
          2,
          3,
          4,
          5,
          6,
          7,
          8,
          9,
          10,
          11,
          12,
          13,
          14,
          15,
          16,
          17,
          18,
          19,
          20,
          21,
          22,
          23,
          24,
          25,
          26,
          27,
          28,
          29,
          30,
          31,
          32,
          33,
          34,
          35,
          36,
          37,
          38,
          39,
          40,
          41,
          42,
          43,
          44,
          45,
          46,
          47,
          48,
          49,
          50,
          51,
          52
         ],
         "xaxis": "x7",
         "y": [
          1767.25,
          1326.75,
          1443.25,
          1169.75,
          1312.75,
          1266.25,
          1129.75,
          1010.5,
          817.5,
          741,
          635.75,
          458.125,
          415.54166666666663,
          285.25,
          319,
          250.66666666666666,
          253,
          343,
          319.3333333333333,
          230.33333333333334,
          201,
          188.33333333333334,
          195.33333333333334,
          207,
          208,
          201.33333333333334,
          175.33333333333334,
          163.66666666666666,
          170.66666666666666,
          153.33333333333334,
          151.66666666666666,
          145.33333333333334,
          187,
          255.33333333333334,
          336,
          487.6666666666667,
          587.6666666666666,
          747.3333333333334,
          784.5555555555555,
          926.111111111111,
          1244.3333333333333,
          1573.3333333333333,
          1141.1666666666667,
          1569.6666666666667,
          2143,
          1977.3333333333333,
          2003.3333333333333,
          1961.6666666666667,
          2055.6666666666665,
          1998.3333333333333,
          1679.6666666666667,
          2348.3333333333335
         ],
         "yaxis": "y7"
        },
        {
         "alignmentgroup": "True",
         "hovertemplate": "エリア名=八幡<br>week=%{x}<br>売上数量=%{y}<extra></extra>",
         "legendgroup": "",
         "marker": {
          "color": "#636efa"
         },
         "name": "",
         "offsetgroup": "",
         "orientation": "v",
         "showlegend": false,
         "textposition": "auto",
         "type": "bar",
         "x": [
          1,
          2,
          3,
          4,
          5,
          6,
          7,
          8,
          9,
          10,
          11,
          12,
          13,
          14,
          15,
          16,
          17,
          18,
          19,
          20,
          21,
          22,
          23,
          24,
          25,
          26,
          27,
          28,
          29,
          30,
          31,
          32,
          33,
          34,
          35,
          36,
          37,
          38,
          39,
          40,
          41,
          42,
          43,
          44,
          45,
          46,
          47,
          48,
          49,
          50,
          51,
          52
         ],
         "xaxis": "x6",
         "y": [
          2641.25,
          2416,
          2271.5,
          2211.5,
          2005,
          1993,
          1749.75,
          1580.75,
          1423.75,
          1296.25,
          1065,
          816.3333333333333,
          782.3333333333333,
          629.75,
          689,
          619,
          559.3333333333334,
          629.6666666666666,
          537,
          521,
          473,
          458.6666666666667,
          472.6666666666667,
          497.3333333333333,
          454.3333333333333,
          415,
          456.6666666666667,
          417,
          386.6666666666667,
          366,
          400,
          387.6666666666667,
          457.6666666666667,
          487,
          565.3333333333334,
          798,
          1123,
          1432,
          1406.7555555555555,
          1704.711111111111,
          2105.3333333333335,
          2497.3333333333335,
          1651.5555555555554,
          2344.6666666666665,
          2474,
          2846,
          2829.3333333333335,
          2676,
          2895.3333333333335,
          3005,
          2564.3333333333335,
          3443
         ],
         "yaxis": "y6"
        },
        {
         "alignmentgroup": "True",
         "hovertemplate": "エリア名=小倉<br>week=%{x}<br>売上数量=%{y}<extra></extra>",
         "legendgroup": "",
         "marker": {
          "color": "#636efa"
         },
         "name": "",
         "offsetgroup": "",
         "orientation": "v",
         "showlegend": false,
         "textposition": "auto",
         "type": "bar",
         "x": [
          1,
          2,
          3,
          4,
          5,
          6,
          7,
          8,
          9,
          10,
          11,
          12,
          13,
          14,
          15,
          16,
          17,
          18,
          19,
          20,
          21,
          22,
          23,
          24,
          25,
          26,
          27,
          28,
          29,
          30,
          31,
          32,
          33,
          34,
          35,
          36,
          37,
          38,
          39,
          40,
          41,
          42,
          43,
          44,
          45,
          46,
          47,
          48,
          49,
          50,
          51,
          52
         ],
         "xaxis": "x5",
         "y": [
          2741.75,
          2542.75,
          2347.5,
          2224.5,
          2051.75,
          2245.75,
          1959.75,
          1724.25,
          1478.25,
          1365.25,
          1245.5,
          996.5416666666666,
          815.0416666666667,
          728.25,
          728.6666666666666,
          585.3333333333334,
          586.6666666666666,
          645.6666666666666,
          650.6666666666666,
          521.6666666666666,
          442.6666666666667,
          460,
          433,
          456,
          427,
          467,
          424,
          392,
          416.6666666666667,
          378.6666666666667,
          381.6666666666667,
          429,
          485.3333333333333,
          492.6666666666667,
          611.6666666666666,
          772,
          1033.3333333333333,
          1381.6666666666667,
          1311.6000000000001,
          1614.4666666666665,
          2030.3333333333333,
          2422.3333333333335,
          1657.722222222222,
          2479.3333333333335,
          2656.6666666666665,
          2959.3333333333335,
          2979.6666666666665,
          2922.6666666666665,
          3098.6666666666665,
          3097.3333333333335,
          2730.6666666666665,
          3627.3333333333335
         ],
         "yaxis": "y5"
        },
        {
         "alignmentgroup": "True",
         "hovertemplate": "エリア名=山口西<br>week=%{x}<br>売上数量=%{y}<extra></extra>",
         "legendgroup": "",
         "marker": {
          "color": "#636efa"
         },
         "name": "",
         "offsetgroup": "",
         "orientation": "v",
         "showlegend": false,
         "textposition": "auto",
         "type": "bar",
         "x": [
          1,
          2,
          3,
          4,
          5,
          6,
          7,
          8,
          9,
          10,
          11,
          12,
          13,
          14,
          15,
          16,
          17,
          18,
          19,
          20,
          21,
          22,
          23,
          24,
          25,
          26,
          27,
          28,
          29,
          30,
          31,
          32,
          33,
          34,
          35,
          36,
          37,
          38,
          39,
          40,
          41,
          42,
          43,
          44,
          45,
          46,
          47,
          48,
          49,
          50,
          51,
          52
         ],
         "xaxis": "x4",
         "y": [
          2522,
          2321.75,
          2149.25,
          2050,
          1839.5,
          1834.5,
          1687.25,
          1448.25,
          1245.5,
          1239.75,
          1041,
          761.9583333333334,
          684.9583333333333,
          573.5,
          607.6666666666666,
          507,
          518.3333333333334,
          514.3333333333334,
          454.3333333333333,
          486.3333333333333,
          384.3333333333333,
          389.6666666666667,
          387.6666666666667,
          363.3333333333333,
          371.6666666666667,
          352,
          352.6666666666667,
          346,
          318.3333333333333,
          293.3333333333333,
          294.3333333333333,
          285,
          377,
          346.3333333333333,
          444,
          638.6666666666666,
          857,
          1080.3333333333333,
          1155.8222222222223,
          1398.2444444444445,
          1810,
          2226.3333333333335,
          1462.5,
          2143.6666666666665,
          2406,
          2607.3333333333335,
          2658.6666666666665,
          2543,
          2736.6666666666665,
          3010,
          2514,
          3291
         ],
         "yaxis": "y4"
        },
        {
         "alignmentgroup": "True",
         "hovertemplate": "エリア名=福岡<br>week=%{x}<br>売上数量=%{y}<extra></extra>",
         "legendgroup": "",
         "marker": {
          "color": "#636efa"
         },
         "name": "",
         "offsetgroup": "",
         "orientation": "v",
         "showlegend": false,
         "textposition": "auto",
         "type": "bar",
         "x": [
          1,
          2,
          3,
          4,
          5,
          6,
          7,
          8,
          9,
          10,
          11,
          12,
          13,
          14,
          15,
          16,
          17,
          18,
          19,
          20,
          21,
          22,
          23,
          24,
          25,
          26,
          27,
          28,
          29,
          30,
          31,
          32,
          33,
          34,
          35,
          36,
          37,
          38,
          39,
          40,
          41,
          42,
          43,
          44,
          45,
          46,
          47,
          48,
          49,
          50,
          51,
          52
         ],
         "xaxis": "x3",
         "y": [
          2607.75,
          2163.75,
          2090.5,
          1974,
          1887.25,
          1872,
          1801,
          1828.5,
          1377.25,
          1179.25,
          963.25,
          681.75,
          663.4166666666666,
          546.5,
          552.6666666666666,
          512,
          552.6666666666666,
          523.6666666666666,
          467.3333333333333,
          394,
          364.6666666666667,
          363,
          480.6666666666667,
          438,
          376.3333333333333,
          350.6666666666667,
          372.3333333333333,
          315.3333333333333,
          329.6666666666667,
          308.6666666666667,
          306,
          295,
          401,
          408.6666666666667,
          534,
          724.3333333333334,
          813.3333333333334,
          1102.3333333333333,
          1176.6888888888889,
          1364.8444444444442,
          1791.3333333333333,
          2118,
          1420.8888888888887,
          2138.6666666666665,
          2369.6666666666665,
          2700,
          2743,
          2539.6666666666665,
          2833,
          2792.6666666666665,
          2299.3333333333335,
          2997.3333333333335
         ],
         "yaxis": "y3"
        },
        {
         "alignmentgroup": "True",
         "hovertemplate": "エリア名=福岡南<br>week=%{x}<br>売上数量=%{y}<extra></extra>",
         "legendgroup": "",
         "marker": {
          "color": "#636efa"
         },
         "name": "",
         "offsetgroup": "",
         "orientation": "v",
         "showlegend": false,
         "textposition": "auto",
         "type": "bar",
         "x": [
          1,
          2,
          3,
          4,
          5,
          6,
          7,
          8,
          9,
          10,
          11,
          12,
          13,
          14,
          15,
          16,
          17,
          18,
          19,
          20,
          21,
          22,
          23,
          24,
          25,
          26,
          27,
          28,
          29,
          30,
          31,
          32,
          33,
          34,
          35,
          36,
          37,
          38,
          39,
          40,
          41,
          42,
          43,
          44,
          45,
          46,
          47,
          48,
          49,
          50,
          51,
          52
         ],
         "xaxis": "x2",
         "y": [
          2266,
          2168.25,
          2071,
          1952.25,
          1735.25,
          1776.5,
          1615.5,
          1358.25,
          1278.25,
          1095,
          883.25,
          604.1666666666666,
          597.4166666666667,
          518,
          554.3333333333334,
          417,
          400.3333333333333,
          399.3333333333333,
          419.3333333333333,
          389.3333333333333,
          321,
          323.6666666666667,
          353,
          318.6666666666667,
          302.6666666666667,
          279.3333333333333,
          303.3333333333333,
          275,
          247.33333333333334,
          246.66666666666666,
          243.66666666666666,
          250.33333333333334,
          310.6666666666667,
          365.6666666666667,
          440,
          553,
          763.6666666666666,
          956.3333333333334,
          1032.7333333333333,
          1308.8666666666666,
          1736.6666666666667,
          2099.3333333333335,
          1390.1666666666667,
          2169.3333333333335,
          2316.3333333333335,
          2552.3333333333335,
          2622.3333333333335,
          2445,
          2711.6666666666665,
          2649.6666666666665,
          2256,
          2826
         ],
         "yaxis": "y2"
        },
        {
         "alignmentgroup": "True",
         "hovertemplate": "エリア名=筑豊<br>week=%{x}<br>売上数量=%{y}<extra></extra>",
         "legendgroup": "",
         "marker": {
          "color": "#636efa"
         },
         "name": "",
         "offsetgroup": "",
         "orientation": "v",
         "showlegend": false,
         "textposition": "auto",
         "type": "bar",
         "x": [
          1,
          2,
          3,
          4,
          5,
          6,
          7,
          8,
          9,
          10,
          11,
          12,
          13,
          14,
          15,
          16,
          17,
          18,
          19,
          20,
          21,
          22,
          23,
          24,
          25,
          26,
          27,
          28,
          29,
          30,
          31,
          32,
          33,
          34,
          35,
          36,
          37,
          38,
          39,
          40,
          41,
          42,
          43,
          44,
          45,
          46,
          47,
          48,
          49,
          50,
          51,
          52
         ],
         "xaxis": "x",
         "y": [
          4098.5,
          3695.5,
          3442.75,
          3436.75,
          3172.5,
          3166.5,
          2841.5,
          2426,
          2240.5,
          1915.75,
          1774.5,
          1282.75,
          1260.2083333333335,
          1103.25,
          1218,
          984.6666666666666,
          1017.3333333333334,
          940.6666666666666,
          860.3333333333334,
          715.6666666666666,
          709.6666666666666,
          709.6666666666666,
          725,
          811.3333333333334,
          717,
          752.3333333333334,
          754,
          695,
          631.3333333333334,
          593.6666666666666,
          600,
          660.3333333333334,
          766.6666666666666,
          768.6666666666666,
          943,
          1254.3333333333333,
          1654.6666666666667,
          1975.3333333333333,
          1952.2666666666667,
          2356.4666666666667,
          2963.6666666666665,
          3560,
          2434.222222222222,
          3514,
          3774.3333333333335,
          4202.333333333333,
          4067.3333333333335,
          4112.666666666667,
          4376.666666666667,
          4567.666666666667,
          4006.6666666666665,
          5394.666666666667
         ],
         "yaxis": "y"
        }
       ],
       "layout": {
        "annotations": [
         {
          "font": {},
          "showarrow": false,
          "text": "エリア名=筑豊",
          "textangle": 90,
          "x": 0.98,
          "xanchor": "left",
          "xref": "paper",
          "y": 0.05857142857142857,
          "yanchor": "middle",
          "yref": "paper"
         },
         {
          "font": {},
          "showarrow": false,
          "text": "エリア名=福岡南",
          "textangle": 90,
          "x": 0.98,
          "xanchor": "left",
          "xref": "paper",
          "y": 0.2057142857142857,
          "yanchor": "middle",
          "yref": "paper"
         },
         {
          "font": {},
          "showarrow": false,
          "text": "エリア名=福岡",
          "textangle": 90,
          "x": 0.98,
          "xanchor": "left",
          "xref": "paper",
          "y": 0.35285714285714287,
          "yanchor": "middle",
          "yref": "paper"
         },
         {
          "font": {},
          "showarrow": false,
          "text": "エリア名=山口西",
          "textangle": 90,
          "x": 0.98,
          "xanchor": "left",
          "xref": "paper",
          "y": 0.49999999999999994,
          "yanchor": "middle",
          "yref": "paper"
         },
         {
          "font": {},
          "showarrow": false,
          "text": "エリア名=小倉",
          "textangle": 90,
          "x": 0.98,
          "xanchor": "left",
          "xref": "paper",
          "y": 0.647142857142857,
          "yanchor": "middle",
          "yref": "paper"
         },
         {
          "font": {},
          "showarrow": false,
          "text": "エリア名=八幡",
          "textangle": 90,
          "x": 0.98,
          "xanchor": "left",
          "xref": "paper",
          "y": 0.7942857142857143,
          "yanchor": "middle",
          "yref": "paper"
         },
         {
          "font": {},
          "showarrow": false,
          "text": "エリア名=佐賀西",
          "textangle": 90,
          "x": 0.98,
          "xanchor": "left",
          "xref": "paper",
          "y": 0.9414285714285713,
          "yanchor": "middle",
          "yref": "paper"
         }
        ],
        "barmode": "relative",
        "height": 1000,
        "legend": {
         "tracegroupgap": 0
        },
        "margin": {
         "t": 60
        },
        "template": {
         "data": {
          "bar": [
           {
            "error_x": {
             "color": "#2a3f5f"
            },
            "error_y": {
             "color": "#2a3f5f"
            },
            "marker": {
             "line": {
              "color": "#E5ECF6",
              "width": 0.5
             }
            },
            "type": "bar"
           }
          ],
          "barpolar": [
           {
            "marker": {
             "line": {
              "color": "#E5ECF6",
              "width": 0.5
             }
            },
            "type": "barpolar"
           }
          ],
          "carpet": [
           {
            "aaxis": {
             "endlinecolor": "#2a3f5f",
             "gridcolor": "white",
             "linecolor": "white",
             "minorgridcolor": "white",
             "startlinecolor": "#2a3f5f"
            },
            "baxis": {
             "endlinecolor": "#2a3f5f",
             "gridcolor": "white",
             "linecolor": "white",
             "minorgridcolor": "white",
             "startlinecolor": "#2a3f5f"
            },
            "type": "carpet"
           }
          ],
          "choropleth": [
           {
            "colorbar": {
             "outlinewidth": 0,
             "ticks": ""
            },
            "type": "choropleth"
           }
          ],
          "contour": [
           {
            "colorbar": {
             "outlinewidth": 0,
             "ticks": ""
            },
            "colorscale": [
             [
              0,
              "#0d0887"
             ],
             [
              0.1111111111111111,
              "#46039f"
             ],
             [
              0.2222222222222222,
              "#7201a8"
             ],
             [
              0.3333333333333333,
              "#9c179e"
             ],
             [
              0.4444444444444444,
              "#bd3786"
             ],
             [
              0.5555555555555556,
              "#d8576b"
             ],
             [
              0.6666666666666666,
              "#ed7953"
             ],
             [
              0.7777777777777778,
              "#fb9f3a"
             ],
             [
              0.8888888888888888,
              "#fdca26"
             ],
             [
              1,
              "#f0f921"
             ]
            ],
            "type": "contour"
           }
          ],
          "contourcarpet": [
           {
            "colorbar": {
             "outlinewidth": 0,
             "ticks": ""
            },
            "type": "contourcarpet"
           }
          ],
          "heatmap": [
           {
            "colorbar": {
             "outlinewidth": 0,
             "ticks": ""
            },
            "colorscale": [
             [
              0,
              "#0d0887"
             ],
             [
              0.1111111111111111,
              "#46039f"
             ],
             [
              0.2222222222222222,
              "#7201a8"
             ],
             [
              0.3333333333333333,
              "#9c179e"
             ],
             [
              0.4444444444444444,
              "#bd3786"
             ],
             [
              0.5555555555555556,
              "#d8576b"
             ],
             [
              0.6666666666666666,
              "#ed7953"
             ],
             [
              0.7777777777777778,
              "#fb9f3a"
             ],
             [
              0.8888888888888888,
              "#fdca26"
             ],
             [
              1,
              "#f0f921"
             ]
            ],
            "type": "heatmap"
           }
          ],
          "heatmapgl": [
           {
            "colorbar": {
             "outlinewidth": 0,
             "ticks": ""
            },
            "colorscale": [
             [
              0,
              "#0d0887"
             ],
             [
              0.1111111111111111,
              "#46039f"
             ],
             [
              0.2222222222222222,
              "#7201a8"
             ],
             [
              0.3333333333333333,
              "#9c179e"
             ],
             [
              0.4444444444444444,
              "#bd3786"
             ],
             [
              0.5555555555555556,
              "#d8576b"
             ],
             [
              0.6666666666666666,
              "#ed7953"
             ],
             [
              0.7777777777777778,
              "#fb9f3a"
             ],
             [
              0.8888888888888888,
              "#fdca26"
             ],
             [
              1,
              "#f0f921"
             ]
            ],
            "type": "heatmapgl"
           }
          ],
          "histogram": [
           {
            "marker": {
             "colorbar": {
              "outlinewidth": 0,
              "ticks": ""
             }
            },
            "type": "histogram"
           }
          ],
          "histogram2d": [
           {
            "colorbar": {
             "outlinewidth": 0,
             "ticks": ""
            },
            "colorscale": [
             [
              0,
              "#0d0887"
             ],
             [
              0.1111111111111111,
              "#46039f"
             ],
             [
              0.2222222222222222,
              "#7201a8"
             ],
             [
              0.3333333333333333,
              "#9c179e"
             ],
             [
              0.4444444444444444,
              "#bd3786"
             ],
             [
              0.5555555555555556,
              "#d8576b"
             ],
             [
              0.6666666666666666,
              "#ed7953"
             ],
             [
              0.7777777777777778,
              "#fb9f3a"
             ],
             [
              0.8888888888888888,
              "#fdca26"
             ],
             [
              1,
              "#f0f921"
             ]
            ],
            "type": "histogram2d"
           }
          ],
          "histogram2dcontour": [
           {
            "colorbar": {
             "outlinewidth": 0,
             "ticks": ""
            },
            "colorscale": [
             [
              0,
              "#0d0887"
             ],
             [
              0.1111111111111111,
              "#46039f"
             ],
             [
              0.2222222222222222,
              "#7201a8"
             ],
             [
              0.3333333333333333,
              "#9c179e"
             ],
             [
              0.4444444444444444,
              "#bd3786"
             ],
             [
              0.5555555555555556,
              "#d8576b"
             ],
             [
              0.6666666666666666,
              "#ed7953"
             ],
             [
              0.7777777777777778,
              "#fb9f3a"
             ],
             [
              0.8888888888888888,
              "#fdca26"
             ],
             [
              1,
              "#f0f921"
             ]
            ],
            "type": "histogram2dcontour"
           }
          ],
          "mesh3d": [
           {
            "colorbar": {
             "outlinewidth": 0,
             "ticks": ""
            },
            "type": "mesh3d"
           }
          ],
          "parcoords": [
           {
            "line": {
             "colorbar": {
              "outlinewidth": 0,
              "ticks": ""
             }
            },
            "type": "parcoords"
           }
          ],
          "pie": [
           {
            "automargin": true,
            "type": "pie"
           }
          ],
          "scatter": [
           {
            "marker": {
             "colorbar": {
              "outlinewidth": 0,
              "ticks": ""
             }
            },
            "type": "scatter"
           }
          ],
          "scatter3d": [
           {
            "line": {
             "colorbar": {
              "outlinewidth": 0,
              "ticks": ""
             }
            },
            "marker": {
             "colorbar": {
              "outlinewidth": 0,
              "ticks": ""
             }
            },
            "type": "scatter3d"
           }
          ],
          "scattercarpet": [
           {
            "marker": {
             "colorbar": {
              "outlinewidth": 0,
              "ticks": ""
             }
            },
            "type": "scattercarpet"
           }
          ],
          "scattergeo": [
           {
            "marker": {
             "colorbar": {
              "outlinewidth": 0,
              "ticks": ""
             }
            },
            "type": "scattergeo"
           }
          ],
          "scattergl": [
           {
            "marker": {
             "colorbar": {
              "outlinewidth": 0,
              "ticks": ""
             }
            },
            "type": "scattergl"
           }
          ],
          "scattermapbox": [
           {
            "marker": {
             "colorbar": {
              "outlinewidth": 0,
              "ticks": ""
             }
            },
            "type": "scattermapbox"
           }
          ],
          "scatterpolar": [
           {
            "marker": {
             "colorbar": {
              "outlinewidth": 0,
              "ticks": ""
             }
            },
            "type": "scatterpolar"
           }
          ],
          "scatterpolargl": [
           {
            "marker": {
             "colorbar": {
              "outlinewidth": 0,
              "ticks": ""
             }
            },
            "type": "scatterpolargl"
           }
          ],
          "scatterternary": [
           {
            "marker": {
             "colorbar": {
              "outlinewidth": 0,
              "ticks": ""
             }
            },
            "type": "scatterternary"
           }
          ],
          "surface": [
           {
            "colorbar": {
             "outlinewidth": 0,
             "ticks": ""
            },
            "colorscale": [
             [
              0,
              "#0d0887"
             ],
             [
              0.1111111111111111,
              "#46039f"
             ],
             [
              0.2222222222222222,
              "#7201a8"
             ],
             [
              0.3333333333333333,
              "#9c179e"
             ],
             [
              0.4444444444444444,
              "#bd3786"
             ],
             [
              0.5555555555555556,
              "#d8576b"
             ],
             [
              0.6666666666666666,
              "#ed7953"
             ],
             [
              0.7777777777777778,
              "#fb9f3a"
             ],
             [
              0.8888888888888888,
              "#fdca26"
             ],
             [
              1,
              "#f0f921"
             ]
            ],
            "type": "surface"
           }
          ],
          "table": [
           {
            "cells": {
             "fill": {
              "color": "#EBF0F8"
             },
             "line": {
              "color": "white"
             }
            },
            "header": {
             "fill": {
              "color": "#C8D4E3"
             },
             "line": {
              "color": "white"
             }
            },
            "type": "table"
           }
          ]
         },
         "layout": {
          "annotationdefaults": {
           "arrowcolor": "#2a3f5f",
           "arrowhead": 0,
           "arrowwidth": 1
          },
          "coloraxis": {
           "colorbar": {
            "outlinewidth": 0,
            "ticks": ""
           }
          },
          "colorscale": {
           "diverging": [
            [
             0,
             "#8e0152"
            ],
            [
             0.1,
             "#c51b7d"
            ],
            [
             0.2,
             "#de77ae"
            ],
            [
             0.3,
             "#f1b6da"
            ],
            [
             0.4,
             "#fde0ef"
            ],
            [
             0.5,
             "#f7f7f7"
            ],
            [
             0.6,
             "#e6f5d0"
            ],
            [
             0.7,
             "#b8e186"
            ],
            [
             0.8,
             "#7fbc41"
            ],
            [
             0.9,
             "#4d9221"
            ],
            [
             1,
             "#276419"
            ]
           ],
           "sequential": [
            [
             0,
             "#0d0887"
            ],
            [
             0.1111111111111111,
             "#46039f"
            ],
            [
             0.2222222222222222,
             "#7201a8"
            ],
            [
             0.3333333333333333,
             "#9c179e"
            ],
            [
             0.4444444444444444,
             "#bd3786"
            ],
            [
             0.5555555555555556,
             "#d8576b"
            ],
            [
             0.6666666666666666,
             "#ed7953"
            ],
            [
             0.7777777777777778,
             "#fb9f3a"
            ],
            [
             0.8888888888888888,
             "#fdca26"
            ],
            [
             1,
             "#f0f921"
            ]
           ],
           "sequentialminus": [
            [
             0,
             "#0d0887"
            ],
            [
             0.1111111111111111,
             "#46039f"
            ],
            [
             0.2222222222222222,
             "#7201a8"
            ],
            [
             0.3333333333333333,
             "#9c179e"
            ],
            [
             0.4444444444444444,
             "#bd3786"
            ],
            [
             0.5555555555555556,
             "#d8576b"
            ],
            [
             0.6666666666666666,
             "#ed7953"
            ],
            [
             0.7777777777777778,
             "#fb9f3a"
            ],
            [
             0.8888888888888888,
             "#fdca26"
            ],
            [
             1,
             "#f0f921"
            ]
           ]
          },
          "colorway": [
           "#636efa",
           "#EF553B",
           "#00cc96",
           "#ab63fa",
           "#FFA15A",
           "#19d3f3",
           "#FF6692",
           "#B6E880",
           "#FF97FF",
           "#FECB52"
          ],
          "font": {
           "color": "#2a3f5f"
          },
          "geo": {
           "bgcolor": "white",
           "lakecolor": "white",
           "landcolor": "#E5ECF6",
           "showlakes": true,
           "showland": true,
           "subunitcolor": "white"
          },
          "hoverlabel": {
           "align": "left"
          },
          "hovermode": "closest",
          "mapbox": {
           "style": "light"
          },
          "paper_bgcolor": "white",
          "plot_bgcolor": "#E5ECF6",
          "polar": {
           "angularaxis": {
            "gridcolor": "white",
            "linecolor": "white",
            "ticks": ""
           },
           "bgcolor": "#E5ECF6",
           "radialaxis": {
            "gridcolor": "white",
            "linecolor": "white",
            "ticks": ""
           }
          },
          "scene": {
           "xaxis": {
            "backgroundcolor": "#E5ECF6",
            "gridcolor": "white",
            "gridwidth": 2,
            "linecolor": "white",
            "showbackground": true,
            "ticks": "",
            "zerolinecolor": "white"
           },
           "yaxis": {
            "backgroundcolor": "#E5ECF6",
            "gridcolor": "white",
            "gridwidth": 2,
            "linecolor": "white",
            "showbackground": true,
            "ticks": "",
            "zerolinecolor": "white"
           },
           "zaxis": {
            "backgroundcolor": "#E5ECF6",
            "gridcolor": "white",
            "gridwidth": 2,
            "linecolor": "white",
            "showbackground": true,
            "ticks": "",
            "zerolinecolor": "white"
           }
          },
          "shapedefaults": {
           "line": {
            "color": "#2a3f5f"
           }
          },
          "ternary": {
           "aaxis": {
            "gridcolor": "white",
            "linecolor": "white",
            "ticks": ""
           },
           "baxis": {
            "gridcolor": "white",
            "linecolor": "white",
            "ticks": ""
           },
           "bgcolor": "#E5ECF6",
           "caxis": {
            "gridcolor": "white",
            "linecolor": "white",
            "ticks": ""
           }
          },
          "title": {
           "x": 0.05
          },
          "xaxis": {
           "automargin": true,
           "gridcolor": "white",
           "linecolor": "white",
           "ticks": "",
           "title": {
            "standoff": 15
           },
           "zerolinecolor": "white",
           "zerolinewidth": 2
          },
          "yaxis": {
           "automargin": true,
           "gridcolor": "white",
           "linecolor": "white",
           "ticks": "",
           "title": {
            "standoff": 15
           },
           "zerolinecolor": "white",
           "zerolinewidth": 2
          }
         }
        },
        "xaxis": {
         "anchor": "y",
         "domain": [
          0,
          0.98
         ],
         "title": {
          "text": "week"
         }
        },
        "xaxis2": {
         "anchor": "y2",
         "domain": [
          0,
          0.98
         ],
         "matches": "x",
         "showticklabels": false
        },
        "xaxis3": {
         "anchor": "y3",
         "domain": [
          0,
          0.98
         ],
         "matches": "x",
         "showticklabels": false
        },
        "xaxis4": {
         "anchor": "y4",
         "domain": [
          0,
          0.98
         ],
         "matches": "x",
         "showticklabels": false
        },
        "xaxis5": {
         "anchor": "y5",
         "domain": [
          0,
          0.98
         ],
         "matches": "x",
         "showticklabels": false
        },
        "xaxis6": {
         "anchor": "y6",
         "domain": [
          0,
          0.98
         ],
         "matches": "x",
         "showticklabels": false
        },
        "xaxis7": {
         "anchor": "y7",
         "domain": [
          0,
          0.98
         ],
         "matches": "x",
         "showticklabels": false
        },
        "yaxis": {
         "anchor": "x",
         "domain": [
          0,
          0.11714285714285715
         ],
         "title": {
          "text": "売上数量"
         }
        },
        "yaxis2": {
         "anchor": "x2",
         "domain": [
          0.14714285714285713,
          0.2642857142857143
         ],
         "matches": "y",
         "title": {
          "text": "売上数量"
         }
        },
        "yaxis3": {
         "anchor": "x3",
         "domain": [
          0.29428571428571426,
          0.4114285714285714
         ],
         "matches": "y",
         "title": {
          "text": "売上数量"
         }
        },
        "yaxis4": {
         "anchor": "x4",
         "domain": [
          0.4414285714285714,
          0.5585714285714285
         ],
         "matches": "y",
         "title": {
          "text": "売上数量"
         }
        },
        "yaxis5": {
         "anchor": "x5",
         "domain": [
          0.5885714285714285,
          0.7057142857142856
         ],
         "matches": "y",
         "title": {
          "text": "売上数量"
         }
        },
        "yaxis6": {
         "anchor": "x6",
         "domain": [
          0.7357142857142858,
          0.8528571428571429
         ],
         "matches": "y",
         "title": {
          "text": "売上数量"
         }
        },
        "yaxis7": {
         "anchor": "x7",
         "domain": [
          0.8828571428571428,
          0.9999999999999999
         ],
         "matches": "y",
         "title": {
          "text": "売上数量"
         }
        }
       }
      },
      "text/html": [
       "<div>\n",
       "        \n",
       "        \n",
       "            <div id=\"52d21ce4-88b8-462a-9c6e-c55d19c4174a\" class=\"plotly-graph-div\" style=\"height:1000px; width:100%;\"></div>\n",
       "            <script type=\"text/javascript\">\n",
       "                require([\"plotly\"], function(Plotly) {\n",
       "                    window.PLOTLYENV=window.PLOTLYENV || {};\n",
       "                    \n",
       "                if (document.getElementById(\"52d21ce4-88b8-462a-9c6e-c55d19c4174a\")) {\n",
       "                    Plotly.newPlot(\n",
       "                        '52d21ce4-88b8-462a-9c6e-c55d19c4174a',\n",
       "                        [{\"alignmentgroup\": \"True\", \"hovertemplate\": \"\\u30a8\\u30ea\\u30a2\\u540d=\\u4f50\\u8cc0\\u897f<br>week=%{x}<br>\\u58f2\\u4e0a\\u6570\\u91cf=%{y}<extra></extra>\", \"legendgroup\": \"\", \"marker\": {\"color\": \"#636efa\"}, \"name\": \"\", \"offsetgroup\": \"\", \"orientation\": \"v\", \"showlegend\": false, \"textposition\": \"auto\", \"type\": \"bar\", \"x\": [1, 2, 3, 4, 5, 6, 7, 8, 9, 10, 11, 12, 13, 14, 15, 16, 17, 18, 19, 20, 21, 22, 23, 24, 25, 26, 27, 28, 29, 30, 31, 32, 33, 34, 35, 36, 37, 38, 39, 40, 41, 42, 43, 44, 45, 46, 47, 48, 49, 50, 51, 52], \"xaxis\": \"x7\", \"y\": [1767.25, 1326.75, 1443.25, 1169.75, 1312.75, 1266.25, 1129.75, 1010.5, 817.5, 741.0, 635.75, 458.125, 415.54166666666663, 285.25, 319.0, 250.66666666666666, 253.0, 343.0, 319.3333333333333, 230.33333333333334, 201.0, 188.33333333333334, 195.33333333333334, 207.0, 208.0, 201.33333333333334, 175.33333333333334, 163.66666666666666, 170.66666666666666, 153.33333333333334, 151.66666666666666, 145.33333333333334, 187.0, 255.33333333333334, 336.0, 487.6666666666667, 587.6666666666666, 747.3333333333334, 784.5555555555555, 926.111111111111, 1244.3333333333333, 1573.3333333333333, 1141.1666666666667, 1569.6666666666667, 2143.0, 1977.3333333333333, 2003.3333333333333, 1961.6666666666667, 2055.6666666666665, 1998.3333333333333, 1679.6666666666667, 2348.3333333333335], \"yaxis\": \"y7\"}, {\"alignmentgroup\": \"True\", \"hovertemplate\": \"\\u30a8\\u30ea\\u30a2\\u540d=\\u516b\\u5e61<br>week=%{x}<br>\\u58f2\\u4e0a\\u6570\\u91cf=%{y}<extra></extra>\", \"legendgroup\": \"\", \"marker\": {\"color\": \"#636efa\"}, \"name\": \"\", \"offsetgroup\": \"\", \"orientation\": \"v\", \"showlegend\": false, \"textposition\": \"auto\", \"type\": \"bar\", \"x\": [1, 2, 3, 4, 5, 6, 7, 8, 9, 10, 11, 12, 13, 14, 15, 16, 17, 18, 19, 20, 21, 22, 23, 24, 25, 26, 27, 28, 29, 30, 31, 32, 33, 34, 35, 36, 37, 38, 39, 40, 41, 42, 43, 44, 45, 46, 47, 48, 49, 50, 51, 52], \"xaxis\": \"x6\", \"y\": [2641.25, 2416.0, 2271.5, 2211.5, 2005.0, 1993.0, 1749.75, 1580.75, 1423.75, 1296.25, 1065.0, 816.3333333333333, 782.3333333333333, 629.75, 689.0, 619.0, 559.3333333333334, 629.6666666666666, 537.0, 521.0, 473.0, 458.6666666666667, 472.6666666666667, 497.3333333333333, 454.3333333333333, 415.0, 456.6666666666667, 417.0, 386.6666666666667, 366.0, 400.0, 387.6666666666667, 457.6666666666667, 487.0, 565.3333333333334, 798.0, 1123.0, 1432.0, 1406.7555555555555, 1704.711111111111, 2105.3333333333335, 2497.3333333333335, 1651.5555555555554, 2344.6666666666665, 2474.0, 2846.0, 2829.3333333333335, 2676.0, 2895.3333333333335, 3005.0, 2564.3333333333335, 3443.0], \"yaxis\": \"y6\"}, {\"alignmentgroup\": \"True\", \"hovertemplate\": \"\\u30a8\\u30ea\\u30a2\\u540d=\\u5c0f\\u5009<br>week=%{x}<br>\\u58f2\\u4e0a\\u6570\\u91cf=%{y}<extra></extra>\", \"legendgroup\": \"\", \"marker\": {\"color\": \"#636efa\"}, \"name\": \"\", \"offsetgroup\": \"\", \"orientation\": \"v\", \"showlegend\": false, \"textposition\": \"auto\", \"type\": \"bar\", \"x\": [1, 2, 3, 4, 5, 6, 7, 8, 9, 10, 11, 12, 13, 14, 15, 16, 17, 18, 19, 20, 21, 22, 23, 24, 25, 26, 27, 28, 29, 30, 31, 32, 33, 34, 35, 36, 37, 38, 39, 40, 41, 42, 43, 44, 45, 46, 47, 48, 49, 50, 51, 52], \"xaxis\": \"x5\", \"y\": [2741.75, 2542.75, 2347.5, 2224.5, 2051.75, 2245.75, 1959.75, 1724.25, 1478.25, 1365.25, 1245.5, 996.5416666666666, 815.0416666666667, 728.25, 728.6666666666666, 585.3333333333334, 586.6666666666666, 645.6666666666666, 650.6666666666666, 521.6666666666666, 442.6666666666667, 460.0, 433.0, 456.0, 427.0, 467.0, 424.0, 392.0, 416.6666666666667, 378.6666666666667, 381.6666666666667, 429.0, 485.3333333333333, 492.6666666666667, 611.6666666666666, 772.0, 1033.3333333333333, 1381.6666666666667, 1311.6000000000001, 1614.4666666666665, 2030.3333333333333, 2422.3333333333335, 1657.722222222222, 2479.3333333333335, 2656.6666666666665, 2959.3333333333335, 2979.6666666666665, 2922.6666666666665, 3098.6666666666665, 3097.3333333333335, 2730.6666666666665, 3627.3333333333335], \"yaxis\": \"y5\"}, {\"alignmentgroup\": \"True\", \"hovertemplate\": \"\\u30a8\\u30ea\\u30a2\\u540d=\\u5c71\\u53e3\\u897f<br>week=%{x}<br>\\u58f2\\u4e0a\\u6570\\u91cf=%{y}<extra></extra>\", \"legendgroup\": \"\", \"marker\": {\"color\": \"#636efa\"}, \"name\": \"\", \"offsetgroup\": \"\", \"orientation\": \"v\", \"showlegend\": false, \"textposition\": \"auto\", \"type\": \"bar\", \"x\": [1, 2, 3, 4, 5, 6, 7, 8, 9, 10, 11, 12, 13, 14, 15, 16, 17, 18, 19, 20, 21, 22, 23, 24, 25, 26, 27, 28, 29, 30, 31, 32, 33, 34, 35, 36, 37, 38, 39, 40, 41, 42, 43, 44, 45, 46, 47, 48, 49, 50, 51, 52], \"xaxis\": \"x4\", \"y\": [2522.0, 2321.75, 2149.25, 2050.0, 1839.5, 1834.5, 1687.25, 1448.25, 1245.5, 1239.75, 1041.0, 761.9583333333334, 684.9583333333333, 573.5, 607.6666666666666, 507.0, 518.3333333333334, 514.3333333333334, 454.3333333333333, 486.3333333333333, 384.3333333333333, 389.6666666666667, 387.6666666666667, 363.3333333333333, 371.6666666666667, 352.0, 352.6666666666667, 346.0, 318.3333333333333, 293.3333333333333, 294.3333333333333, 285.0, 377.0, 346.3333333333333, 444.0, 638.6666666666666, 857.0, 1080.3333333333333, 1155.8222222222223, 1398.2444444444445, 1810.0, 2226.3333333333335, 1462.5, 2143.6666666666665, 2406.0, 2607.3333333333335, 2658.6666666666665, 2543.0, 2736.6666666666665, 3010.0, 2514.0, 3291.0], \"yaxis\": \"y4\"}, {\"alignmentgroup\": \"True\", \"hovertemplate\": \"\\u30a8\\u30ea\\u30a2\\u540d=\\u798f\\u5ca1<br>week=%{x}<br>\\u58f2\\u4e0a\\u6570\\u91cf=%{y}<extra></extra>\", \"legendgroup\": \"\", \"marker\": {\"color\": \"#636efa\"}, \"name\": \"\", \"offsetgroup\": \"\", \"orientation\": \"v\", \"showlegend\": false, \"textposition\": \"auto\", \"type\": \"bar\", \"x\": [1, 2, 3, 4, 5, 6, 7, 8, 9, 10, 11, 12, 13, 14, 15, 16, 17, 18, 19, 20, 21, 22, 23, 24, 25, 26, 27, 28, 29, 30, 31, 32, 33, 34, 35, 36, 37, 38, 39, 40, 41, 42, 43, 44, 45, 46, 47, 48, 49, 50, 51, 52], \"xaxis\": \"x3\", \"y\": [2607.75, 2163.75, 2090.5, 1974.0, 1887.25, 1872.0, 1801.0, 1828.5, 1377.25, 1179.25, 963.25, 681.75, 663.4166666666666, 546.5, 552.6666666666666, 512.0, 552.6666666666666, 523.6666666666666, 467.3333333333333, 394.0, 364.6666666666667, 363.0, 480.6666666666667, 438.0, 376.3333333333333, 350.6666666666667, 372.3333333333333, 315.3333333333333, 329.6666666666667, 308.6666666666667, 306.0, 295.0, 401.0, 408.6666666666667, 534.0, 724.3333333333334, 813.3333333333334, 1102.3333333333333, 1176.6888888888889, 1364.8444444444442, 1791.3333333333333, 2118.0, 1420.8888888888887, 2138.6666666666665, 2369.6666666666665, 2700.0, 2743.0, 2539.6666666666665, 2833.0, 2792.6666666666665, 2299.3333333333335, 2997.3333333333335], \"yaxis\": \"y3\"}, {\"alignmentgroup\": \"True\", \"hovertemplate\": \"\\u30a8\\u30ea\\u30a2\\u540d=\\u798f\\u5ca1\\u5357<br>week=%{x}<br>\\u58f2\\u4e0a\\u6570\\u91cf=%{y}<extra></extra>\", \"legendgroup\": \"\", \"marker\": {\"color\": \"#636efa\"}, \"name\": \"\", \"offsetgroup\": \"\", \"orientation\": \"v\", \"showlegend\": false, \"textposition\": \"auto\", \"type\": \"bar\", \"x\": [1, 2, 3, 4, 5, 6, 7, 8, 9, 10, 11, 12, 13, 14, 15, 16, 17, 18, 19, 20, 21, 22, 23, 24, 25, 26, 27, 28, 29, 30, 31, 32, 33, 34, 35, 36, 37, 38, 39, 40, 41, 42, 43, 44, 45, 46, 47, 48, 49, 50, 51, 52], \"xaxis\": \"x2\", \"y\": [2266.0, 2168.25, 2071.0, 1952.25, 1735.25, 1776.5, 1615.5, 1358.25, 1278.25, 1095.0, 883.25, 604.1666666666666, 597.4166666666667, 518.0, 554.3333333333334, 417.0, 400.3333333333333, 399.3333333333333, 419.3333333333333, 389.3333333333333, 321.0, 323.6666666666667, 353.0, 318.6666666666667, 302.6666666666667, 279.3333333333333, 303.3333333333333, 275.0, 247.33333333333334, 246.66666666666666, 243.66666666666666, 250.33333333333334, 310.6666666666667, 365.6666666666667, 440.0, 553.0, 763.6666666666666, 956.3333333333334, 1032.7333333333333, 1308.8666666666666, 1736.6666666666667, 2099.3333333333335, 1390.1666666666667, 2169.3333333333335, 2316.3333333333335, 2552.3333333333335, 2622.3333333333335, 2445.0, 2711.6666666666665, 2649.6666666666665, 2256.0, 2826.0], \"yaxis\": \"y2\"}, {\"alignmentgroup\": \"True\", \"hovertemplate\": \"\\u30a8\\u30ea\\u30a2\\u540d=\\u7b51\\u8c4a<br>week=%{x}<br>\\u58f2\\u4e0a\\u6570\\u91cf=%{y}<extra></extra>\", \"legendgroup\": \"\", \"marker\": {\"color\": \"#636efa\"}, \"name\": \"\", \"offsetgroup\": \"\", \"orientation\": \"v\", \"showlegend\": false, \"textposition\": \"auto\", \"type\": \"bar\", \"x\": [1, 2, 3, 4, 5, 6, 7, 8, 9, 10, 11, 12, 13, 14, 15, 16, 17, 18, 19, 20, 21, 22, 23, 24, 25, 26, 27, 28, 29, 30, 31, 32, 33, 34, 35, 36, 37, 38, 39, 40, 41, 42, 43, 44, 45, 46, 47, 48, 49, 50, 51, 52], \"xaxis\": \"x\", \"y\": [4098.5, 3695.5, 3442.75, 3436.75, 3172.5, 3166.5, 2841.5, 2426.0, 2240.5, 1915.75, 1774.5, 1282.75, 1260.2083333333335, 1103.25, 1218.0, 984.6666666666666, 1017.3333333333334, 940.6666666666666, 860.3333333333334, 715.6666666666666, 709.6666666666666, 709.6666666666666, 725.0, 811.3333333333334, 717.0, 752.3333333333334, 754.0, 695.0, 631.3333333333334, 593.6666666666666, 600.0, 660.3333333333334, 766.6666666666666, 768.6666666666666, 943.0, 1254.3333333333333, 1654.6666666666667, 1975.3333333333333, 1952.2666666666667, 2356.4666666666667, 2963.6666666666665, 3560.0, 2434.222222222222, 3514.0, 3774.3333333333335, 4202.333333333333, 4067.3333333333335, 4112.666666666667, 4376.666666666667, 4567.666666666667, 4006.6666666666665, 5394.666666666667], \"yaxis\": \"y\"}],\n",
       "                        {\"annotations\": [{\"font\": {}, \"showarrow\": false, \"text\": \"\\u30a8\\u30ea\\u30a2\\u540d=\\u7b51\\u8c4a\", \"textangle\": 90, \"x\": 0.98, \"xanchor\": \"left\", \"xref\": \"paper\", \"y\": 0.05857142857142857, \"yanchor\": \"middle\", \"yref\": \"paper\"}, {\"font\": {}, \"showarrow\": false, \"text\": \"\\u30a8\\u30ea\\u30a2\\u540d=\\u798f\\u5ca1\\u5357\", \"textangle\": 90, \"x\": 0.98, \"xanchor\": \"left\", \"xref\": \"paper\", \"y\": 0.2057142857142857, \"yanchor\": \"middle\", \"yref\": \"paper\"}, {\"font\": {}, \"showarrow\": false, \"text\": \"\\u30a8\\u30ea\\u30a2\\u540d=\\u798f\\u5ca1\", \"textangle\": 90, \"x\": 0.98, \"xanchor\": \"left\", \"xref\": \"paper\", \"y\": 0.35285714285714287, \"yanchor\": \"middle\", \"yref\": \"paper\"}, {\"font\": {}, \"showarrow\": false, \"text\": \"\\u30a8\\u30ea\\u30a2\\u540d=\\u5c71\\u53e3\\u897f\", \"textangle\": 90, \"x\": 0.98, \"xanchor\": \"left\", \"xref\": \"paper\", \"y\": 0.49999999999999994, \"yanchor\": \"middle\", \"yref\": \"paper\"}, {\"font\": {}, \"showarrow\": false, \"text\": \"\\u30a8\\u30ea\\u30a2\\u540d=\\u5c0f\\u5009\", \"textangle\": 90, \"x\": 0.98, \"xanchor\": \"left\", \"xref\": \"paper\", \"y\": 0.647142857142857, \"yanchor\": \"middle\", \"yref\": \"paper\"}, {\"font\": {}, \"showarrow\": false, \"text\": \"\\u30a8\\u30ea\\u30a2\\u540d=\\u516b\\u5e61\", \"textangle\": 90, \"x\": 0.98, \"xanchor\": \"left\", \"xref\": \"paper\", \"y\": 0.7942857142857143, \"yanchor\": \"middle\", \"yref\": \"paper\"}, {\"font\": {}, \"showarrow\": false, \"text\": \"\\u30a8\\u30ea\\u30a2\\u540d=\\u4f50\\u8cc0\\u897f\", \"textangle\": 90, \"x\": 0.98, \"xanchor\": \"left\", \"xref\": \"paper\", \"y\": 0.9414285714285713, \"yanchor\": \"middle\", \"yref\": \"paper\"}], \"barmode\": \"relative\", \"height\": 1000, \"legend\": {\"tracegroupgap\": 0}, \"margin\": {\"t\": 60}, \"template\": {\"data\": {\"bar\": [{\"error_x\": {\"color\": \"#2a3f5f\"}, \"error_y\": {\"color\": \"#2a3f5f\"}, \"marker\": {\"line\": {\"color\": \"#E5ECF6\", \"width\": 0.5}}, \"type\": \"bar\"}], \"barpolar\": [{\"marker\": {\"line\": {\"color\": \"#E5ECF6\", \"width\": 0.5}}, \"type\": \"barpolar\"}], \"carpet\": [{\"aaxis\": {\"endlinecolor\": \"#2a3f5f\", \"gridcolor\": \"white\", \"linecolor\": \"white\", \"minorgridcolor\": \"white\", \"startlinecolor\": \"#2a3f5f\"}, \"baxis\": {\"endlinecolor\": \"#2a3f5f\", \"gridcolor\": \"white\", \"linecolor\": \"white\", \"minorgridcolor\": \"white\", \"startlinecolor\": \"#2a3f5f\"}, \"type\": \"carpet\"}], \"choropleth\": [{\"colorbar\": {\"outlinewidth\": 0, \"ticks\": \"\"}, \"type\": \"choropleth\"}], \"contour\": [{\"colorbar\": {\"outlinewidth\": 0, \"ticks\": \"\"}, \"colorscale\": [[0.0, \"#0d0887\"], [0.1111111111111111, \"#46039f\"], [0.2222222222222222, \"#7201a8\"], [0.3333333333333333, \"#9c179e\"], [0.4444444444444444, \"#bd3786\"], [0.5555555555555556, \"#d8576b\"], [0.6666666666666666, \"#ed7953\"], [0.7777777777777778, \"#fb9f3a\"], [0.8888888888888888, \"#fdca26\"], [1.0, \"#f0f921\"]], \"type\": \"contour\"}], \"contourcarpet\": [{\"colorbar\": {\"outlinewidth\": 0, \"ticks\": \"\"}, \"type\": \"contourcarpet\"}], \"heatmap\": [{\"colorbar\": {\"outlinewidth\": 0, \"ticks\": \"\"}, \"colorscale\": [[0.0, \"#0d0887\"], [0.1111111111111111, \"#46039f\"], [0.2222222222222222, \"#7201a8\"], [0.3333333333333333, \"#9c179e\"], [0.4444444444444444, \"#bd3786\"], [0.5555555555555556, \"#d8576b\"], [0.6666666666666666, \"#ed7953\"], [0.7777777777777778, \"#fb9f3a\"], [0.8888888888888888, \"#fdca26\"], [1.0, \"#f0f921\"]], \"type\": \"heatmap\"}], \"heatmapgl\": [{\"colorbar\": {\"outlinewidth\": 0, \"ticks\": \"\"}, \"colorscale\": [[0.0, \"#0d0887\"], [0.1111111111111111, \"#46039f\"], [0.2222222222222222, \"#7201a8\"], [0.3333333333333333, \"#9c179e\"], [0.4444444444444444, \"#bd3786\"], [0.5555555555555556, \"#d8576b\"], [0.6666666666666666, \"#ed7953\"], [0.7777777777777778, \"#fb9f3a\"], [0.8888888888888888, \"#fdca26\"], [1.0, \"#f0f921\"]], \"type\": \"heatmapgl\"}], \"histogram\": [{\"marker\": {\"colorbar\": {\"outlinewidth\": 0, \"ticks\": \"\"}}, \"type\": \"histogram\"}], \"histogram2d\": [{\"colorbar\": {\"outlinewidth\": 0, \"ticks\": \"\"}, \"colorscale\": [[0.0, \"#0d0887\"], [0.1111111111111111, \"#46039f\"], [0.2222222222222222, \"#7201a8\"], [0.3333333333333333, \"#9c179e\"], [0.4444444444444444, \"#bd3786\"], [0.5555555555555556, \"#d8576b\"], [0.6666666666666666, \"#ed7953\"], [0.7777777777777778, \"#fb9f3a\"], [0.8888888888888888, \"#fdca26\"], [1.0, \"#f0f921\"]], \"type\": \"histogram2d\"}], \"histogram2dcontour\": [{\"colorbar\": {\"outlinewidth\": 0, \"ticks\": \"\"}, \"colorscale\": [[0.0, \"#0d0887\"], [0.1111111111111111, \"#46039f\"], [0.2222222222222222, \"#7201a8\"], [0.3333333333333333, \"#9c179e\"], [0.4444444444444444, \"#bd3786\"], [0.5555555555555556, \"#d8576b\"], [0.6666666666666666, \"#ed7953\"], [0.7777777777777778, \"#fb9f3a\"], [0.8888888888888888, \"#fdca26\"], [1.0, \"#f0f921\"]], \"type\": \"histogram2dcontour\"}], \"mesh3d\": [{\"colorbar\": {\"outlinewidth\": 0, \"ticks\": \"\"}, \"type\": \"mesh3d\"}], \"parcoords\": [{\"line\": {\"colorbar\": {\"outlinewidth\": 0, \"ticks\": \"\"}}, \"type\": \"parcoords\"}], \"pie\": [{\"automargin\": true, \"type\": \"pie\"}], \"scatter\": [{\"marker\": {\"colorbar\": {\"outlinewidth\": 0, \"ticks\": \"\"}}, \"type\": \"scatter\"}], \"scatter3d\": [{\"line\": {\"colorbar\": {\"outlinewidth\": 0, \"ticks\": \"\"}}, \"marker\": {\"colorbar\": {\"outlinewidth\": 0, \"ticks\": \"\"}}, \"type\": \"scatter3d\"}], \"scattercarpet\": [{\"marker\": {\"colorbar\": {\"outlinewidth\": 0, \"ticks\": \"\"}}, \"type\": \"scattercarpet\"}], \"scattergeo\": [{\"marker\": {\"colorbar\": {\"outlinewidth\": 0, \"ticks\": \"\"}}, \"type\": \"scattergeo\"}], \"scattergl\": [{\"marker\": {\"colorbar\": {\"outlinewidth\": 0, \"ticks\": \"\"}}, \"type\": \"scattergl\"}], \"scattermapbox\": [{\"marker\": {\"colorbar\": {\"outlinewidth\": 0, \"ticks\": \"\"}}, \"type\": \"scattermapbox\"}], \"scatterpolar\": [{\"marker\": {\"colorbar\": {\"outlinewidth\": 0, \"ticks\": \"\"}}, \"type\": \"scatterpolar\"}], \"scatterpolargl\": [{\"marker\": {\"colorbar\": {\"outlinewidth\": 0, \"ticks\": \"\"}}, \"type\": \"scatterpolargl\"}], \"scatterternary\": [{\"marker\": {\"colorbar\": {\"outlinewidth\": 0, \"ticks\": \"\"}}, \"type\": \"scatterternary\"}], \"surface\": [{\"colorbar\": {\"outlinewidth\": 0, \"ticks\": \"\"}, \"colorscale\": [[0.0, \"#0d0887\"], [0.1111111111111111, \"#46039f\"], [0.2222222222222222, \"#7201a8\"], [0.3333333333333333, \"#9c179e\"], [0.4444444444444444, \"#bd3786\"], [0.5555555555555556, \"#d8576b\"], [0.6666666666666666, \"#ed7953\"], [0.7777777777777778, \"#fb9f3a\"], [0.8888888888888888, \"#fdca26\"], [1.0, \"#f0f921\"]], \"type\": \"surface\"}], \"table\": [{\"cells\": {\"fill\": {\"color\": \"#EBF0F8\"}, \"line\": {\"color\": \"white\"}}, \"header\": {\"fill\": {\"color\": \"#C8D4E3\"}, \"line\": {\"color\": \"white\"}}, \"type\": \"table\"}]}, \"layout\": {\"annotationdefaults\": {\"arrowcolor\": \"#2a3f5f\", \"arrowhead\": 0, \"arrowwidth\": 1}, \"coloraxis\": {\"colorbar\": {\"outlinewidth\": 0, \"ticks\": \"\"}}, \"colorscale\": {\"diverging\": [[0, \"#8e0152\"], [0.1, \"#c51b7d\"], [0.2, \"#de77ae\"], [0.3, \"#f1b6da\"], [0.4, \"#fde0ef\"], [0.5, \"#f7f7f7\"], [0.6, \"#e6f5d0\"], [0.7, \"#b8e186\"], [0.8, \"#7fbc41\"], [0.9, \"#4d9221\"], [1, \"#276419\"]], \"sequential\": [[0.0, \"#0d0887\"], [0.1111111111111111, \"#46039f\"], [0.2222222222222222, \"#7201a8\"], [0.3333333333333333, \"#9c179e\"], [0.4444444444444444, \"#bd3786\"], [0.5555555555555556, \"#d8576b\"], [0.6666666666666666, \"#ed7953\"], [0.7777777777777778, \"#fb9f3a\"], [0.8888888888888888, \"#fdca26\"], [1.0, \"#f0f921\"]], \"sequentialminus\": [[0.0, \"#0d0887\"], [0.1111111111111111, \"#46039f\"], [0.2222222222222222, \"#7201a8\"], [0.3333333333333333, \"#9c179e\"], [0.4444444444444444, \"#bd3786\"], [0.5555555555555556, \"#d8576b\"], [0.6666666666666666, \"#ed7953\"], [0.7777777777777778, \"#fb9f3a\"], [0.8888888888888888, \"#fdca26\"], [1.0, \"#f0f921\"]]}, \"colorway\": [\"#636efa\", \"#EF553B\", \"#00cc96\", \"#ab63fa\", \"#FFA15A\", \"#19d3f3\", \"#FF6692\", \"#B6E880\", \"#FF97FF\", \"#FECB52\"], \"font\": {\"color\": \"#2a3f5f\"}, \"geo\": {\"bgcolor\": \"white\", \"lakecolor\": \"white\", \"landcolor\": \"#E5ECF6\", \"showlakes\": true, \"showland\": true, \"subunitcolor\": \"white\"}, \"hoverlabel\": {\"align\": \"left\"}, \"hovermode\": \"closest\", \"mapbox\": {\"style\": \"light\"}, \"paper_bgcolor\": \"white\", \"plot_bgcolor\": \"#E5ECF6\", \"polar\": {\"angularaxis\": {\"gridcolor\": \"white\", \"linecolor\": \"white\", \"ticks\": \"\"}, \"bgcolor\": \"#E5ECF6\", \"radialaxis\": {\"gridcolor\": \"white\", \"linecolor\": \"white\", \"ticks\": \"\"}}, \"scene\": {\"xaxis\": {\"backgroundcolor\": \"#E5ECF6\", \"gridcolor\": \"white\", \"gridwidth\": 2, \"linecolor\": \"white\", \"showbackground\": true, \"ticks\": \"\", \"zerolinecolor\": \"white\"}, \"yaxis\": {\"backgroundcolor\": \"#E5ECF6\", \"gridcolor\": \"white\", \"gridwidth\": 2, \"linecolor\": \"white\", \"showbackground\": true, \"ticks\": \"\", \"zerolinecolor\": \"white\"}, \"zaxis\": {\"backgroundcolor\": \"#E5ECF6\", \"gridcolor\": \"white\", \"gridwidth\": 2, \"linecolor\": \"white\", \"showbackground\": true, \"ticks\": \"\", \"zerolinecolor\": \"white\"}}, \"shapedefaults\": {\"line\": {\"color\": \"#2a3f5f\"}}, \"ternary\": {\"aaxis\": {\"gridcolor\": \"white\", \"linecolor\": \"white\", \"ticks\": \"\"}, \"baxis\": {\"gridcolor\": \"white\", \"linecolor\": \"white\", \"ticks\": \"\"}, \"bgcolor\": \"#E5ECF6\", \"caxis\": {\"gridcolor\": \"white\", \"linecolor\": \"white\", \"ticks\": \"\"}}, \"title\": {\"x\": 0.05}, \"xaxis\": {\"automargin\": true, \"gridcolor\": \"white\", \"linecolor\": \"white\", \"ticks\": \"\", \"title\": {\"standoff\": 15}, \"zerolinecolor\": \"white\", \"zerolinewidth\": 2}, \"yaxis\": {\"automargin\": true, \"gridcolor\": \"white\", \"linecolor\": \"white\", \"ticks\": \"\", \"title\": {\"standoff\": 15}, \"zerolinecolor\": \"white\", \"zerolinewidth\": 2}}}, \"xaxis\": {\"anchor\": \"y\", \"domain\": [0.0, 0.98], \"title\": {\"text\": \"week\"}}, \"xaxis2\": {\"anchor\": \"y2\", \"domain\": [0.0, 0.98], \"matches\": \"x\", \"showticklabels\": false}, \"xaxis3\": {\"anchor\": \"y3\", \"domain\": [0.0, 0.98], \"matches\": \"x\", \"showticklabels\": false}, \"xaxis4\": {\"anchor\": \"y4\", \"domain\": [0.0, 0.98], \"matches\": \"x\", \"showticklabels\": false}, \"xaxis5\": {\"anchor\": \"y5\", \"domain\": [0.0, 0.98], \"matches\": \"x\", \"showticklabels\": false}, \"xaxis6\": {\"anchor\": \"y6\", \"domain\": [0.0, 0.98], \"matches\": \"x\", \"showticklabels\": false}, \"xaxis7\": {\"anchor\": \"y7\", \"domain\": [0.0, 0.98], \"matches\": \"x\", \"showticklabels\": false}, \"yaxis\": {\"anchor\": \"x\", \"domain\": [0.0, 0.11714285714285715], \"title\": {\"text\": \"\\u58f2\\u4e0a\\u6570\\u91cf\"}}, \"yaxis2\": {\"anchor\": \"x2\", \"domain\": [0.14714285714285713, 0.2642857142857143], \"matches\": \"y\", \"title\": {\"text\": \"\\u58f2\\u4e0a\\u6570\\u91cf\"}}, \"yaxis3\": {\"anchor\": \"x3\", \"domain\": [0.29428571428571426, 0.4114285714285714], \"matches\": \"y\", \"title\": {\"text\": \"\\u58f2\\u4e0a\\u6570\\u91cf\"}}, \"yaxis4\": {\"anchor\": \"x4\", \"domain\": [0.4414285714285714, 0.5585714285714285], \"matches\": \"y\", \"title\": {\"text\": \"\\u58f2\\u4e0a\\u6570\\u91cf\"}}, \"yaxis5\": {\"anchor\": \"x5\", \"domain\": [0.5885714285714285, 0.7057142857142856], \"matches\": \"y\", \"title\": {\"text\": \"\\u58f2\\u4e0a\\u6570\\u91cf\"}}, \"yaxis6\": {\"anchor\": \"x6\", \"domain\": [0.7357142857142858, 0.8528571428571429], \"matches\": \"y\", \"title\": {\"text\": \"\\u58f2\\u4e0a\\u6570\\u91cf\"}}, \"yaxis7\": {\"anchor\": \"x7\", \"domain\": [0.8828571428571428, 0.9999999999999999], \"matches\": \"y\", \"title\": {\"text\": \"\\u58f2\\u4e0a\\u6570\\u91cf\"}}},\n",
       "                        {\"responsive\": true}\n",
       "                    ).then(function(){\n",
       "                            \n",
       "var gd = document.getElementById('52d21ce4-88b8-462a-9c6e-c55d19c4174a');\n",
       "var x = new MutationObserver(function (mutations, observer) {{\n",
       "        var display = window.getComputedStyle(gd).display;\n",
       "        if (!display || display === 'none') {{\n",
       "            console.log([gd, 'removed!']);\n",
       "            Plotly.purge(gd);\n",
       "            observer.disconnect();\n",
       "        }}\n",
       "}});\n",
       "\n",
       "// Listen for the removal of the full notebook cells\n",
       "var notebookContainer = gd.closest('#notebook-container');\n",
       "if (notebookContainer) {{\n",
       "    x.observe(notebookContainer, {childList: true});\n",
       "}}\n",
       "\n",
       "// Listen for the clearing of the current output cell\n",
       "var outputEl = gd.closest('.output');\n",
       "if (outputEl) {{\n",
       "    x.observe(outputEl, {childList: true});\n",
       "}}\n",
       "\n",
       "                        })\n",
       "                };\n",
       "                });\n",
       "            </script>\n",
       "        </div>"
      ]
     },
     "metadata": {},
     "output_type": "display_data"
    }
   ],
   "source": [
    "px.bar(subseason_kouraku_mean, x='week', y='売上数量',facet_row='エリア名',height=1000)"
   ]
  },
  {
   "cell_type": "code",
   "execution_count": 555,
   "metadata": {},
   "outputs": [],
   "source": [
    "notpeak = pd.DataFrame(subseason_kouraku_mean.query(\"week>=45&week<=48\").groupby('エリア名')['売上数量'].mean().reset_index())"
   ]
  },
  {
   "cell_type": "code",
   "execution_count": 556,
   "metadata": {},
   "outputs": [],
   "source": [
    "peaak = pd.DataFrame(subseason_kouraku_mean.query(\"week==52\").groupby('エリア名')['売上数量'].mean().reset_index())"
   ]
  },
  {
   "cell_type": "code",
   "execution_count": 557,
   "metadata": {},
   "outputs": [
    {
     "data": {
      "text/html": [
       "<div>\n",
       "<style scoped>\n",
       "    .dataframe tbody tr th:only-of-type {\n",
       "        vertical-align: middle;\n",
       "    }\n",
       "\n",
       "    .dataframe tbody tr th {\n",
       "        vertical-align: top;\n",
       "    }\n",
       "\n",
       "    .dataframe thead th {\n",
       "        text-align: right;\n",
       "    }\n",
       "</style>\n",
       "<table border=\"1\" class=\"dataframe\">\n",
       "  <thead>\n",
       "    <tr style=\"text-align: right;\">\n",
       "      <th></th>\n",
       "      <th>エリア名</th>\n",
       "      <th>売上数量</th>\n",
       "    </tr>\n",
       "  </thead>\n",
       "  <tbody>\n",
       "    <tr>\n",
       "      <th>0</th>\n",
       "      <td>佐賀西</td>\n",
       "      <td>2021.333333</td>\n",
       "    </tr>\n",
       "    <tr>\n",
       "      <th>1</th>\n",
       "      <td>八幡</td>\n",
       "      <td>2706.333333</td>\n",
       "    </tr>\n",
       "    <tr>\n",
       "      <th>2</th>\n",
       "      <td>小倉</td>\n",
       "      <td>2879.583333</td>\n",
       "    </tr>\n",
       "    <tr>\n",
       "      <th>3</th>\n",
       "      <td>山口西</td>\n",
       "      <td>2553.750000</td>\n",
       "    </tr>\n",
       "    <tr>\n",
       "      <th>4</th>\n",
       "      <td>福岡</td>\n",
       "      <td>2588.083333</td>\n",
       "    </tr>\n",
       "    <tr>\n",
       "      <th>5</th>\n",
       "      <td>福岡南</td>\n",
       "      <td>2484.000000</td>\n",
       "    </tr>\n",
       "    <tr>\n",
       "      <th>6</th>\n",
       "      <td>筑豊</td>\n",
       "      <td>4039.166667</td>\n",
       "    </tr>\n",
       "  </tbody>\n",
       "</table>\n",
       "</div>"
      ],
      "text/plain": [
       "  エリア名         売上数量\n",
       "0  佐賀西  2021.333333\n",
       "1   八幡  2706.333333\n",
       "2   小倉  2879.583333\n",
       "3  山口西  2553.750000\n",
       "4   福岡  2588.083333\n",
       "5  福岡南  2484.000000\n",
       "6   筑豊  4039.166667"
      ]
     },
     "execution_count": 557,
     "metadata": {},
     "output_type": "execute_result"
    }
   ],
   "source": [
    "notpeak"
   ]
  },
  {
   "cell_type": "code",
   "execution_count": 558,
   "metadata": {},
   "outputs": [],
   "source": [
    "peak_merge = notpeak.merge(peaak, how='left', on='エリア名')"
   ]
  },
  {
   "cell_type": "code",
   "execution_count": 559,
   "metadata": {},
   "outputs": [],
   "source": [
    "peak_merge['up'] = peak_merge['売上数量_y'] / peak_merge['売上数量_x']"
   ]
  },
  {
   "cell_type": "code",
   "execution_count": 560,
   "metadata": {},
   "outputs": [
    {
     "data": {
      "text/plain": [
       "1.230534326513774"
      ]
     },
     "execution_count": 560,
     "metadata": {},
     "output_type": "execute_result"
    }
   ],
   "source": [
    "peak_merge['up'].mean()"
   ]
  },
  {
   "cell_type": "code",
   "execution_count": null,
   "metadata": {},
   "outputs": [],
   "source": []
  },
  {
   "cell_type": "code",
   "execution_count": 518,
   "metadata": {},
   "outputs": [],
   "source": [
    "# two_weeks_ago = d + timedelta(weeks=-2)"
   ]
  },
  {
   "cell_type": "code",
   "execution_count": null,
   "metadata": {},
   "outputs": [],
   "source": []
  },
  {
   "cell_type": "code",
   "execution_count": null,
   "metadata": {},
   "outputs": [],
   "source": []
  }
 ],
 "metadata": {
  "kernelspec": {
   "display_name": "Python 3",
   "language": "python",
   "name": "python3"
  },
  "language_info": {
   "codemirror_mode": {
    "name": "ipython",
    "version": 3
   },
   "file_extension": ".py",
   "mimetype": "text/x-python",
   "name": "python",
   "nbconvert_exporter": "python",
   "pygments_lexer": "ipython3",
   "version": "3.6.7"
  }
 },
 "nbformat": 4,
 "nbformat_minor": 2
}
